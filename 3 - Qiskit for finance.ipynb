{
 "cells": [
  {
   "cell_type": "markdown",
   "metadata": {},
   "source": [
    "# Qiskit for Finance\n",
    "\n",
    "Qiskit already provides some of the code we needed to handcraft within its package for finance. We will see hoow already seen methods can be used by simply invoking this functionalities from the package."
   ]
  },
  {
   "cell_type": "code",
   "execution_count": 9,
   "metadata": {},
   "outputs": [],
   "source": [
    "import json\n",
    "import numpy as np\n",
    "\n",
    "data = None\n",
    "with open(\"binance-data.json\", \"r\") as jsonfile:\n",
    "    data = json.load(jsonfile)\n",
    "\n",
    "returns = data['mu']\n",
    "covar = data['sigma']\n",
    "\n",
    "assets = []\n",
    "costs = []\n",
    "for row in data['assets']:\n",
    "    assets.append(row[\"Asset\"])\n",
    "    costs.append(float(row[\"Open\"]))\n",
    "\n",
    "num_assets = len(assets)"
   ]
  },
  {
   "cell_type": "markdown",
   "metadata": {},
   "source": [
    "Now we should set our budget and the risk so that que quadrativ program can be instantiated."
   ]
  },
  {
   "cell_type": "code",
   "execution_count": 25,
   "metadata": {},
   "outputs": [
    {
     "data": {
      "text/plain": [
       "<QuadraticProgram: minimize 0.00024094000060428594*x_0^2 + 0.00022356716389922..., 5 variables, 1 constraints, 'Portfolio optimization'>"
      ]
     },
     "execution_count": 25,
     "metadata": {},
     "output_type": "execute_result"
    }
   ],
   "source": [
    "from qiskit_finance.applications.optimization import PortfolioOptimization\n",
    "\n",
    "q = 0.5  # set risk factor\n",
    "budget = len(assets) // 2  # set budget\n",
    "\n",
    "portfolio = PortfolioOptimization(\n",
    "    expected_returns=returns, covariances=covar, risk_factor=q, budget=budget\n",
    ")\n",
    "qp = portfolio.to_quadratic_program()\n",
    "qp"
   ]
  },
  {
   "cell_type": "code",
   "execution_count": 11,
   "metadata": {},
   "outputs": [
    {
     "name": "stdout",
     "output_type": "stream",
     "text": [
      "0.01593303680419922\n",
      "Optimal: selection [1. 0. 1. 0. 0.], value -0.0017\n",
      "VectorStateFn(Statevector([0.+0.j, 0.+0.j, 0.+0.j, 0.+0.j, 0.+0.j, 1.+0.j, 0.+0.j,\n",
      "             0.+0.j, 0.+0.j, 0.+0.j, 0.+0.j, 0.+0.j, 0.+0.j, 0.+0.j,\n",
      "             0.+0.j, 0.+0.j, 0.+0.j, 0.+0.j, 0.+0.j, 0.+0.j, 0.+0.j,\n",
      "             0.+0.j, 0.+0.j, 0.+0.j, 0.+0.j, 0.+0.j, 0.+0.j, 0.+0.j,\n",
      "             0.+0.j, 0.+0.j, 0.+0.j, 0.+0.j],\n",
      "            dims=(2, 2, 2, 2, 2)))\n",
      "[0.+0.j 0.+0.j 0.+0.j 0.+0.j 0.+0.j 1.+0.j 0.+0.j 0.+0.j 0.+0.j 0.+0.j\n",
      " 0.+0.j 0.+0.j 0.+0.j 0.+0.j 0.+0.j 0.+0.j 0.+0.j 0.+0.j 0.+0.j 0.+0.j\n",
      " 0.+0.j 0.+0.j 0.+0.j 0.+0.j 0.+0.j 0.+0.j 0.+0.j 0.+0.j 0.+0.j 0.+0.j\n",
      " 0.+0.j 0.+0.j]\n",
      "\n",
      "----------------- Full result ---------------------\n",
      "selection\tvalue\t\tprobability\n",
      "---------------------------------------------------\n",
      "[1 0 1 0 0]\t-0.0017\t\t1.0000\n",
      "[1 1 1 1 1]\t9.0856\t\t0.0000\n",
      "[0 1 1 1 1]\t4.0400\t\t0.0000\n",
      "[1 0 0 0 0]\t1.0089\t\t0.0000\n",
      "[0 1 0 0 0]\t1.0095\t\t0.0000\n",
      "[1 1 0 0 0]\t0.0005\t\t0.0000\n",
      "[0 0 1 0 0]\t1.0074\t\t0.0000\n",
      "[0 1 1 0 0]\t-0.0010\t\t0.0000\n",
      "[1 1 1 0 0]\t1.0083\t\t0.0000\n",
      "[0 0 0 1 0]\t1.0106\t\t0.0000\n",
      "[1 0 0 1 0]\t0.0016\t\t0.0000\n",
      "[0 1 0 1 0]\t0.0024\t\t0.0000\n",
      "[1 1 0 1 0]\t1.0117\t\t0.0000\n",
      "[0 0 1 1 0]\t0.0001\t\t0.0000\n",
      "[1 0 1 1 0]\t1.0094\t\t0.0000\n",
      "[0 1 1 1 0]\t1.0102\t\t0.0000\n",
      "[1 1 1 1 0]\t4.0379\t\t0.0000\n",
      "[0 0 0 0 1]\t1.0108\t\t0.0000\n",
      "[1 0 0 0 1]\t0.0013\t\t0.0000\n",
      "[0 1 0 0 1]\t0.0024\t\t0.0000\n",
      "[1 1 0 0 1]\t1.0113\t\t0.0000\n",
      "[0 0 1 0 1]\t0.0002\t\t0.0000\n",
      "[1 0 1 0 1]\t1.0090\t\t0.0000\n",
      "[0 1 1 0 1]\t1.0101\t\t0.0000\n",
      "[1 1 1 0 1]\t4.0374\t\t0.0000\n",
      "[0 0 0 1 1]\t0.0038\t\t0.0000\n",
      "[1 0 0 1 1]\t1.0127\t\t0.0000\n",
      "[0 1 0 1 1]\t1.0139\t\t0.0000\n",
      "[1 1 0 1 1]\t4.0411\t\t0.0000\n",
      "[0 0 1 1 1]\t1.0115\t\t0.0000\n",
      "[1 0 1 1 1]\t4.0387\t\t0.0000\n",
      "[0 0 0 0 0]\t4.0363\t\t0.0000\n"
     ]
    },
    {
     "name": "stderr",
     "output_type": "stream",
     "text": [
      "/var/folders/9k/xq3jd5c90w93s6tc_cws222r0000gn/T/ipykernel_135/4043037418.py:33: DeprecationWarning: The class ``qiskit.algorithms.minimum_eigen_solvers.numpy_minimum_eigen_solver.NumPyMinimumEigensolver`` is deprecated as of qiskit-terra 0.24.0. It will be removed no earlier than 3 months after the release date. Instead, use the class ``qiskit.algorithms.minimum_eigensolvers.NumPyMinimumEigensolver``. See https://qisk.it/algo_migration for a migration guide.\n",
      "  exact_mes = NumPyMinimumEigensolver()\n"
     ]
    }
   ],
   "source": [
    "from qiskit_optimization.converters import QuadraticProgramToQubo\n",
    "from qiskit_optimization.algorithms import MinimumEigenOptimizer\n",
    "from qiskit.algorithms import NumPyMinimumEigensolver\n",
    "import time\n",
    "\n",
    "def index_to_selection(i, num_assets):\n",
    "    s = \"{0:b}\".format(i).rjust(num_assets)\n",
    "    x = np.array([1 if s[i] == \"1\" else 0 for i in reversed(range(num_assets))])\n",
    "    return x\n",
    "\n",
    "def print_result(result):\n",
    "    selection = result.x\n",
    "    value = result.fval\n",
    "    print(\"Optimal: selection {}, value {:.4f}\".format(selection, value))\n",
    "\n",
    "    eigenstate = result.min_eigen_solver_result.eigenstate\n",
    "    \n",
    "    eigenvector = eigenstate if isinstance(eigenstate, np.ndarray) else eigenstate.to_matrix()\n",
    "    print(eigenstate)\n",
    "    print(eigenvector)\n",
    "    probabilities = np.abs(eigenvector) ** 2\n",
    "    i_sorted = reversed(np.argsort(probabilities))\n",
    "    print(\"\\n----------------- Full result ---------------------\")\n",
    "    print(\"selection\\tvalue\\t\\tprobability\")\n",
    "    print(\"---------------------------------------------------\")\n",
    "    for i in i_sorted:\n",
    "        x = index_to_selection(i, num_assets)\n",
    "        value = QuadraticProgramToQubo().convert(qp).objective.evaluate(x)\n",
    "        probability = probabilities[i]\n",
    "        print(\"%10s\\t%.4f\\t\\t%.4f\" % (x, value, probability))\n",
    "\n",
    "start = time.time()\n",
    "exact_mes = NumPyMinimumEigensolver()\n",
    "exact_eigensolver = MinimumEigenOptimizer(exact_mes)\n",
    "\n",
    "result = exact_eigensolver.solve(qp)\n",
    "end = time.time()\n",
    "print(end - start)\n",
    "print_result(result)"
   ]
  },
  {
   "cell_type": "code",
   "execution_count": 12,
   "metadata": {},
   "outputs": [
    {
     "name": "stdout",
     "output_type": "stream",
     "text": [
      "Asset ETHBTC was selected\n",
      "Asset LTCBTC was not selected\n",
      "Asset BNBBTC was selected\n",
      "Asset NEOBTC was not selected\n",
      "Asset QTUMETH was not selected\n"
     ]
    }
   ],
   "source": [
    "for i, val in enumerate(np.round(result.x,1)):\n",
    "    if val == 1:\n",
    "        print(f\"Asset {assets[i]} was selected\")\n",
    "    else:\n",
    "        print(f\"Asset {assets[i]} was not selected\")"
   ]
  },
  {
   "cell_type": "markdown",
   "metadata": {},
   "source": [
    "We can check the selection still holds to the original solution we had for the classical and annealing procedures. Now we will see how it works when solving this very same problem using already mentioned QAOA and VQE algorithms.\n",
    "\n",
    "When dealing with Variation Quantum Algorithms two main things need to be selected:\n",
    "\n",
    "* Optimization procedure to be used\n",
    "* Circuit\n",
    "\n",
    "In nex example COBYLA and a TwoLocal implementation will be used. The TwoLocal circuit can hold several repetitions of the same scheme containing different operations arbitratily chosen."
   ]
  },
  {
   "cell_type": "code",
   "execution_count": 13,
   "metadata": {},
   "outputs": [
    {
     "data": {
      "image/png": "[encoded data removed]",
      "text/plain": [
       "<Figure size 2628.61x451.5 with 1 Axes>"
      ]
     },
     "execution_count": 13,
     "metadata": {},
     "output_type": "execute_result"
    }
   ],
   "source": [
    "from qiskit.circuit.library import TwoLocal\n",
    "\n",
    "ansatz = TwoLocal(num_assets, \"ry\", \"cz\", reps=3, entanglement=\"full\")\n",
    "ansatz.decompose().draw('mpl', fold=150)"
   ]
  },
  {
   "cell_type": "markdown",
   "metadata": {},
   "source": [
    "$\\theta$ parameters for this circuit are the ones that need to be trained so that at the end, the solution with highest success probability shows the result to our problem."
   ]
  },
  {
   "cell_type": "code",
   "execution_count": 14,
   "metadata": {},
   "outputs": [
    {
     "name": "stderr",
     "output_type": "stream",
     "text": [
      "/var/folders/9k/xq3jd5c90w93s6tc_cws222r0000gn/T/ipykernel_135/3918950533.py:13: DeprecationWarning: The class ``qiskit.utils.quantum_instance.QuantumInstance`` is deprecated as of qiskit-terra 0.24.0. It will be removed no earlier than 3 months after the release date. For code migration guidelines, visit https://qisk.it/qi_migration.\n",
      "  quantum_instance = QuantumInstance(backend=backend, seed_simulator=1234, seed_transpiler=1234)\n",
      "/var/folders/9k/xq3jd5c90w93s6tc_cws222r0000gn/T/ipykernel_135/3918950533.py:14: DeprecationWarning: The class ``qiskit.algorithms.minimum_eigen_solvers.vqe.VQE`` is deprecated as of qiskit-terra 0.24.0. It will be removed no earlier than 3 months after the release date. Instead, use the class ``qiskit.algorithms.minimum_eigensolvers.VQE``. See https://qisk.it/algo_migration for a migration guide.\n",
      "  vqe_mes = VQE(ansatz, optimizer=cobyla, quantum_instance=quantum_instance)\n"
     ]
    },
    {
     "name": "stdout",
     "output_type": "stream",
     "text": [
      "Optimal: selection [1. 0. 1. 0. 0.], value -0.0017\n",
      "[-3.25987105e-03+0.j  1.07994637e-02+0.j -1.88478968e-03+0.j\n",
      " -5.82613732e-01+0.j -1.55391393e-02+0.j  5.73306616e-03+0.j\n",
      "  3.76180144e-01+0.j  1.21580493e-03+0.j  2.99421921e-04+0.j\n",
      "  5.66437141e-01+0.j  4.62176450e-03+0.j -8.59654136e-03+0.j\n",
      " -3.87054873e-01+0.j  2.64573211e-04+0.j  1.17297908e-02+0.j\n",
      " -4.36481776e-03+0.j  6.12731985e-03+0.j  1.78653223e-01+0.j\n",
      " -7.36310808e-03+0.j  1.17165875e-03+0.j -1.24323901e-01+0.j\n",
      " -9.85636723e-03+0.j -5.35487678e-04+0.j  6.72234367e-03+0.j\n",
      " -3.54993938e-03+0.j  6.92782892e-03+0.j -7.90751962e-04+0.j\n",
      "  7.74094199e-04+0.j  5.52434694e-03+0.j  3.73113052e-03+0.j\n",
      "  1.15300018e-03+0.j  3.43460824e-03+0.j]\n",
      "[-3.25987105e-03+0.j  1.07994637e-02+0.j -1.88478968e-03+0.j\n",
      " -5.82613732e-01+0.j -1.55391393e-02+0.j  5.73306616e-03+0.j\n",
      "  3.76180144e-01+0.j  1.21580493e-03+0.j  2.99421921e-04+0.j\n",
      "  5.66437141e-01+0.j  4.62176450e-03+0.j -8.59654136e-03+0.j\n",
      " -3.87054873e-01+0.j  2.64573211e-04+0.j  1.17297908e-02+0.j\n",
      " -4.36481776e-03+0.j  6.12731985e-03+0.j  1.78653223e-01+0.j\n",
      " -7.36310808e-03+0.j  1.17165875e-03+0.j -1.24323901e-01+0.j\n",
      " -9.85636723e-03+0.j -5.35487678e-04+0.j  6.72234367e-03+0.j\n",
      " -3.54993938e-03+0.j  6.92782892e-03+0.j -7.90751962e-04+0.j\n",
      "  7.74094199e-04+0.j  5.52434694e-03+0.j  3.73113052e-03+0.j\n",
      "  1.15300018e-03+0.j  3.43460824e-03+0.j]\n",
      "\n",
      "----------------- Full result ---------------------\n",
      "selection\tvalue\t\tprobability\n",
      "---------------------------------------------------\n",
      "[1 1 0 0 0]\t0.0005\t\t0.3394\n",
      "[1 0 0 1 0]\t0.0016\t\t0.3209\n",
      "[0 0 1 1 0]\t0.0001\t\t0.1498\n",
      "[0 1 1 0 0]\t-0.0010\t\t0.1415\n",
      "[1 0 0 0 1]\t0.0013\t\t0.0319\n",
      "[0 0 1 0 1]\t0.0002\t\t0.0155\n",
      "[0 0 1 0 0]\t1.0074\t\t0.0002\n",
      "[0 1 1 1 0]\t1.0102\t\t0.0001\n",
      "[1 0 0 0 0]\t1.0089\t\t0.0001\n",
      "[1 0 1 0 1]\t1.0090\t\t0.0001\n",
      "[1 1 0 1 0]\t1.0117\t\t0.0001\n",
      "[0 1 0 0 1]\t0.0024\t\t0.0001\n",
      "[1 0 0 1 1]\t1.0127\t\t0.0000\n",
      "[1 1 1 0 1]\t4.0374\t\t0.0000\n",
      "[0 0 0 0 1]\t1.0108\t\t0.0000\n",
      "[1 0 1 0 0]\t-0.0017\t\t0.0000\n",
      "[0 0 1 1 1]\t1.0115\t\t0.0000\n",
      "[0 1 0 1 0]\t0.0024\t\t0.0000\n",
      "[1 1 1 1 0]\t4.0379\t\t0.0000\n",
      "[1 0 1 1 1]\t4.0387\t\t0.0000\n",
      "[0 0 0 1 1]\t0.0038\t\t0.0000\n",
      "[1 1 1 1 1]\t9.0856\t\t0.0000\n",
      "[0 0 0 0 0]\t4.0363\t\t0.0000\n",
      "[0 1 0 0 0]\t1.0095\t\t0.0000\n",
      "[1 1 1 0 0]\t1.0083\t\t0.0000\n",
      "[1 1 0 0 1]\t1.0113\t\t0.0000\n",
      "[0 1 1 1 1]\t4.0400\t\t0.0000\n",
      "[0 1 0 1 1]\t1.0139\t\t0.0000\n",
      "[1 1 0 1 1]\t4.0411\t\t0.0000\n",
      "[0 1 1 0 1]\t1.0101\t\t0.0000\n",
      "[0 0 0 1 0]\t1.0106\t\t0.0000\n",
      "[1 0 1 1 0]\t1.0094\t\t0.0000\n"
     ]
    }
   ],
   "source": [
    "from qiskit import Aer\n",
    "from qiskit.algorithms import VQE\n",
    "from qiskit.algorithms.optimizers import COBYLA\n",
    "from qiskit.utils import QuantumInstance\n",
    "from qiskit.utils import algorithm_globals\n",
    "\n",
    "algorithm_globals.random_seed = 1234\n",
    "backend = Aer.get_backend(\"statevector_simulator\")\n",
    "\n",
    "cobyla = COBYLA()\n",
    "cobyla.set_options(maxiter=500)\n",
    "\n",
    "quantum_instance = QuantumInstance(backend=backend, seed_simulator=1234, seed_transpiler=1234)\n",
    "vqe_mes = VQE(ansatz, optimizer=cobyla, quantum_instance=quantum_instance)\n",
    "vqe = MinimumEigenOptimizer(vqe_mes)\n",
    "result = vqe.solve(qp)\n",
    "\n",
    "print_result(result)"
   ]
  },
  {
   "cell_type": "markdown",
   "metadata": {},
   "source": [
    "At this point it is important we pay attention at the probability column. This column states how plausible it is that using this circuit with found parameters we may found the optimal result. Our candidate solution has relativelly low probability, which means we should find better designs to increase our chances. We can easilly test how it would look like by adding more repetitions to the ansatz."
   ]
  },
  {
   "cell_type": "code",
   "execution_count": 15,
   "metadata": {},
   "outputs": [
    {
     "name": "stderr",
     "output_type": "stream",
     "text": [
      "/var/folders/9k/xq3jd5c90w93s6tc_cws222r0000gn/T/ipykernel_135/1953179319.py:6: DeprecationWarning: The class ``qiskit.utils.quantum_instance.QuantumInstance`` is deprecated as of qiskit-terra 0.24.0. It will be removed no earlier than 3 months after the release date. For code migration guidelines, visit https://qisk.it/qi_migration.\n",
      "  quantum_instance = QuantumInstance(backend=backend, seed_simulator=1234, seed_transpiler=1234)\n",
      "/var/folders/9k/xq3jd5c90w93s6tc_cws222r0000gn/T/ipykernel_135/1953179319.py:7: DeprecationWarning: The class ``qiskit.algorithms.minimum_eigen_solvers.vqe.VQE`` is deprecated as of qiskit-terra 0.24.0. It will be removed no earlier than 3 months after the release date. Instead, use the class ``qiskit.algorithms.minimum_eigensolvers.VQE``. See https://qisk.it/algo_migration for a migration guide.\n",
      "  vqe_mes = VQE(ansatz, optimizer=cobyla, quantum_instance=quantum_instance)\n"
     ]
    },
    {
     "name": "stdout",
     "output_type": "stream",
     "text": [
      "Optimal: selection [1. 0. 1. 0. 0.], value -0.0017\n",
      "[-5.09969885e-05+0.j  4.06746915e-03+0.j -4.95344038e-02+0.j\n",
      " -1.00799320e-01+0.j  6.88107809e-03+0.j -9.05631063e-01+0.j\n",
      " -9.47628519e-02+0.j  3.42506467e-04+0.j -1.44955063e-03+0.j\n",
      " -2.02399434e-01+0.j  1.09932070e-01+0.j  2.03339275e-02+0.j\n",
      "  2.27829024e-01+0.j -6.14906027e-04+0.j -1.15911020e-02+0.j\n",
      "  2.18782320e-03+0.j -1.71520399e-02+0.j  1.58750975e-01+0.j\n",
      "  1.07376451e-02+0.j  4.46300590e-03+0.j -8.72860684e-02+0.j\n",
      "  5.32101461e-03+0.j -1.18888643e-02+0.j  1.99613524e-03+0.j\n",
      " -1.37724608e-01+0.j -6.26634622e-03+0.j -1.45054922e-02+0.j\n",
      " -2.68915319e-03+0.j  1.30302583e-03+0.j -2.62731493e-03+0.j\n",
      "  1.18443213e-03+0.j  1.92420675e-03+0.j]\n",
      "[-5.09969885e-05+0.j  4.06746915e-03+0.j -4.95344038e-02+0.j\n",
      " -1.00799320e-01+0.j  6.88107809e-03+0.j -9.05631063e-01+0.j\n",
      " -9.47628519e-02+0.j  3.42506467e-04+0.j -1.44955063e-03+0.j\n",
      " -2.02399434e-01+0.j  1.09932070e-01+0.j  2.03339275e-02+0.j\n",
      "  2.27829024e-01+0.j -6.14906027e-04+0.j -1.15911020e-02+0.j\n",
      "  2.18782320e-03+0.j -1.71520399e-02+0.j  1.58750975e-01+0.j\n",
      "  1.07376451e-02+0.j  4.46300590e-03+0.j -8.72860684e-02+0.j\n",
      "  5.32101461e-03+0.j -1.18888643e-02+0.j  1.99613524e-03+0.j\n",
      " -1.37724608e-01+0.j -6.26634622e-03+0.j -1.45054922e-02+0.j\n",
      " -2.68915319e-03+0.j  1.30302583e-03+0.j -2.62731493e-03+0.j\n",
      "  1.18443213e-03+0.j  1.92420675e-03+0.j]\n",
      "\n",
      "----------------- Full result ---------------------\n",
      "selection\tvalue\t\tprobability\n",
      "---------------------------------------------------\n",
      "[1 0 1 0 0]\t-0.0017\t\t0.8202\n",
      "[0 0 1 1 0]\t0.0001\t\t0.0519\n",
      "[1 0 0 1 0]\t0.0016\t\t0.0410\n",
      "[1 0 0 0 1]\t0.0013\t\t0.0252\n",
      "[0 0 0 1 1]\t0.0038\t\t0.0190\n",
      "[0 1 0 1 0]\t0.0024\t\t0.0121\n",
      "[1 1 0 0 0]\t0.0005\t\t0.0102\n",
      "[0 1 1 0 0]\t-0.0010\t\t0.0090\n",
      "[0 0 1 0 1]\t0.0002\t\t0.0076\n",
      "[0 1 0 0 0]\t1.0095\t\t0.0025\n",
      "[1 1 0 1 0]\t1.0117\t\t0.0004\n",
      "[0 0 0 0 1]\t1.0108\t\t0.0003\n",
      "[0 1 0 1 1]\t1.0139\t\t0.0002\n",
      "[0 1 1 0 1]\t1.0101\t\t0.0001\n",
      "[0 1 1 1 0]\t1.0102\t\t0.0001\n",
      "[0 1 0 0 1]\t0.0024\t\t0.0001\n",
      "[0 0 1 0 0]\t1.0074\t\t0.0000\n",
      "[1 0 0 1 1]\t1.0127\t\t0.0000\n",
      "[1 0 1 0 1]\t1.0090\t\t0.0000\n",
      "[1 1 0 0 1]\t1.0113\t\t0.0000\n",
      "[1 0 0 0 0]\t1.0089\t\t0.0000\n",
      "[1 1 0 1 1]\t4.0411\t\t0.0000\n",
      "[1 0 1 1 1]\t4.0387\t\t0.0000\n",
      "[1 1 1 1 0]\t4.0379\t\t0.0000\n",
      "[1 1 1 0 1]\t4.0374\t\t0.0000\n",
      "[1 1 1 1 1]\t9.0856\t\t0.0000\n",
      "[0 0 0 1 0]\t1.0106\t\t0.0000\n",
      "[0 0 1 1 1]\t1.0115\t\t0.0000\n",
      "[0 1 1 1 1]\t4.0400\t\t0.0000\n",
      "[1 0 1 1 0]\t1.0094\t\t0.0000\n",
      "[1 1 1 0 0]\t1.0083\t\t0.0000\n",
      "[0 0 0 0 0]\t4.0363\t\t0.0000\n"
     ]
    }
   ],
   "source": [
    "ansatz = TwoLocal(num_assets, \"ry\", \"cz\", reps=6, entanglement=\"full\")\n",
    "\n",
    "cobyla = COBYLA()\n",
    "cobyla.set_options(maxiter=500)\n",
    "\n",
    "quantum_instance = QuantumInstance(backend=backend, seed_simulator=1234, seed_transpiler=1234)\n",
    "vqe_mes = VQE(ansatz, optimizer=cobyla, quantum_instance=quantum_instance)\n",
    "vqe = MinimumEigenOptimizer(vqe_mes)\n",
    "result = vqe.solve(qp)\n",
    "\n",
    "print_result(result)"
   ]
  },
  {
   "cell_type": "markdown",
   "metadata": {},
   "source": [
    "Right now we reached 20% chances of seeing this state on a single run of our circuit. We could then simulate lets say for 5 runs so that way we most probably would register classically that state at least once."
   ]
  },
  {
   "cell_type": "code",
   "execution_count": 16,
   "metadata": {},
   "outputs": [],
   "source": [
    "best_parameters = None\n",
    "for key, value in vqe_mes.__dict__.items():\n",
    "    if key == \"_ret\":\n",
    "        best_parameters = value.optimal_parameters"
   ]
  },
  {
   "cell_type": "markdown",
   "metadata": {},
   "source": [
    "We can try with a different approach, in this case QAOA. For that, only number of layers to repeat the canonical form of the ansatz need to be provided."
   ]
  },
  {
   "cell_type": "code",
   "execution_count": 17,
   "metadata": {},
   "outputs": [
    {
     "name": "stderr",
     "output_type": "stream",
     "text": [
      "/var/folders/9k/xq3jd5c90w93s6tc_cws222r0000gn/T/ipykernel_135/642958907.py:4: DeprecationWarning: The class ``qiskit.algorithms.minimum_eigen_solvers.qaoa.QAOA`` is deprecated as of qiskit-terra 0.24.0. It will be removed no earlier than 3 months after the release date. Instead, use the class ``qiskit.algorithms.minimum_eigensolvers.QAOA``. See https://qisk.it/algo_migration for a migration guide.\n",
      "  qaoa_mes = QAOA(optimizer=cobyla, reps=layers, quantum_instance=quantum_instance)\n"
     ]
    },
    {
     "name": "stdout",
     "output_type": "stream",
     "text": [
      "Optimal: selection [1. 0. 1. 0. 0.], value -0.0017\n",
      "[-0.03427097-0.00753174j -0.0889616 +0.0659937j  -0.08906016+0.06622753j\n",
      "  0.25313528-0.09188768j -0.08858751+0.06574811j  0.25269977-0.09118125j\n",
      "  0.25280153-0.09152751j -0.14182078-0.00241661j -0.08929432+0.06649502j\n",
      "  0.25334686-0.092286j    0.25348254-0.09261473j -0.14296359-0.00140679j\n",
      "  0.25301631-0.0919221j  -0.14220578-0.00205292j -0.14252726-0.0017613j\n",
      " -0.00856039-0.02385619j -0.08938956+0.06641518j  0.25329824-0.09223861j\n",
      "  0.2535235 -0.09251249j -0.14280097-0.00143311j  0.25306165-0.09181737j\n",
      " -0.14204743-0.002081j   -0.14243978-0.00182669j -0.00873192-0.02396397j\n",
      "  0.25381162-0.09286679j -0.14324394-0.00109643j -0.1436649 -0.00085408j\n",
      " -0.00770657-0.02376149j -0.14288538-0.00149269j -0.00836128-0.02388131j\n",
      " -0.00799521-0.02375641j -0.06375374-0.02051929j]\n",
      "[-0.03427097-0.00753174j -0.0889616 +0.0659937j  -0.08906016+0.06622753j\n",
      "  0.25313528-0.09188768j -0.08858751+0.06574811j  0.25269977-0.09118125j\n",
      "  0.25280153-0.09152751j -0.14182078-0.00241661j -0.08929432+0.06649502j\n",
      "  0.25334686-0.092286j    0.25348254-0.09261473j -0.14296359-0.00140679j\n",
      "  0.25301631-0.0919221j  -0.14220578-0.00205292j -0.14252726-0.0017613j\n",
      " -0.00856039-0.02385619j -0.08938956+0.06641518j  0.25329824-0.09223861j\n",
      "  0.2535235 -0.09251249j -0.14280097-0.00143311j  0.25306165-0.09181737j\n",
      " -0.14204743-0.002081j   -0.14243978-0.00182669j -0.00873192-0.02396397j\n",
      "  0.25381162-0.09286679j -0.14324394-0.00109643j -0.1436649 -0.00085408j\n",
      " -0.00770657-0.02376149j -0.14288538-0.00149269j -0.00836128-0.02388131j\n",
      " -0.00799521-0.02375641j -0.06375374-0.02051929j]\n",
      "\n",
      "----------------- Full result ---------------------\n",
      "selection\tvalue\t\tprobability\n",
      "---------------------------------------------------\n",
      "[0 0 0 1 1]\t0.0038\t\t0.0730\n",
      "[0 1 0 0 1]\t0.0024\t\t0.0728\n",
      "[0 1 0 1 0]\t0.0024\t\t0.0728\n",
      "[1 0 0 1 0]\t0.0016\t\t0.0727\n",
      "[1 0 0 0 1]\t0.0013\t\t0.0727\n",
      "[1 1 0 0 0]\t0.0005\t\t0.0725\n",
      "[0 0 1 0 1]\t0.0002\t\t0.0725\n",
      "[0 0 1 1 0]\t0.0001\t\t0.0725\n",
      "[0 1 1 0 0]\t-0.0010\t\t0.0723\n",
      "[1 0 1 0 0]\t-0.0017\t\t0.0722\n",
      "[0 1 0 1 1]\t1.0139\t\t0.0206\n",
      "[1 0 0 1 1]\t1.0127\t\t0.0205\n",
      "[1 1 0 1 0]\t1.0117\t\t0.0204\n",
      "[0 0 1 1 1]\t1.0115\t\t0.0204\n",
      "[1 1 0 0 1]\t1.0113\t\t0.0204\n",
      "[0 1 1 1 0]\t1.0102\t\t0.0203\n",
      "[0 1 1 0 1]\t1.0101\t\t0.0203\n",
      "[1 0 1 1 0]\t1.0094\t\t0.0202\n",
      "[1 0 1 0 1]\t1.0090\t\t0.0202\n",
      "[1 1 1 0 0]\t1.0083\t\t0.0201\n",
      "[0 0 0 0 1]\t1.0108\t\t0.0124\n",
      "[0 0 0 1 0]\t1.0106\t\t0.0124\n",
      "[0 1 0 0 0]\t1.0095\t\t0.0123\n",
      "[1 0 0 0 0]\t1.0089\t\t0.0123\n",
      "[0 0 1 0 0]\t1.0074\t\t0.0122\n",
      "[1 1 1 1 1]\t9.0856\t\t0.0045\n",
      "[0 0 0 0 0]\t4.0363\t\t0.0012\n",
      "[1 1 1 0 1]\t4.0374\t\t0.0007\n",
      "[1 1 1 1 0]\t4.0379\t\t0.0006\n",
      "[1 0 1 1 1]\t4.0387\t\t0.0006\n",
      "[0 1 1 1 1]\t4.0400\t\t0.0006\n",
      "[1 1 0 1 1]\t4.0411\t\t0.0006\n"
     ]
    }
   ],
   "source": [
    "from qiskit.algorithms import QAOA\n",
    "\n",
    "layers = 2\n",
    "qaoa_mes = QAOA(optimizer=cobyla, reps=layers, quantum_instance=quantum_instance)\n",
    "qaoa = MinimumEigenOptimizer(qaoa_mes)\n",
    "result = qaoa.solve(qp)\n",
    "\n",
    "print_result(result)"
   ]
  },
  {
   "cell_type": "code",
   "execution_count": 18,
   "metadata": {},
   "outputs": [
    {
     "name": "stderr",
     "output_type": "stream",
     "text": [
      "/var/folders/9k/xq3jd5c90w93s6tc_cws222r0000gn/T/ipykernel_135/1447556634.py:3: DeprecationWarning: The class ``qiskit.algorithms.minimum_eigen_solvers.qaoa.QAOA`` is deprecated as of qiskit-terra 0.24.0. It will be removed no earlier than 3 months after the release date. Instead, use the class ``qiskit.algorithms.minimum_eigensolvers.QAOA``. See https://qisk.it/algo_migration for a migration guide.\n",
      "  qaoa_mes = QAOA(optimizer=cobyla, reps=layers, quantum_instance=quantum_instance)\n"
     ]
    },
    {
     "name": "stdout",
     "output_type": "stream",
     "text": [
      "Optimal: selection [1. 0. 1. 0. 0.], value -0.0017\n",
      "[-0.0929218 +0.03369432j  0.10294175-0.10231889j  0.10327557-0.1033128j\n",
      "  0.19036726-0.20265464j  0.10307814-0.10106012j  0.19099815-0.19924157j\n",
      "  0.19089811-0.20078597j  0.08501028-0.05133719j  0.10342488-0.10454922j\n",
      "  0.19006229-0.20454677j  0.18985227-0.20601955j  0.08549222-0.05382508j\n",
      "  0.1905951 -0.20266245j  0.08523074-0.0522375j   0.08534037-0.0529242j\n",
      " -0.02766729-0.01560413j  0.10307683-0.10430947j  0.19021623-0.20444774j\n",
      "  0.18977859-0.20568198j  0.08577346-0.05387218j  0.19050685-0.20231618j\n",
      "  0.08549913-0.05227462j  0.08539408-0.0528181j  -0.02748662-0.01549334j\n",
      "  0.18926264-0.20738207j  0.08580959-0.05467389j  0.08561255-0.05516783j\n",
      " -0.0275336 -0.01493342j  0.08542576-0.05360715j -0.02752426-0.01531118j\n",
      " -0.02766703-0.01525774j  0.01396698+0.02845487j]\n",
      "[-0.0929218 +0.03369432j  0.10294175-0.10231889j  0.10327557-0.1033128j\n",
      "  0.19036726-0.20265464j  0.10307814-0.10106012j  0.19099815-0.19924157j\n",
      "  0.19089811-0.20078597j  0.08501028-0.05133719j  0.10342488-0.10454922j\n",
      "  0.19006229-0.20454677j  0.18985227-0.20601955j  0.08549222-0.05382508j\n",
      "  0.1905951 -0.20266245j  0.08523074-0.0522375j   0.08534037-0.0529242j\n",
      " -0.02766729-0.01560413j  0.10307683-0.10430947j  0.19021623-0.20444774j\n",
      "  0.18977859-0.20568198j  0.08577346-0.05387218j  0.19050685-0.20231618j\n",
      "  0.08549913-0.05227462j  0.08539408-0.0528181j  -0.02748662-0.01549334j\n",
      "  0.18926264-0.20738207j  0.08580959-0.05467389j  0.08561255-0.05516783j\n",
      " -0.0275336 -0.01493342j  0.08542576-0.05360715j -0.02752426-0.01531118j\n",
      " -0.02766703-0.01525774j  0.01396698+0.02845487j]\n",
      "\n",
      "----------------- Full result ---------------------\n",
      "selection\tvalue\t\tprobability\n",
      "---------------------------------------------------\n",
      "[0 0 0 1 1]\t0.0038\t\t0.0788\n",
      "[0 1 0 1 0]\t0.0024\t\t0.0785\n",
      "[0 1 0 0 1]\t0.0024\t\t0.0783\n",
      "[1 0 0 0 1]\t0.0013\t\t0.0780\n",
      "[1 0 0 1 0]\t0.0016\t\t0.0780\n",
      "[0 0 1 1 0]\t0.0001\t\t0.0774\n",
      "[1 1 0 0 0]\t0.0005\t\t0.0773\n",
      "[0 0 1 0 1]\t0.0002\t\t0.0772\n",
      "[0 1 1 0 0]\t-0.0010\t\t0.0768\n",
      "[1 0 1 0 0]\t-0.0017\t\t0.0762\n",
      "[0 0 0 1 0]\t1.0106\t\t0.0216\n",
      "[0 0 0 0 1]\t1.0108\t\t0.0215\n",
      "[0 1 0 0 0]\t1.0095\t\t0.0213\n",
      "[1 0 0 0 0]\t1.0089\t\t0.0211\n",
      "[0 0 1 0 0]\t1.0074\t\t0.0208\n",
      "[0 1 0 1 1]\t1.0139\t\t0.0104\n",
      "[1 0 0 1 1]\t1.0127\t\t0.0104\n",
      "[1 1 0 0 1]\t1.0113\t\t0.0103\n",
      "[1 1 0 1 0]\t1.0117\t\t0.0102\n",
      "[0 0 1 1 1]\t1.0115\t\t0.0102\n",
      "[0 1 1 1 0]\t1.0102\t\t0.0101\n",
      "[0 1 1 0 1]\t1.0101\t\t0.0101\n",
      "[1 0 1 0 1]\t1.0090\t\t0.0100\n",
      "[1 0 1 1 0]\t1.0094\t\t0.0100\n",
      "[1 1 1 0 0]\t1.0083\t\t0.0099\n",
      "[0 0 0 0 0]\t4.0363\t\t0.0098\n",
      "[1 1 1 1 0]\t4.0379\t\t0.0010\n",
      "[1 1 1 1 1]\t9.0856\t\t0.0010\n",
      "[0 1 1 1 1]\t4.0400\t\t0.0010\n",
      "[1 1 1 0 1]\t4.0374\t\t0.0010\n",
      "[1 0 1 1 1]\t4.0387\t\t0.0010\n",
      "[1 1 0 1 1]\t4.0411\t\t0.0010\n"
     ]
    }
   ],
   "source": [
    "layers = 5\n",
    "\n",
    "qaoa_mes = QAOA(optimizer=cobyla, reps=layers, quantum_instance=quantum_instance)\n",
    "qaoa = MinimumEigenOptimizer(qaoa_mes)\n",
    "result = qaoa.solve(qp)\n",
    "\n",
    "print_result(result)"
   ]
  },
  {
   "cell_type": "markdown",
   "metadata": {},
   "source": [
    "In this case, the depth of the circuit did not make much in favor of our outcome as the chances of getting the optimal solution decreased from almost 8% to 6%."
   ]
  },
  {
   "cell_type": "code",
   "execution_count": 19,
   "metadata": {},
   "outputs": [
    {
     "name": "stdout",
     "output_type": "stream",
     "text": [
      "Optimal: selection [1. 0. 1. 0. 0.], value -0.0017\n",
      "[ 0.05387021-0.01560786j  0.03953863+0.14404813j  0.04016809+0.14398251j\n",
      "  0.00592445+0.25562385j  0.03841131+0.14364664j  0.00317689+0.25469794j\n",
      "  0.00415846+0.25491276j -0.0447985 +0.14127912j  0.04110116+0.14411456j\n",
      "  0.00735998+0.25605932j  0.00843939+0.25634365j -0.04229445+0.14337073j\n",
      "  0.00559681+0.25536609j -0.04396999+0.14195794j -0.04335776+0.14251698j\n",
      "  0.01691574-0.02131034j  0.04111088+0.14435876j  0.00704958+0.2559124j\n",
      "  0.00836602+0.25642393j -0.042486  +0.14298246j  0.00553484+0.2554569j\n",
      " -0.04415014+0.14158104j -0.04341418+0.14237578j  0.01705474-0.02152032j\n",
      "  0.0100129 +0.2570378j  -0.04153903+0.14383814j -0.04073354+0.14471192j\n",
      "  0.01670789-0.02072377j -0.04246902+0.14324616j  0.01691508-0.02122723j\n",
      "  0.01673505-0.02088607j  0.0622203 +0.02281879j]\n",
      "[ 0.05387021-0.01560786j  0.03953863+0.14404813j  0.04016809+0.14398251j\n",
      "  0.00592445+0.25562385j  0.03841131+0.14364664j  0.00317689+0.25469794j\n",
      "  0.00415846+0.25491276j -0.0447985 +0.14127912j  0.04110116+0.14411456j\n",
      "  0.00735998+0.25605932j  0.00843939+0.25634365j -0.04229445+0.14337073j\n",
      "  0.00559681+0.25536609j -0.04396999+0.14195794j -0.04335776+0.14251698j\n",
      "  0.01691574-0.02131034j  0.04111088+0.14435876j  0.00704958+0.2559124j\n",
      "  0.00836602+0.25642393j -0.042486  +0.14298246j  0.00553484+0.2554569j\n",
      " -0.04415014+0.14158104j -0.04341418+0.14237578j  0.01705474-0.02152032j\n",
      "  0.0100129 +0.2570378j  -0.04153903+0.14383814j -0.04073354+0.14471192j\n",
      "  0.01670789-0.02072377j -0.04246902+0.14324616j  0.01691508-0.02122723j\n",
      "  0.01673505-0.02088607j  0.0622203 +0.02281879j]\n",
      "\n",
      "----------------- Full result ---------------------\n",
      "selection\tvalue\t\tprobability\n",
      "---------------------------------------------------\n",
      "[0 0 0 1 1]\t0.0038\t\t0.0662\n",
      "[0 1 0 0 1]\t0.0024\t\t0.0658\n",
      "[0 1 0 1 0]\t0.0024\t\t0.0658\n",
      "[1 0 0 1 0]\t0.0016\t\t0.0656\n",
      "[1 0 0 0 1]\t0.0013\t\t0.0655\n",
      "[1 1 0 0 0]\t0.0005\t\t0.0654\n",
      "[0 0 1 0 1]\t0.0002\t\t0.0653\n",
      "[0 0 1 1 0]\t0.0001\t\t0.0652\n",
      "[0 1 1 0 0]\t-0.0010\t\t0.0650\n",
      "[1 0 1 0 0]\t-0.0017\t\t0.0649\n",
      "[0 1 0 1 1]\t1.0139\t\t0.0226\n",
      "[0 0 0 0 1]\t1.0108\t\t0.0225\n",
      "[0 0 0 1 0]\t1.0106\t\t0.0225\n",
      "[1 0 0 1 1]\t1.0127\t\t0.0224\n",
      "[0 1 0 0 0]\t1.0095\t\t0.0223\n",
      "[1 1 0 1 0]\t1.0117\t\t0.0223\n",
      "[0 0 1 1 1]\t1.0115\t\t0.0223\n",
      "[1 0 0 0 0]\t1.0089\t\t0.0223\n",
      "[1 1 0 0 1]\t1.0113\t\t0.0222\n",
      "[0 1 1 1 0]\t1.0102\t\t0.0222\n",
      "[0 1 1 0 1]\t1.0101\t\t0.0222\n",
      "[0 0 1 0 0]\t1.0074\t\t0.0221\n",
      "[1 0 1 1 0]\t1.0094\t\t0.0221\n",
      "[1 0 1 0 1]\t1.0090\t\t0.0220\n",
      "[1 1 1 0 0]\t1.0083\t\t0.0220\n",
      "[1 1 1 1 1]\t9.0856\t\t0.0044\n",
      "[0 0 0 0 0]\t4.0363\t\t0.0031\n",
      "[1 1 1 0 1]\t4.0374\t\t0.0008\n",
      "[1 1 1 1 0]\t4.0379\t\t0.0007\n",
      "[1 0 1 1 1]\t4.0387\t\t0.0007\n",
      "[0 1 1 1 1]\t4.0400\t\t0.0007\n",
      "[1 1 0 1 1]\t4.0411\t\t0.0007\n"
     ]
    },
    {
     "name": "stderr",
     "output_type": "stream",
     "text": [
      "/var/folders/9k/xq3jd5c90w93s6tc_cws222r0000gn/T/ipykernel_135/2620542453.py:3: DeprecationWarning: The class ``qiskit.algorithms.minimum_eigen_solvers.qaoa.QAOA`` is deprecated as of qiskit-terra 0.24.0. It will be removed no earlier than 3 months after the release date. Instead, use the class ``qiskit.algorithms.minimum_eigensolvers.QAOA``. See https://qisk.it/algo_migration for a migration guide.\n",
      "  qaoa_mes = QAOA(optimizer=cobyla, reps=layers, quantum_instance=quantum_instance)\n"
     ]
    }
   ],
   "source": [
    "layers = 1\n",
    "\n",
    "qaoa_mes = QAOA(optimizer=cobyla, reps=layers, quantum_instance=quantum_instance)\n",
    "qaoa = MinimumEigenOptimizer(qaoa_mes)\n",
    "result = qaoa.solve(qp)\n",
    "\n",
    "print_result(result)"
   ]
  },
  {
   "cell_type": "markdown",
   "metadata": {},
   "source": [
    "As it also happends with classical ML and QML approaches, design is key for solving the problem with a high success rate for obtaining the best possible solution. Lets run our best solution up to now and see how the outcome would look like."
   ]
  },
  {
   "cell_type": "code",
   "execution_count": 20,
   "metadata": {},
   "outputs": [
    {
     "data": {
      "image/png": "[encoded data removed]",
      "text/plain": [
       "<Figure size 1290.83x535.111 with 1 Axes>"
      ]
     },
     "execution_count": 20,
     "metadata": {},
     "output_type": "execute_result"
    }
   ],
   "source": [
    "from qiskit import QuantumCircuit\n",
    "\n",
    "qc = QuantumCircuit(num_assets,num_assets)\n",
    "\n",
    "# VQE Two Local ansatz\n",
    "qc.compose(ansatz, inplace=True)\n",
    "\n",
    "# Measures\n",
    "for i in range(0, num_assets):\n",
    "    qc.measure(i, i)\n",
    "\n",
    "qc.draw('mpl', fold=150)"
   ]
  },
  {
   "cell_type": "code",
   "execution_count": 21,
   "metadata": {},
   "outputs": [
    {
     "data": {
      "image/png": "[encoded data removed]",
      "text/plain": [
       "<Figure size 1374.44x535.111 with 1 Axes>"
      ]
     },
     "execution_count": 21,
     "metadata": {},
     "output_type": "execute_result"
    }
   ],
   "source": [
    "pqc = qc.bind_parameters(best_parameters)\n",
    "pqc.draw('mpl', fold=150)"
   ]
  },
  {
   "cell_type": "code",
   "execution_count": 22,
   "metadata": {},
   "outputs": [
    {
     "data": {
      "image/png": "[encoded data removed]",
      "text/plain": [
       "<Figure size 700x500 with 1 Axes>"
      ]
     },
     "execution_count": 22,
     "metadata": {},
     "output_type": "execute_result"
    }
   ],
   "source": [
    "from qiskit import Aer, execute\n",
    "from qiskit.visualization import plot_histogram\n",
    "\n",
    "# Number of shots to the circuit\n",
    "nshots = 10\n",
    "\n",
    "# execute the quantum circuit\n",
    "backend = Aer.get_backend('qasm_simulator') # the device to run on\n",
    "result = execute(pqc, backend, shots=nshots).result()\n",
    "counts  = result.get_counts(pqc)\n",
    "\n",
    "plot_histogram(counts)"
   ]
  },
  {
   "cell_type": "code",
   "execution_count": 23,
   "metadata": {},
   "outputs": [
    {
     "name": "stdout",
     "output_type": "stream",
     "text": [
      "Solutions found:\n",
      "Solution 00110 with success probability 10.0%\n",
      "Solution 10100 with success probability 90.0%\n"
     ]
    }
   ],
   "source": [
    "print(\"Solutions found:\")\n",
    "for cres in counts:\n",
    "    print(f\"Solution {cres[::-1]} with success probability {counts[cres]*100/nshots}%\")"
   ]
  },
  {
   "cell_type": "code",
   "execution_count": 24,
   "metadata": {},
   "outputs": [
    {
     "name": "stdout",
     "output_type": "stream",
     "text": [
      "1.71661376953125e-05\n"
     ]
    }
   ],
   "source": [
    "import time\n",
    "\n",
    "start = time.time()\n",
    "x = 4 + 2\n",
    "end = time.time()\n",
    "print(end - start)"
   ]
  }
 ],
 "metadata": {
  "kernelspec": {
   "display_name": "Python 3.8.10 ('.venv': venv)",
   "language": "python",
   "name": "python3"
  },
  "language_info": {
   "codemirror_mode": {
    "name": "ipython",
    "version": 3
   },
   "file_extension": ".py",
   "mimetype": "text/x-python",
   "name": "python",
   "nbconvert_exporter": "python",
   "pygments_lexer": "ipython3",
   "version": "3.10.0"
  },
  "orig_nbformat": 4,
  "vscode": {
   "interpreter": {
    "hash": "103bead1b3505221cf3c93684cd5f873d89729dddf7b8625d3d8bb582bc8ea06"
   }
  }
 },
 "nbformat": 4,
 "nbformat_minor": 2
}
