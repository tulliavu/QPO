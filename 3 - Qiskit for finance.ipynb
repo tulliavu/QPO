{
 "cells": [
  {
   "cell_type": "markdown",
   "metadata": {},
   "source": [
    "# Qiskit for Finance\n",
    "\n",
    "Qiskit already provides some of the code we needed to handcraft within its package for finance. We will see hoow already seen methods can be used by simply invoking this functionalities from the package."
   ]
  },
  {
   "cell_type": "code",
   "execution_count": 1,
   "metadata": {},
   "outputs": [],
   "source": [
    "import json\n",
    "import numpy as np\n",
    "\n",
    "data = None\n",
    "with open(\"binance-data.json\", \"r\") as jsonfile:\n",
    "    data = json.load(jsonfile)\n",
    "\n",
    "returns = data['mu']\n",
    "covar = data['sigma']\n",
    "\n",
    "assets = []\n",
    "costs = []\n",
    "for row in data['assets']:\n",
    "    assets.append(row[\"Asset\"])\n",
    "    costs.append(float(row[\"Open\"]))\n",
    "\n",
    "num_assets = len(assets)"
   ]
  },
  {
   "cell_type": "markdown",
   "metadata": {},
   "source": [
    "Now we should set our budget and the risk so that que quadrativ program can be instantiated."
   ]
  },
  {
   "cell_type": "code",
   "execution_count": 2,
   "metadata": {},
   "outputs": [
    {
     "data": {
      "text/plain": [
       "<QuadraticProgram: minimize 0.00024094000060428594*x_0^2 + 0.00022356716389922..., 5 variables, 1 constraints, 'Portfolio optimization'>"
      ]
     },
     "execution_count": 2,
     "metadata": {},
     "output_type": "execute_result"
    }
   ],
   "source": [
    "from qiskit_finance.applications.optimization import PortfolioOptimization\n",
    "\n",
    "q = 0.5  # set risk factor\n",
    "budget = len(assets) // 2  # set budget\n",
    "\n",
    "portfolio = PortfolioOptimization(\n",
    "    expected_returns=returns, covariances=covar, risk_factor=q, budget=budget\n",
    ")\n",
    "qp = portfolio.to_quadratic_program()\n",
    "qp"
   ]
  },
  {
   "cell_type": "code",
   "execution_count": 3,
   "metadata": {},
   "outputs": [
    {
     "name": "stderr",
     "output_type": "stream",
     "text": [
      "/var/folders/9k/xq3jd5c90w93s6tc_cws222r0000gn/T/ipykernel_96761/597978851.py:30: DeprecationWarning: The class ``qiskit.algorithms.minimum_eigen_solvers.numpy_minimum_eigen_solver.NumPyMinimumEigensolver`` is deprecated as of qiskit-terra 0.24.0. It will be removed no earlier than 3 months after the release date. Instead, use the class ``qiskit.algorithms.minimum_eigensolvers.NumPyMinimumEigensolver``. See https://qisk.it/algo_migration for a migration guide.\n",
      "  exact_mes = NumPyMinimumEigensolver()\n"
     ]
    }
   ],
   "source": [
    "#exact_eigensolver\n",
    "from qiskit_optimization.converters import QuadraticProgramToQubo\n",
    "from qiskit_optimization.algorithms import MinimumEigenOptimizer\n",
    "from qiskit.algorithms import NumPyMinimumEigensolver\n",
    "import time\n",
    "\n",
    "def index_to_selection(i, num_assets):\n",
    "    s = \"{0:b}\".format(i).rjust(num_assets)\n",
    "    x = np.array([1 if s[i] == \"1\" else 0 for i in reversed(range(num_assets))])\n",
    "    return x\n",
    "\n",
    "def print_result(result):\n",
    "    selection = result.x\n",
    "    value = result.fval\n",
    "    print(\"Optimal: selection {}, value {:.4f}\".format(selection, value))\n",
    "\n",
    "    eigenstate = result.min_eigen_solver_result.eigenstate\n",
    "    \n",
    "    eigenvector = eigenstate if isinstance(eigenstate, np.ndarray) else eigenstate.to_matrix()\n",
    "    probabilities = np.abs(eigenvector) ** 2\n",
    "    i_sorted = reversed(np.argsort(probabilities))\n",
    "    print(\"\\n----------------- Full result ---------------------\")\n",
    "    print(\"selection\\tvalue\\t\\tprobability\")\n",
    "    print(\"---------------------------------------------------\")\n",
    "    for i in i_sorted:\n",
    "        x = index_to_selection(i, num_assets)\n",
    "        value = QuadraticProgramToQubo().convert(qp).objective.evaluate(x)\n",
    "        probability = probabilities[i]\n",
    "        print(\"%10s\\t%.4f\\t\\t%.4f\" % (x, value, probability))\n",
    "exact_mes = NumPyMinimumEigensolver()\n",
    "exact_eigensolver = MinimumEigenOptimizer(exact_mes)\n",
    "result = exact_eigensolver.solve(qp)"
   ]
  },
  {
   "cell_type": "code",
   "execution_count": 4,
   "metadata": {},
   "outputs": [
    {
     "name": "stdout",
     "output_type": "stream",
     "text": [
      "0.014698633999999931\n",
      "0.001691945675905186\n",
      "Optimal: selection [1. 0. 1. 0. 0.], value -0.0017\n",
      "\n",
      "----------------- Full result ---------------------\n",
      "selection\tvalue\t\tprobability\n",
      "---------------------------------------------------\n",
      "[1 0 1 0 0]\t-0.0017\t\t1.0000\n",
      "[1 1 1 1 1]\t9.0856\t\t0.0000\n",
      "[0 1 1 1 1]\t4.0400\t\t0.0000\n",
      "[1 0 0 0 0]\t1.0089\t\t0.0000\n",
      "[0 1 0 0 0]\t1.0095\t\t0.0000\n",
      "[1 1 0 0 0]\t0.0005\t\t0.0000\n",
      "[0 0 1 0 0]\t1.0074\t\t0.0000\n",
      "[0 1 1 0 0]\t-0.0010\t\t0.0000\n",
      "[1 1 1 0 0]\t1.0083\t\t0.0000\n",
      "[0 0 0 1 0]\t1.0106\t\t0.0000\n",
      "[1 0 0 1 0]\t0.0016\t\t0.0000\n",
      "[0 1 0 1 0]\t0.0024\t\t0.0000\n",
      "[1 1 0 1 0]\t1.0117\t\t0.0000\n",
      "[0 0 1 1 0]\t0.0001\t\t0.0000\n",
      "[1 0 1 1 0]\t1.0094\t\t0.0000\n",
      "[0 1 1 1 0]\t1.0102\t\t0.0000\n",
      "[1 1 1 1 0]\t4.0379\t\t0.0000\n",
      "[0 0 0 0 1]\t1.0108\t\t0.0000\n",
      "[1 0 0 0 1]\t0.0013\t\t0.0000\n",
      "[0 1 0 0 1]\t0.0024\t\t0.0000\n",
      "[1 1 0 0 1]\t1.0113\t\t0.0000\n",
      "[0 0 1 0 1]\t0.0002\t\t0.0000\n",
      "[1 0 1 0 1]\t1.0090\t\t0.0000\n",
      "[0 1 1 0 1]\t1.0101\t\t0.0000\n",
      "[1 1 1 0 1]\t4.0374\t\t0.0000\n",
      "[0 0 0 1 1]\t0.0038\t\t0.0000\n",
      "[1 0 0 1 1]\t1.0127\t\t0.0000\n",
      "[0 1 0 1 1]\t1.0139\t\t0.0000\n",
      "[1 1 0 1 1]\t4.0411\t\t0.0000\n",
      "[0 0 1 1 1]\t1.0115\t\t0.0000\n",
      "[1 0 1 1 1]\t4.0387\t\t0.0000\n",
      "[0 0 0 0 0]\t4.0363\t\t0.0000\n",
      "CPU times: user 14.8 s, sys: 98 ms, total: 14.9 s\n",
      "Wall time: 14.9 s\n"
     ]
    }
   ],
   "source": [
    "%%time\n",
    "import csv\n",
    "import time\n",
    "import pandas as pd\n",
    "from csv import writer\n",
    "i = 0\n",
    "with open('exact_eigensolver5.csv', 'w', newline='') as file:\n",
    "    writer = csv.writer(file)\n",
    "    field = ['number of asset',\"iteration\", \"time\"]\n",
    "    writer.writerow(field)\n",
    "    while i<1000:\n",
    "        i = i + 1\n",
    "        start = time.process_time()\n",
    "        result = exact_eigensolver.solve(qp)\n",
    "        end = time.process_time()\n",
    "        writer.writerow([5, i, end-start])\n",
    "data1 = pd.read_csv('exact_eigensolver5.csv')\n",
    "print(data1['time'].mean())\n",
    "print(data1['time'].std())\n",
    "print_result(result)"
   ]
  },
  {
   "cell_type": "code",
   "execution_count": 5,
   "metadata": {},
   "outputs": [
    {
     "name": "stdout",
     "output_type": "stream",
     "text": [
      "Asset ETHBTC was selected\n",
      "Asset LTCBTC was not selected\n",
      "Asset BNBBTC was selected\n",
      "Asset NEOBTC was not selected\n",
      "Asset QTUMETH was not selected\n"
     ]
    }
   ],
   "source": [
    "for i, val in enumerate(np.round(result.x,1)):\n",
    "    if val == 1:\n",
    "        print(f\"Asset {assets[i]} was selected\")\n",
    "    else:\n",
    "        print(f\"Asset {assets[i]} was not selected\")"
   ]
  },
  {
   "cell_type": "markdown",
   "metadata": {},
   "source": [
    "We can check the selection still holds to the original solution we had for the classical and annealing procedures. Now we will see how it works when solving this very same problem using already mentioned QAOA and VQE algorithms.\n",
    "\n",
    "When dealing with Variation Quantum Algorithms two main things need to be selected:\n",
    "\n",
    "* Optimization procedure to be used\n",
    "* Circuit\n",
    "\n",
    "In nex example COBYLA and a TwoLocal implementation will be used. The TwoLocal circuit can hold several repetitions of the same scheme containing different operations arbitratily chosen."
   ]
  },
  {
   "cell_type": "code",
   "execution_count": 6,
   "metadata": {},
   "outputs": [
    {
     "data": {
      "image/png": "[encoded data removed]",
      "text/plain": [
       "<Figure size 2628.61x451.5 with 1 Axes>"
      ]
     },
     "execution_count": 6,
     "metadata": {},
     "output_type": "execute_result"
    }
   ],
   "source": [
    "from qiskit.circuit.library import TwoLocal\n",
    "\n",
    "ansatz = TwoLocal(num_assets, \"ry\", \"cz\", reps=3, entanglement=\"full\")\n",
    "ansatz.decompose().draw('mpl', fold=150)"
   ]
  },
  {
   "cell_type": "markdown",
   "metadata": {},
   "source": [
    "$\\theta$ parameters for this circuit are the ones that need to be trained so that at the end, the solution with highest success probability shows the result to our problem."
   ]
  },
  {
   "cell_type": "code",
   "execution_count": 7,
   "metadata": {},
   "outputs": [
    {
     "name": "stderr",
     "output_type": "stream",
     "text": [
      "/var/folders/9k/xq3jd5c90w93s6tc_cws222r0000gn/T/ipykernel_96761/2667329244.py:13: DeprecationWarning: The class ``qiskit.utils.quantum_instance.QuantumInstance`` is deprecated as of qiskit-terra 0.24.0. It will be removed no earlier than 3 months after the release date. For code migration guidelines, visit https://qisk.it/qi_migration.\n",
      "  quantum_instance = QuantumInstance(backend=backend, seed_simulator=1234, seed_transpiler=1234)\n",
      "/var/folders/9k/xq3jd5c90w93s6tc_cws222r0000gn/T/ipykernel_96761/2667329244.py:14: DeprecationWarning: The class ``qiskit.algorithms.minimum_eigen_solvers.vqe.VQE`` is deprecated as of qiskit-terra 0.24.0. It will be removed no earlier than 3 months after the release date. Instead, use the class ``qiskit.algorithms.minimum_eigensolvers.VQE``. See https://qisk.it/algo_migration for a migration guide.\n",
      "  vqe_mes = VQE(ansatz, optimizer=cobyla, quantum_instance=quantum_instance)\n"
     ]
    }
   ],
   "source": [
    "from qiskit import Aer\n",
    "from qiskit.algorithms import VQE\n",
    "from qiskit.algorithms.optimizers import COBYLA\n",
    "from qiskit.utils import QuantumInstance\n",
    "from qiskit.utils import algorithm_globals\n",
    "\n",
    "algorithm_globals.random_seed = 1234\n",
    "backend = Aer.get_backend(\"statevector_simulator\")\n",
    "\n",
    "cobyla = COBYLA()\n",
    "cobyla.set_options(maxiter=500)\n",
    "\n",
    "quantum_instance = QuantumInstance(backend=backend, seed_simulator=1234, seed_transpiler=1234)\n",
    "vqe_mes = VQE(ansatz, optimizer=cobyla, quantum_instance=quantum_instance)\n",
    "vqe = MinimumEigenOptimizer(vqe_mes)"
   ]
  },
  {
   "cell_type": "code",
   "execution_count": 8,
   "metadata": {},
   "outputs": [
    {
     "name": "stdout",
     "output_type": "stream",
     "text": [
      "0.7131695819999987\n",
      "0.09863945299014856\n",
      "Optimal: selection [1. 0. 1. 0. 0.], value -0.0017\n",
      "\n",
      "----------------- Full result ---------------------\n",
      "selection\tvalue\t\tprobability\n",
      "---------------------------------------------------\n",
      "[0 1 0 1 0]\t0.0024\t\t0.6424\n",
      "[1 0 0 0 1]\t0.0013\t\t0.3288\n",
      "[0 0 1 1 0]\t0.0001\t\t0.0269\n",
      "[0 0 0 1 1]\t0.0038\t\t0.0013\n",
      "[1 1 0 0 0]\t0.0005\t\t0.0003\n",
      "[0 0 1 1 1]\t1.0115\t\t0.0002\n",
      "[1 0 1 0 0]\t-0.0017\t\t0.0001\n",
      "[1 1 1 0 0]\t1.0083\t\t0.0000\n",
      "[0 1 0 1 1]\t1.0139\t\t0.0000\n",
      "[0 1 0 0 0]\t1.0095\t\t0.0000\n",
      "[0 0 0 0 1]\t1.0108\t\t0.0000\n",
      "[0 1 1 1 0]\t1.0102\t\t0.0000\n",
      "[1 1 0 1 1]\t4.0411\t\t0.0000\n",
      "[1 1 1 0 1]\t4.0374\t\t0.0000\n",
      "[0 0 0 1 0]\t1.0106\t\t0.0000\n",
      "[1 0 0 1 1]\t1.0127\t\t0.0000\n",
      "[1 1 0 0 1]\t1.0113\t\t0.0000\n",
      "[0 1 1 1 1]\t4.0400\t\t0.0000\n",
      "[1 0 0 0 0]\t1.0089\t\t0.0000\n",
      "[1 0 0 1 0]\t0.0016\t\t0.0000\n",
      "[0 0 1 0 1]\t0.0002\t\t0.0000\n",
      "[1 0 1 1 0]\t1.0094\t\t0.0000\n",
      "[1 0 1 0 1]\t1.0090\t\t0.0000\n",
      "[1 1 1 1 0]\t4.0379\t\t0.0000\n",
      "[0 0 1 0 0]\t1.0074\t\t0.0000\n",
      "[0 1 1 0 1]\t1.0101\t\t0.0000\n",
      "[0 1 0 0 1]\t0.0024\t\t0.0000\n",
      "[1 1 1 1 1]\t9.0856\t\t0.0000\n",
      "[1 0 1 1 1]\t4.0387\t\t0.0000\n",
      "[0 0 0 0 0]\t4.0363\t\t0.0000\n",
      "[1 1 0 1 0]\t1.0117\t\t0.0000\n",
      "[0 1 1 0 0]\t-0.0010\t\t0.0000\n",
      "CPU times: user 11min 32s, sys: 21 s, total: 11min 53s\n",
      "Wall time: 18min 18s\n"
     ]
    }
   ],
   "source": [
    "%%time\n",
    "import csv\n",
    "import time\n",
    "import pandas as pd\n",
    "from csv import writer\n",
    "i = 0\n",
    "with open('cobyla5.csv', 'w', newline='') as file:\n",
    "    writer = csv.writer(file)\n",
    "    field = ['number of asset',\"iteration\", \"time\"]\n",
    "    writer.writerow(field)\n",
    "    while i<1000:\n",
    "        i = i + 1\n",
    "        start = time.process_time()\n",
    "        result = vqe.solve(qp)\n",
    "        end = time.process_time()\n",
    "        writer.writerow([5, i, end-start])\n",
    "data1 = pd.read_csv('cobyla5.csv')\n",
    "print(data1['time'].mean())\n",
    "print(data1['time'].std())\n",
    "print_result(result)"
   ]
  },
  {
   "cell_type": "markdown",
   "metadata": {},
   "source": [
    "At this point it is important we pay attention at the probability column. This column states how plausible it is that using this circuit with found parameters we may found the optimal result. Our candidate solution has relativelly low probability, which means we should find better designs to increase our chances. We can easilly test how it would look like by adding more repetitions to the ansatz."
   ]
  },
  {
   "cell_type": "code",
   "execution_count": 9,
   "metadata": {},
   "outputs": [
    {
     "name": "stderr",
     "output_type": "stream",
     "text": [
      "/var/folders/9k/xq3jd5c90w93s6tc_cws222r0000gn/T/ipykernel_96761/1953179319.py:6: DeprecationWarning: The class ``qiskit.utils.quantum_instance.QuantumInstance`` is deprecated as of qiskit-terra 0.24.0. It will be removed no earlier than 3 months after the release date. For code migration guidelines, visit https://qisk.it/qi_migration.\n",
      "  quantum_instance = QuantumInstance(backend=backend, seed_simulator=1234, seed_transpiler=1234)\n",
      "/var/folders/9k/xq3jd5c90w93s6tc_cws222r0000gn/T/ipykernel_96761/1953179319.py:7: DeprecationWarning: The class ``qiskit.algorithms.minimum_eigen_solvers.vqe.VQE`` is deprecated as of qiskit-terra 0.24.0. It will be removed no earlier than 3 months after the release date. Instead, use the class ``qiskit.algorithms.minimum_eigensolvers.VQE``. See https://qisk.it/algo_migration for a migration guide.\n",
      "  vqe_mes = VQE(ansatz, optimizer=cobyla, quantum_instance=quantum_instance)\n"
     ]
    },
    {
     "name": "stdout",
     "output_type": "stream",
     "text": [
      "Optimal: selection [1. 0. 1. 0. 0.], value -0.0017\n",
      "\n",
      "----------------- Full result ---------------------\n",
      "selection\tvalue\t\tprobability\n",
      "---------------------------------------------------\n",
      "[0 0 1 1 0]\t0.0001\t\t0.4575\n",
      "[0 1 0 0 1]\t0.0024\t\t0.1988\n",
      "[0 1 1 0 0]\t-0.0010\t\t0.1873\n",
      "[0 0 0 1 1]\t0.0038\t\t0.0743\n",
      "[1 0 0 1 0]\t0.0016\t\t0.0352\n",
      "[1 0 0 0 1]\t0.0013\t\t0.0189\n",
      "[0 1 0 1 0]\t0.0024\t\t0.0106\n",
      "[0 0 1 0 1]\t0.0002\t\t0.0082\n",
      "[1 0 1 0 0]\t-0.0017\t\t0.0031\n",
      "[1 1 0 0 0]\t0.0005\t\t0.0021\n",
      "[1 1 0 0 1]\t1.0113\t\t0.0012\n",
      "[1 0 1 0 1]\t1.0090\t\t0.0006\n",
      "[1 0 0 0 0]\t1.0089\t\t0.0004\n",
      "[1 1 0 1 0]\t1.0117\t\t0.0003\n",
      "[1 0 1 1 0]\t1.0094\t\t0.0003\n",
      "[1 1 1 0 0]\t1.0083\t\t0.0002\n",
      "[0 1 0 0 0]\t1.0095\t\t0.0002\n",
      "[0 1 1 1 0]\t1.0102\t\t0.0002\n",
      "[0 0 1 0 0]\t1.0074\t\t0.0002\n",
      "[0 0 0 0 1]\t1.0108\t\t0.0001\n",
      "[1 0 0 1 1]\t1.0127\t\t0.0001\n",
      "[0 0 0 0 0]\t4.0363\t\t0.0001\n",
      "[0 1 1 0 1]\t1.0101\t\t0.0001\n",
      "[0 1 0 1 1]\t1.0139\t\t0.0001\n",
      "[1 1 1 0 1]\t4.0374\t\t0.0000\n",
      "[1 1 0 1 1]\t4.0411\t\t0.0000\n",
      "[0 1 1 1 1]\t4.0400\t\t0.0000\n",
      "[1 0 1 1 1]\t4.0387\t\t0.0000\n",
      "[1 1 1 1 0]\t4.0379\t\t0.0000\n",
      "[0 0 0 1 0]\t1.0106\t\t0.0000\n",
      "[1 1 1 1 1]\t9.0856\t\t0.0000\n",
      "[0 0 1 1 1]\t1.0115\t\t0.0000\n"
     ]
    }
   ],
   "source": [
    "ansatz = TwoLocal(num_assets, \"ry\", \"cz\", reps=6, entanglement=\"full\")\n",
    "\n",
    "cobyla = COBYLA()\n",
    "cobyla.set_options(maxiter=500)\n",
    "\n",
    "quantum_instance = QuantumInstance(backend=backend, seed_simulator=1234, seed_transpiler=1234)\n",
    "vqe_mes = VQE(ansatz, optimizer=cobyla, quantum_instance=quantum_instance)\n",
    "vqe = MinimumEigenOptimizer(vqe_mes)\n",
    "result = vqe.solve(qp)\n",
    "\n",
    "print_result(result)"
   ]
  },
  {
   "cell_type": "code",
   "execution_count": 10,
   "metadata": {},
   "outputs": [
    {
     "name": "stdout",
     "output_type": "stream",
     "text": [
      "0.7202717980000061\n",
      "0.022838842951918993\n",
      "Optimal: selection [1. 0. 1. 0. 0.], value -0.0017\n",
      "\n",
      "----------------- Full result ---------------------\n",
      "selection\tvalue\t\tprobability\n",
      "---------------------------------------------------\n",
      "[1 0 0 0 1]\t0.0013\t\t0.3558\n",
      "[1 1 0 0 0]\t0.0005\t\t0.2300\n",
      "[0 1 0 0 1]\t0.0024\t\t0.0866\n",
      "[0 1 0 1 0]\t0.0024\t\t0.0764\n",
      "[0 1 1 0 0]\t-0.0010\t\t0.0724\n",
      "[0 0 1 1 0]\t0.0001\t\t0.0697\n",
      "[1 0 1 0 0]\t-0.0017\t\t0.0613\n",
      "[0 0 0 1 1]\t0.0038\t\t0.0381\n",
      "[1 0 0 1 0]\t0.0016\t\t0.0052\n",
      "[0 0 1 0 1]\t0.0002\t\t0.0016\n",
      "[0 1 0 1 1]\t1.0139\t\t0.0015\n",
      "[0 0 1 0 0]\t1.0074\t\t0.0003\n",
      "[0 0 1 1 1]\t1.0115\t\t0.0002\n",
      "[1 0 1 0 1]\t1.0090\t\t0.0001\n",
      "[0 1 1 1 0]\t1.0102\t\t0.0001\n",
      "[0 1 0 0 0]\t1.0095\t\t0.0001\n",
      "[1 1 0 1 0]\t1.0117\t\t0.0001\n",
      "[1 1 1 0 0]\t1.0083\t\t0.0001\n",
      "[1 1 0 1 1]\t4.0411\t\t0.0001\n",
      "[0 0 0 1 0]\t1.0106\t\t0.0000\n",
      "[1 0 1 1 0]\t1.0094\t\t0.0000\n",
      "[1 1 1 0 1]\t4.0374\t\t0.0000\n",
      "[1 0 0 0 0]\t1.0089\t\t0.0000\n",
      "[0 1 1 0 1]\t1.0101\t\t0.0000\n",
      "[1 0 0 1 1]\t1.0127\t\t0.0000\n",
      "[1 1 0 0 1]\t1.0113\t\t0.0000\n",
      "[1 0 1 1 1]\t4.0387\t\t0.0000\n",
      "[0 0 0 0 1]\t1.0108\t\t0.0000\n",
      "[0 0 0 0 0]\t4.0363\t\t0.0000\n",
      "[1 1 1 1 1]\t9.0856\t\t0.0000\n",
      "[1 1 1 1 0]\t4.0379\t\t0.0000\n",
      "[0 1 1 1 1]\t4.0400\t\t0.0000\n",
      "CPU times: user 11min 46s, sys: 14 s, total: 12min\n",
      "Wall time: 12min 1s\n"
     ]
    }
   ],
   "source": [
    "%%time\n",
    "import csv\n",
    "import time\n",
    "import pandas as pd\n",
    "from csv import writer\n",
    "i = 0\n",
    "with open('cobyla5_6reps.csv', 'w', newline='') as file:\n",
    "    writer = csv.writer(file)\n",
    "    field = ['number of asset',\"iteration\", \"time\"]\n",
    "    writer.writerow(field)\n",
    "    while i<1000:\n",
    "        i = i + 1\n",
    "        start = time.process_time()\n",
    "        result = vqe.solve(qp)\n",
    "        end = time.process_time()\n",
    "        writer.writerow([5, i, end-start])\n",
    "data1 = pd.read_csv('cobyla5_6reps.csv')\n",
    "print(data1['time'].mean())\n",
    "print(data1['time'].std())\n",
    "print_result(result)"
   ]
  },
  {
   "cell_type": "markdown",
   "metadata": {},
   "source": [
    "Right now we reached 20% chances of seeing this state on a single run of our circuit. We could then simulate lets say for 5 runs so that way we most probably would register classically that state at least once."
   ]
  },
  {
   "cell_type": "code",
   "execution_count": 11,
   "metadata": {},
   "outputs": [],
   "source": [
    "best_parameters = None\n",
    "for key, value in vqe_mes.__dict__.items():\n",
    "    if key == \"_ret\":\n",
    "        best_parameters = value.optimal_parameters"
   ]
  },
  {
   "cell_type": "markdown",
   "metadata": {},
   "source": [
    "We can try with a different approach, in this case QAOA. For that, only number of layers to repeat the canonical form of the ansatz need to be provided."
   ]
  },
  {
   "cell_type": "code",
   "execution_count": 12,
   "metadata": {},
   "outputs": [
    {
     "name": "stderr",
     "output_type": "stream",
     "text": [
      "/var/folders/9k/xq3jd5c90w93s6tc_cws222r0000gn/T/ipykernel_96761/642958907.py:4: DeprecationWarning: The class ``qiskit.algorithms.minimum_eigen_solvers.qaoa.QAOA`` is deprecated as of qiskit-terra 0.24.0. It will be removed no earlier than 3 months after the release date. Instead, use the class ``qiskit.algorithms.minimum_eigensolvers.QAOA``. See https://qisk.it/algo_migration for a migration guide.\n",
      "  qaoa_mes = QAOA(optimizer=cobyla, reps=layers, quantum_instance=quantum_instance)\n"
     ]
    },
    {
     "name": "stdout",
     "output_type": "stream",
     "text": [
      "Optimal: selection [1. 0. 1. 0. 0.], value -0.0017\n",
      "\n",
      "----------------- Full result ---------------------\n",
      "selection\tvalue\t\tprobability\n",
      "---------------------------------------------------\n",
      "[0 1 0 1 1]\t1.0139\t\t0.0730\n",
      "[1 0 0 1 1]\t1.0127\t\t0.0730\n",
      "[1 1 0 0 1]\t1.0113\t\t0.0729\n",
      "[1 1 0 1 0]\t1.0117\t\t0.0729\n",
      "[0 0 1 1 1]\t1.0115\t\t0.0729\n",
      "[0 1 1 1 0]\t1.0102\t\t0.0728\n",
      "[0 1 1 0 1]\t1.0101\t\t0.0728\n",
      "[1 0 1 0 1]\t1.0090\t\t0.0728\n",
      "[1 0 1 1 0]\t1.0094\t\t0.0728\n",
      "[1 1 1 0 0]\t1.0083\t\t0.0727\n",
      "[1 0 1 0 0]\t-0.0017\t\t0.0225\n",
      "[0 1 1 0 0]\t-0.0010\t\t0.0225\n",
      "[0 0 1 0 1]\t0.0002\t\t0.0225\n",
      "[1 1 0 0 0]\t0.0005\t\t0.0225\n",
      "[0 0 1 1 0]\t0.0001\t\t0.0225\n",
      "[1 0 0 0 1]\t0.0013\t\t0.0225\n",
      "[1 0 0 1 0]\t0.0016\t\t0.0225\n",
      "[0 1 0 0 1]\t0.0024\t\t0.0225\n",
      "[0 1 0 1 0]\t0.0024\t\t0.0225\n",
      "[0 0 0 1 1]\t0.0038\t\t0.0225\n",
      "[1 1 1 1 0]\t4.0379\t\t0.0086\n",
      "[1 1 1 0 1]\t4.0374\t\t0.0086\n",
      "[1 0 1 1 1]\t4.0387\t\t0.0086\n",
      "[0 1 1 1 1]\t4.0400\t\t0.0086\n",
      "[1 1 0 1 1]\t4.0411\t\t0.0086\n",
      "[0 0 0 0 0]\t4.0363\t\t0.0020\n",
      "[1 1 1 1 1]\t9.0856\t\t0.0010\n",
      "[0 0 0 1 0]\t1.0106\t\t0.0001\n",
      "[0 0 0 0 1]\t1.0108\t\t0.0001\n",
      "[0 1 0 0 0]\t1.0095\t\t0.0001\n",
      "[1 0 0 0 0]\t1.0089\t\t0.0001\n",
      "[0 0 1 0 0]\t1.0074\t\t0.0001\n"
     ]
    }
   ],
   "source": [
    "from qiskit.algorithms import QAOA\n",
    "\n",
    "layers = 2\n",
    "qaoa_mes = QAOA(optimizer=cobyla, reps=layers, quantum_instance=quantum_instance)\n",
    "qaoa = MinimumEigenOptimizer(qaoa_mes)\n",
    "result = qaoa.solve(qp)\n",
    "\n",
    "print_result(result)"
   ]
  },
  {
   "cell_type": "code",
   "execution_count": 13,
   "metadata": {},
   "outputs": [
    {
     "name": "stdout",
     "output_type": "stream",
     "text": [
      "0.37034779799999956\n",
      "0.1686002247536218\n",
      "Optimal: selection [1. 0. 1. 0. 0.], value -0.0017\n",
      "\n",
      "----------------- Full result ---------------------\n",
      "selection\tvalue\t\tprobability\n",
      "---------------------------------------------------\n",
      "[0 0 0 1 1]\t0.0038\t\t0.0971\n",
      "[0 1 0 0 1]\t0.0024\t\t0.0969\n",
      "[0 1 0 1 0]\t0.0024\t\t0.0968\n",
      "[1 0 0 1 0]\t0.0016\t\t0.0967\n",
      "[1 0 0 0 1]\t0.0013\t\t0.0967\n",
      "[1 1 0 0 0]\t0.0005\t\t0.0966\n",
      "[0 0 1 0 1]\t0.0002\t\t0.0966\n",
      "[0 0 1 1 0]\t0.0001\t\t0.0965\n",
      "[0 1 1 0 0]\t-0.0010\t\t0.0964\n",
      "[1 0 1 0 0]\t-0.0017\t\t0.0963\n",
      "[0 0 0 0 0]\t4.0363\t\t0.0062\n",
      "[1 1 1 1 1]\t9.0856\t\t0.0037\n",
      "[1 1 1 0 0]\t1.0083\t\t0.0016\n",
      "[1 0 1 1 0]\t1.0094\t\t0.0015\n",
      "[1 0 1 0 1]\t1.0090\t\t0.0015\n",
      "[0 1 1 0 1]\t1.0101\t\t0.0015\n",
      "[0 1 1 1 0]\t1.0102\t\t0.0015\n",
      "[0 0 1 1 1]\t1.0115\t\t0.0015\n",
      "[1 1 0 1 0]\t1.0117\t\t0.0015\n",
      "[1 1 0 0 1]\t1.0113\t\t0.0015\n",
      "[1 0 0 1 1]\t1.0127\t\t0.0014\n",
      "[0 1 0 1 1]\t1.0139\t\t0.0014\n",
      "[0 0 1 0 0]\t1.0074\t\t0.0010\n",
      "[1 0 0 0 0]\t1.0089\t\t0.0010\n",
      "[0 1 0 0 0]\t1.0095\t\t0.0010\n",
      "[0 0 0 1 0]\t1.0106\t\t0.0010\n",
      "[0 0 0 0 1]\t1.0108\t\t0.0010\n",
      "[1 1 0 1 1]\t4.0411\t\t0.0008\n",
      "[0 1 1 1 1]\t4.0400\t\t0.0007\n",
      "[1 0 1 1 1]\t4.0387\t\t0.0007\n",
      "[1 1 1 1 0]\t4.0379\t\t0.0007\n",
      "[1 1 1 0 1]\t4.0374\t\t0.0007\n",
      "CPU times: user 6min 2s, sys: 8.04 s, total: 6min 10s\n",
      "Wall time: 22min 21s\n"
     ]
    }
   ],
   "source": [
    "%%time\n",
    "import csv\n",
    "import time\n",
    "import pandas as pd\n",
    "from csv import writer\n",
    "i = 0\n",
    "with open('qaoa5_2lay.csv', 'w', newline='') as file:\n",
    "    writer = csv.writer(file)\n",
    "    field = ['number of asset',\"iteration\", \"time\"]\n",
    "    writer.writerow(field)\n",
    "    while i<1000:\n",
    "        i = i + 1\n",
    "        start = time.process_time()\n",
    "        result = qaoa.solve(qp)\n",
    "        end = time.process_time()\n",
    "        writer.writerow([5, i, end-start])\n",
    "data1 = pd.read_csv('qaoa5_2lay.csv')\n",
    "print(data1['time'].mean())\n",
    "print(data1['time'].std())\n",
    "print_result(result)"
   ]
  },
  {
   "cell_type": "code",
   "execution_count": 14,
   "metadata": {},
   "outputs": [
    {
     "name": "stderr",
     "output_type": "stream",
     "text": [
      "/var/folders/9k/xq3jd5c90w93s6tc_cws222r0000gn/T/ipykernel_96761/1447556634.py:3: DeprecationWarning: The class ``qiskit.algorithms.minimum_eigen_solvers.qaoa.QAOA`` is deprecated as of qiskit-terra 0.24.0. It will be removed no earlier than 3 months after the release date. Instead, use the class ``qiskit.algorithms.minimum_eigensolvers.QAOA``. See https://qisk.it/algo_migration for a migration guide.\n",
      "  qaoa_mes = QAOA(optimizer=cobyla, reps=layers, quantum_instance=quantum_instance)\n"
     ]
    },
    {
     "name": "stdout",
     "output_type": "stream",
     "text": [
      "Optimal: selection [1. 0. 1. 0. 0.], value -0.0017\n",
      "\n",
      "----------------- Full result ---------------------\n",
      "selection\tvalue\t\tprobability\n",
      "---------------------------------------------------\n",
      "[0 0 0 1 1]\t0.0038\t\t0.0988\n",
      "[0 1 0 0 1]\t0.0024\t\t0.0982\n",
      "[0 1 0 1 0]\t0.0024\t\t0.0982\n",
      "[1 0 0 1 0]\t0.0016\t\t0.0979\n",
      "[1 0 0 0 1]\t0.0013\t\t0.0978\n",
      "[1 1 0 0 0]\t0.0005\t\t0.0975\n",
      "[0 0 1 0 1]\t0.0002\t\t0.0974\n",
      "[0 0 1 1 0]\t0.0001\t\t0.0973\n",
      "[0 1 1 0 0]\t-0.0010\t\t0.0969\n",
      "[1 0 1 0 0]\t-0.0017\t\t0.0968\n",
      "[0 0 0 0 0]\t4.0363\t\t0.0078\n",
      "[1 1 1 0 0]\t1.0083\t\t0.0014\n",
      "[1 0 1 0 1]\t1.0090\t\t0.0013\n",
      "[1 0 1 1 0]\t1.0094\t\t0.0013\n",
      "[0 1 1 1 0]\t1.0102\t\t0.0012\n",
      "[0 1 1 0 1]\t1.0101\t\t0.0012\n",
      "[0 0 1 1 1]\t1.0115\t\t0.0011\n",
      "[1 1 0 0 1]\t1.0113\t\t0.0011\n",
      "[1 1 0 1 0]\t1.0117\t\t0.0011\n",
      "[1 0 0 1 1]\t1.0127\t\t0.0010\n",
      "[0 1 0 1 1]\t1.0139\t\t0.0009\n",
      "[0 0 1 0 0]\t1.0074\t\t0.0008\n",
      "[1 0 0 0 0]\t1.0089\t\t0.0007\n",
      "[0 1 0 0 0]\t1.0095\t\t0.0007\n",
      "[0 0 0 1 0]\t1.0106\t\t0.0006\n",
      "[0 0 0 0 1]\t1.0108\t\t0.0006\n",
      "[1 1 0 1 1]\t4.0411\t\t0.0002\n",
      "[1 1 1 1 1]\t9.0856\t\t0.0002\n",
      "[0 1 1 1 1]\t4.0400\t\t0.0002\n",
      "[1 0 1 1 1]\t4.0387\t\t0.0001\n",
      "[1 1 1 1 0]\t4.0379\t\t0.0001\n",
      "[1 1 1 0 1]\t4.0374\t\t0.0001\n"
     ]
    }
   ],
   "source": [
    "layers = 5\n",
    "\n",
    "qaoa_mes = QAOA(optimizer=cobyla, reps=layers, quantum_instance=quantum_instance)\n",
    "qaoa = MinimumEigenOptimizer(qaoa_mes)\n",
    "result = qaoa.solve(qp)\n",
    "\n",
    "print_result(result)"
   ]
  },
  {
   "cell_type": "code",
   "execution_count": 15,
   "metadata": {},
   "outputs": [
    {
     "name": "stdout",
     "output_type": "stream",
     "text": [
      "0.9762100260000038\n",
      "0.04273488413869309\n",
      "Optimal: selection [1. 0. 1. 0. 0.], value -0.0017\n",
      "\n",
      "----------------- Full result ---------------------\n",
      "selection\tvalue\t\tprobability\n",
      "---------------------------------------------------\n",
      "[0 1 1 0 0]\t-0.0010\t\t0.0964\n",
      "[0 0 1 1 0]\t0.0001\t\t0.0964\n",
      "[1 0 0 0 1]\t0.0013\t\t0.0964\n",
      "[0 0 1 0 1]\t0.0002\t\t0.0963\n",
      "[1 0 1 0 0]\t-0.0017\t\t0.0963\n",
      "[0 1 0 1 0]\t0.0024\t\t0.0963\n",
      "[1 0 0 1 0]\t0.0016\t\t0.0962\n",
      "[1 1 0 0 0]\t0.0005\t\t0.0962\n",
      "[0 1 0 0 1]\t0.0024\t\t0.0962\n",
      "[0 0 0 1 1]\t0.0038\t\t0.0960\n",
      "[0 0 1 0 0]\t1.0074\t\t0.0042\n",
      "[0 1 0 0 0]\t1.0095\t\t0.0041\n",
      "[1 0 0 0 0]\t1.0089\t\t0.0041\n",
      "[0 0 0 1 0]\t1.0106\t\t0.0041\n",
      "[0 0 0 0 1]\t1.0108\t\t0.0041\n",
      "[0 1 0 1 1]\t1.0139\t\t0.0017\n",
      "[1 0 0 1 1]\t1.0127\t\t0.0017\n",
      "[1 1 0 1 0]\t1.0117\t\t0.0017\n",
      "[0 0 1 1 1]\t1.0115\t\t0.0017\n",
      "[1 1 0 0 1]\t1.0113\t\t0.0016\n",
      "[0 1 1 0 1]\t1.0101\t\t0.0016\n",
      "[0 1 1 1 0]\t1.0102\t\t0.0016\n",
      "[1 0 1 1 0]\t1.0094\t\t0.0016\n",
      "[1 0 1 0 1]\t1.0090\t\t0.0016\n",
      "[1 1 1 0 0]\t1.0083\t\t0.0016\n",
      "[0 0 0 0 0]\t4.0363\t\t0.0003\n",
      "[1 1 1 1 1]\t9.0856\t\t0.0000\n",
      "[1 1 1 0 1]\t4.0374\t\t0.0000\n",
      "[1 1 1 1 0]\t4.0379\t\t0.0000\n",
      "[1 0 1 1 1]\t4.0387\t\t0.0000\n",
      "[0 1 1 1 1]\t4.0400\t\t0.0000\n",
      "[1 1 0 1 1]\t4.0411\t\t0.0000\n",
      "CPU times: user 15min 59s, sys: 16.6 s, total: 16min 16s\n",
      "Wall time: 51min\n"
     ]
    }
   ],
   "source": [
    "%%time\n",
    "import csv\n",
    "import time\n",
    "import pandas as pd\n",
    "from csv import writer\n",
    "i = 0\n",
    "with open('qaoa5_5lay.csv', 'w', newline='') as file:\n",
    "    writer = csv.writer(file)\n",
    "    field = ['number of asset',\"iteration\", \"time\"]\n",
    "    writer.writerow(field)\n",
    "    while i<1000:\n",
    "        i = i + 1\n",
    "        start = time.process_time()\n",
    "        result = qaoa.solve(qp)\n",
    "        end = time.process_time()\n",
    "        writer.writerow([5, i, end-start])\n",
    "data1 = pd.read_csv('qaoa5_5lay.csv')\n",
    "print(data1['time'].mean())\n",
    "print(data1['time'].std())\n",
    "print_result(result)"
   ]
  },
  {
   "cell_type": "markdown",
   "metadata": {},
   "source": [
    "In this case, the depth of the circuit did not make much in favor of our outcome as the chances of getting the optimal solution decreased from almost 8% to 6%."
   ]
  },
  {
   "cell_type": "code",
   "execution_count": 16,
   "metadata": {},
   "outputs": [
    {
     "name": "stderr",
     "output_type": "stream",
     "text": [
      "/var/folders/9k/xq3jd5c90w93s6tc_cws222r0000gn/T/ipykernel_96761/2620542453.py:3: DeprecationWarning: The class ``qiskit.algorithms.minimum_eigen_solvers.qaoa.QAOA`` is deprecated as of qiskit-terra 0.24.0. It will be removed no earlier than 3 months after the release date. Instead, use the class ``qiskit.algorithms.minimum_eigensolvers.QAOA``. See https://qisk.it/algo_migration for a migration guide.\n",
      "  qaoa_mes = QAOA(optimizer=cobyla, reps=layers, quantum_instance=quantum_instance)\n"
     ]
    },
    {
     "name": "stdout",
     "output_type": "stream",
     "text": [
      "Optimal: selection [1. 0. 1. 0. 0.], value -0.0017\n",
      "\n",
      "----------------- Full result ---------------------\n",
      "selection\tvalue\t\tprobability\n",
      "---------------------------------------------------\n",
      "[0 1 0 1 1]\t1.0139\t\t0.0570\n",
      "[1 0 0 1 1]\t1.0127\t\t0.0570\n",
      "[1 1 0 0 1]\t1.0113\t\t0.0569\n",
      "[1 1 0 1 0]\t1.0117\t\t0.0569\n",
      "[0 0 1 1 1]\t1.0115\t\t0.0569\n",
      "[0 1 1 1 0]\t1.0102\t\t0.0569\n",
      "[0 1 1 0 1]\t1.0101\t\t0.0569\n",
      "[1 0 1 0 1]\t1.0090\t\t0.0569\n",
      "[1 0 1 1 0]\t1.0094\t\t0.0569\n",
      "[1 1 1 0 0]\t1.0083\t\t0.0569\n",
      "[0 0 0 1 1]\t0.0038\t\t0.0299\n",
      "[0 1 0 1 0]\t0.0024\t\t0.0299\n",
      "[0 1 0 0 1]\t0.0024\t\t0.0299\n",
      "[1 0 0 1 0]\t0.0016\t\t0.0299\n",
      "[1 0 0 0 1]\t0.0013\t\t0.0299\n",
      "[0 0 1 1 0]\t0.0001\t\t0.0299\n",
      "[1 1 0 0 0]\t0.0005\t\t0.0299\n",
      "[0 0 1 0 1]\t0.0002\t\t0.0299\n",
      "[0 1 1 0 0]\t-0.0010\t\t0.0299\n",
      "[1 0 1 0 0]\t-0.0017\t\t0.0298\n",
      "[1 1 0 1 1]\t4.0411\t\t0.0222\n",
      "[0 1 1 1 1]\t4.0400\t\t0.0222\n",
      "[1 0 1 1 1]\t4.0387\t\t0.0222\n",
      "[1 1 1 0 1]\t4.0374\t\t0.0222\n",
      "[1 1 1 1 0]\t4.0379\t\t0.0222\n",
      "[0 0 0 0 0]\t4.0363\t\t0.0048\n",
      "[0 0 1 0 0]\t1.0074\t\t0.0032\n",
      "[1 0 0 0 0]\t1.0089\t\t0.0032\n",
      "[0 1 0 0 0]\t1.0095\t\t0.0032\n",
      "[0 0 0 1 0]\t1.0106\t\t0.0032\n",
      "[0 0 0 0 1]\t1.0108\t\t0.0032\n",
      "[1 1 1 1 1]\t9.0856\t\t0.0004\n"
     ]
    }
   ],
   "source": [
    "layers = 1\n",
    "\n",
    "qaoa_mes = QAOA(optimizer=cobyla, reps=layers, quantum_instance=quantum_instance)\n",
    "qaoa = MinimumEigenOptimizer(qaoa_mes)\n",
    "result = qaoa.solve(qp)\n",
    "\n",
    "print_result(result)"
   ]
  },
  {
   "cell_type": "code",
   "execution_count": 17,
   "metadata": {},
   "outputs": [
    {
     "name": "stdout",
     "output_type": "stream",
     "text": [
      "0.08987480699999466\n",
      "0.06005195403498828\n",
      "Optimal: selection [1. 0. 1. 0. 0.], value -0.0017\n",
      "\n",
      "----------------- Full result ---------------------\n",
      "selection\tvalue\t\tprobability\n",
      "---------------------------------------------------\n",
      "[1 1 1 0 0]\t1.0083\t\t0.0574\n",
      "[1 0 1 1 0]\t1.0094\t\t0.0572\n",
      "[1 0 1 0 1]\t1.0090\t\t0.0571\n",
      "[0 1 1 0 1]\t1.0101\t\t0.0570\n",
      "[0 1 1 1 0]\t1.0102\t\t0.0570\n",
      "[0 0 1 1 1]\t1.0115\t\t0.0568\n",
      "[1 1 0 1 0]\t1.0117\t\t0.0568\n",
      "[1 1 0 0 1]\t1.0113\t\t0.0567\n",
      "[1 0 0 1 1]\t1.0127\t\t0.0566\n",
      "[0 1 0 1 1]\t1.0139\t\t0.0565\n",
      "[1 0 1 0 0]\t-0.0017\t\t0.0304\n",
      "[0 1 1 0 0]\t-0.0010\t\t0.0302\n",
      "[0 0 1 0 1]\t0.0002\t\t0.0301\n",
      "[1 1 0 0 0]\t0.0005\t\t0.0301\n",
      "[0 0 1 1 0]\t0.0001\t\t0.0301\n",
      "[1 0 0 0 1]\t0.0013\t\t0.0300\n",
      "[1 0 0 1 0]\t0.0016\t\t0.0300\n",
      "[0 1 0 0 1]\t0.0024\t\t0.0299\n",
      "[0 1 0 1 0]\t0.0024\t\t0.0298\n",
      "[0 0 0 1 1]\t0.0038\t\t0.0298\n",
      "[1 1 1 1 0]\t4.0379\t\t0.0221\n",
      "[1 1 1 0 1]\t4.0374\t\t0.0221\n",
      "[1 0 1 1 1]\t4.0387\t\t0.0220\n",
      "[0 1 1 1 1]\t4.0400\t\t0.0220\n",
      "[1 1 0 1 1]\t4.0411\t\t0.0218\n",
      "[0 0 0 0 0]\t4.0363\t\t0.0047\n",
      "[0 0 0 0 1]\t1.0108\t\t0.0031\n",
      "[0 0 0 1 0]\t1.0106\t\t0.0031\n",
      "[0 1 0 0 0]\t1.0095\t\t0.0031\n",
      "[1 0 0 0 0]\t1.0089\t\t0.0031\n",
      "[0 0 1 0 0]\t1.0074\t\t0.0031\n",
      "[1 1 1 1 1]\t9.0856\t\t0.0003\n",
      "CPU times: user 1min 28s, sys: 1.68 s, total: 1min 29s\n",
      "Wall time: 1min 30s\n"
     ]
    }
   ],
   "source": [
    "%%time\n",
    "import csv\n",
    "import time\n",
    "import pandas as pd\n",
    "from csv import writer\n",
    "i = 0\n",
    "with open('qaoa5_1lay.csv', 'w', newline='') as file:\n",
    "    writer = csv.writer(file)\n",
    "    field = ['number of asset',\"iteration\", \"time\"]\n",
    "    writer.writerow(field)\n",
    "    while i<1000:\n",
    "        i = i + 1\n",
    "        start = time.process_time()\n",
    "        result = qaoa.solve(qp)\n",
    "        end = time.process_time()\n",
    "        writer.writerow([5, i, end-start])\n",
    "data1 = pd.read_csv('qaoa5_1lay.csv')\n",
    "print(data1['time'].mean())\n",
    "print(data1['time'].std())\n",
    "print_result(result)"
   ]
  },
  {
   "cell_type": "markdown",
   "metadata": {},
   "source": [
    "As it also happends with classical ML and QML approaches, design is key for solving the problem with a high success rate for obtaining the best possible solution. Lets run our best solution up to now and see how the outcome would look like."
   ]
  },
  {
   "cell_type": "code",
   "execution_count": 18,
   "metadata": {},
   "outputs": [
    {
     "data": {
      "image/png": "[encoded data removed]",
      "text/plain": [
       "<Figure size 1290.83x535.111 with 1 Axes>"
      ]
     },
     "execution_count": 18,
     "metadata": {},
     "output_type": "execute_result"
    }
   ],
   "source": [
    "from qiskit import QuantumCircuit\n",
    "\n",
    "qc = QuantumCircuit(num_assets,num_assets)\n",
    "\n",
    "# VQE Two Local ansatz\n",
    "qc.compose(ansatz, inplace=True)\n",
    "\n",
    "# Measures\n",
    "for i in range(0, num_assets):\n",
    "    qc.measure(i, i)\n",
    "\n",
    "qc.draw('mpl', fold=150)"
   ]
  },
  {
   "cell_type": "code",
   "execution_count": 19,
   "metadata": {},
   "outputs": [
    {
     "data": {
      "image/png": "[encoded data removed]",
      "text/plain": [
       "<Figure size 1458.05x535.111 with 1 Axes>"
      ]
     },
     "execution_count": 19,
     "metadata": {},
     "output_type": "execute_result"
    }
   ],
   "source": [
    "pqc = qc.bind_parameters(best_parameters)\n",
    "pqc.draw('mpl', fold=150)"
   ]
  },
  {
   "cell_type": "code",
   "execution_count": 20,
   "metadata": {},
   "outputs": [
    {
     "data": {
      "image/png": "[encoded data removed]",
      "text/plain": [
       "<Figure size 700x500 with 1 Axes>"
      ]
     },
     "execution_count": 20,
     "metadata": {},
     "output_type": "execute_result"
    }
   ],
   "source": [
    "from qiskit import Aer, execute\n",
    "from qiskit.visualization import plot_histogram\n",
    "\n",
    "# Number of shots to the circuit\n",
    "nshots = 10\n",
    "\n",
    "# execute the quantum circuit\n",
    "backend = Aer.get_backend('qasm_simulator') # the device to run on\n",
    "result = execute(pqc, backend, shots=nshots).result()\n",
    "counts  = result.get_counts(pqc)\n",
    "\n",
    "plot_histogram(counts)"
   ]
  },
  {
   "cell_type": "code",
   "execution_count": 21,
   "metadata": {},
   "outputs": [
    {
     "name": "stdout",
     "output_type": "stream",
     "text": [
      "Solutions found:\n",
      "Solution 01100 with success probability 10.0%\n",
      "Solution 11000 with success probability 40.0%\n",
      "Solution 10001 with success probability 30.0%\n",
      "Solution 11010 with success probability 10.0%\n",
      "Solution 00110 with success probability 10.0%\n"
     ]
    }
   ],
   "source": [
    "print(\"Solutions found:\")\n",
    "for cres in counts:\n",
    "    print(f\"Solution {cres[::-1]} with success probability {counts[cres]*100/nshots}%\")"
   ]
  }
 ],
 "metadata": {
  "kernelspec": {
   "display_name": "Python 3.8.10 ('.venv': venv)",
   "language": "python",
   "name": "python3"
  },
  "language_info": {
   "codemirror_mode": {
    "name": "ipython",
    "version": 3
   },
   "file_extension": ".py",
   "mimetype": "text/x-python",
   "name": "python",
   "nbconvert_exporter": "python",
   "pygments_lexer": "ipython3",
   "version": "3.10.0"
  },
  "orig_nbformat": 4,
  "vscode": {
   "interpreter": {
    "hash": "103bead1b3505221cf3c93684cd5f873d89729dddf7b8625d3d8bb582bc8ea06"
   }
  }
 },
 "nbformat": 4,
 "nbformat_minor": 2
}
