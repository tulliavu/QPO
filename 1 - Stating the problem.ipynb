{
 "cells": [
  {
   "cell_type": "code",
   "execution_count": 56,
   "metadata": {},
   "outputs": [
    {
     "data": {
      "image/png": "[encoded data removed]",
      "text/plain": [
       "<Figure size 640x480 with 1 Axes>"
      ]
     },
     "metadata": {},
     "output_type": "display_data"
    },
    {
     "data": {
      "text/plain": [
       "-0.001382515877817916"
      ]
     },
     "execution_count": 56,
     "metadata": {},
     "output_type": "execute_result"
    }
   ],
   "source": [
    "#thaydoi\n",
    "import json\n",
    "import numpy as np\n",
    "import seaborn as sns\n",
    "import matplotlib.pyplot as plt\n",
    "import cvxpy as cp\n",
    "import numpy \n",
    "\n",
    "def classical(mu, sigma):\n",
    "    returns = data['mu']\n",
    "    covar = data['sigma']\n",
    "\n",
    "    assets = []\n",
    "    costs = []\n",
    "    for row in data['assets']:\n",
    "        assets.append(row[\"Asset\"])\n",
    "        costs.append(float(row[\"Open\"]))\n",
    "\n",
    "    # Half the money\n",
    "    budget = np.sum(costs)/0.5\n",
    "    # Our solution variable\n",
    "    x_val = cp.Variable(len(returns), boolean=True)\n",
    "    theta = cp.Parameter(nonneg=True)\n",
    "    ret = np.array(returns)@x_val\n",
    "    risk = cp.quad_form(x_val, covar)\n",
    "    e_costs = np.array(costs)@x_val\n",
    "\n",
    "    # Constraints\n",
    "    cons = [cp.sum(x_val) >= 0, cp.sum(e_costs) <= budget, x_val >= 0]\n",
    "\n",
    "    # Objective function\n",
    "    obj = cp.Minimize(- ret + theta*risk)\n",
    "\n",
    "    # Problem\n",
    "    prob = cp.Problem(obj, cons)\n",
    "    theta.value = 0.03 # This is related to the risk penalty lagrangian\n",
    "    prob.solve(solver='ECOS_BB')\n",
    "    #the result represents the optimal value of the objective function after solving the optimization problem"
   ]
  },
  {
   "cell_type": "markdown",
   "metadata": {},
   "source": [
    "We will use CVX and its Python implementation (cvxpy) with a mixed integer optimization approach as our problem is restricted by the boolean values our $x$ variables can take, created for convex optimization; itself isn't a solver, it is a modeling framework"
   ]
  },
  {
   "cell_type": "code",
   "execution_count": 67,
   "metadata": {},
   "outputs": [
    {
     "name": "stdout",
     "output_type": "stream",
     "text": [
      "<class 'pandas.core.frame.DataFrame'>\n",
      "  Num_Symbols          cvx_val_list\n",
      "0           4  [1.0, 1.0, 0.0, 1.0]\n",
      "1           4  [1.0, 1.0, 0.0, 1.0]\n",
      "2           4  [1.0, 1.0, 0.0, 1.0]\n",
      "3           4  [1.0, 1.0, 0.0, 1.0]\n",
      "4           4  [1.0, 1.0, 0.0, 1.0]\n",
      "5           4  [1.0, 1.0, 0.0, 1.0]\n"
     ]
    }
   ],
   "source": [
    "import csv\n",
    "import pickle\n",
    "import pandas as pd\n",
    "import sys\n",
    "import os\n",
    "\n",
    "# Load the DataFrame from a file if it exists\n",
    "if os.path.isfile('cvx.pkl'):\n",
    "    df = pd.read_pickle('cvx.pkl')\n",
    "else:\n",
    "    df = pd.DataFrame(columns=['Num_Symbols', 'cvx_val_list'])\n",
    "\n",
    "cvxselection = f\"{n}assetcvx.csv\"\n",
    "cvx_val_list = []  # Initialize an empty list to store the values\n",
    "\n",
    "with open(cvxselection, 'w', newline='') as file:\n",
    "    writer = csv.writer(file)\n",
    "    writer.writerow([\"Asset\", \"Selected\"])\n",
    "\n",
    "    for i, val in enumerate(np.round(x_val.value,1)):\n",
    "        cvx_val_list.append(val)  # Add the value to the list\n",
    "        if val == 1:\n",
    "            writer.writerow([assets[i], 1])\n",
    "        else:\n",
    "            writer.writerow([assets[i], 0])\n",
    "\n",
    "with open('cvx.pkl', 'wb') as f:\n",
    "    pickle.dump(cvx_val_list, f)\n",
    "with open('cvx.pkl', 'rb') as f:\n",
    "    val_list = pickle.load(f)\n",
    "# Create a new DataFrame with a single row\n",
    "new_row = pd.DataFrame({'Num_Symbols': [len(cvx_val_list)], 'cvx_val_list': [val_list]})\n",
    "print(type(new_row))\n",
    "# Append the new row to the existing DataFrame\n",
    "df = pd.concat([df, new_row], ignore_index=True)\n",
    "\n",
    "# Save the DataFrame to a file\n",
    "df.to_pickle('cvx.pkl')\n",
    "\n",
    "print(df)\n",
    "os.remove(cvxselection)"
   ]
  }
 ],
 "metadata": {
  "kernelspec": {
   "display_name": "Python 3 (ipykernel)",
   "language": "python",
   "name": "python3"
  },
  "language_info": {
   "codemirror_mode": {
    "name": "ipython",
    "version": 3
   },
   "file_extension": ".py",
   "mimetype": "text/x-python",
   "name": "python",
   "nbconvert_exporter": "python",
   "pygments_lexer": "ipython3",
   "version": "3.10.0"
  },
  "vscode": {
   "interpreter": {
    "hash": "103bead1b3505221cf3c93684cd5f873d89729dddf7b8625d3d8bb582bc8ea06"
   }
  }
 },
 "nbformat": 4,
 "nbformat_minor": 2
}
