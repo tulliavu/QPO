{
 "cells": [
  {
   "cell_type": "markdown",
   "metadata": {},
   "source": [
    "# Portfolio optimization\n",
    "\n",
    "Portfolio optimization is the problem related to financial services and banking industry that emerged with Markovitz's seminal paper in 1952. The model describes a set of assets $x_i \\in \\{X\\}_n$ from which a subset needs to be picked trying to maximize the revenue while minimizing the risk at $t$ future time steps. Each asset has associated a revenue forecast at a given time period ($e_i$) and the covariance between assets ($c_{ij}$) sets the risk amount in terms of diversification (for the sake of simplicity). The idea behind this diversification is that if we would only invest in the assets with highest revenue, the risk of them being driven by the same factors if our investment fails is bigger than if we diversify our portfolio. We will focus on a single time step process assuming local optima are part of the longer time step trajectory towards the global optima of our portfolio.\n",
    "\n",
    "Lets consider then, a single time step optimization for the sake of simplicity. Investment comes at a cost. A budget ($B$) is associated to the investment on a portfolio configuration and described by the summation cost of investing on each asset as $b_i$, where $i$ is the index of the particular asset. Ideally our recommendation should not surpass this condition ($\\sum b_i < B$). Hence, this classical optimization problem is often posed as \n",
    "\n",
    "$$\n",
    "\\displaystyle \\max_{x_{i}\\in{\\{0,1\\}}} \\sum_{i=1}^{n} x_{i}e_i -\\;\\theta \\sum_{i,j=1}^{n}x_{i}x_{j}c_{ij}\\\\\n",
    "\\textrm{s.t.} \\sum_{i=1}^{n}x_{i}b_{i} \\leq B, \\\\\n",
    "$$\n",
    "\n",
    "where $x_{i}\\in{\\{0,1\\}}$ is the mask associated to the selection of our set of assets and $\\theta$ is a Lagrangian operator modulating the amount of risk we would like to assume. We have binarized this selection as it simplifies the calculation but of course, more comples portfolio investments can be considered tackling those three aspects on the model (revenue, risk and budget).\n",
    "\n",
    "We will look for the minimization of that very same model as it will fit better the technical approach we will follow. Thus the final model would look like:\n",
    "\n",
    "$$\n",
    "\\displaystyle \\min_{x_{i}\\in{\\{0,1\\}}} - \\sum_{i=1}^{n} x_{i}e_i + \\;\\theta \\sum_{i,j=1}^{n}x_{i}x_{j}c_{ij}\\\\\n",
    "\\textrm{s.t.} \\sum_{i=1}^{n}x_{i}b_{i} \\leq B, \\\\\n",
    "$$\n",
    "\n",
    "Lets load our existing data and build that optimization problem."
   ]
  },
  {
   "cell_type": "code",
   "execution_count": 9,
   "metadata": {},
   "outputs": [],
   "source": [
    "import json\n",
    "\n",
    "data = None\n",
    "with open(\"binance-data.json\", \"r\") as jsonfile:\n",
    "    data = json.load(jsonfile)"
   ]
  },
  {
   "cell_type": "code",
   "execution_count": 10,
   "metadata": {},
   "outputs": [],
   "source": [
    "import numpy as np\n",
    "\n",
    "returns = data['mu']\n",
    "covar = data['sigma']\n",
    "\n",
    "assets = []\n",
    "costs = []\n",
    "for row in data['assets']:\n",
    "    assets.append(row[\"Asset\"])\n",
    "    costs.append(float(row[\"Open\"]))\n",
    "\n",
    "# Half the money\n",
    "budget = np.sum(costs)/0.5"
   ]
  },
  {
   "cell_type": "code",
   "execution_count": 11,
   "metadata": {},
   "outputs": [
    {
     "data": {
      "image/png": "[encoded data removed]",
      "text/plain": [
       "<Figure size 640x480 with 1 Axes>"
      ]
     },
     "metadata": {},
     "output_type": "display_data"
    }
   ],
   "source": [
    "import seaborn as sns\n",
    "import matplotlib.pyplot as plt\n",
    "sns.barplot(y=returns, x = assets)\n",
    "plt.show()"
   ]
  },
  {
   "cell_type": "markdown",
   "metadata": {},
   "source": [
    "We will use CVX and its Python implementation (cvxpy) with a mixed integer optimization approach as our problem is restricted by the boolean values our $x$ variables can take, created for convex optimization; itself isn't a solver, it is a modeling framework"
   ]
  },
  {
   "cell_type": "code",
   "execution_count": 12,
   "metadata": {},
   "outputs": [],
   "source": [
    "import cvxpy as cp\n",
    "import numpy \n",
    "\n",
    "# Our solution variable\n",
    "x_val = cp.Variable(len(returns), boolean=True)\n",
    "theta = cp.Parameter(nonneg=True)\n",
    "ret = np.array(returns)@x_val\n",
    "risk = cp.quad_form(x_val, covar)\n",
    "e_costs = np.array(costs)@x_val\n",
    "\n",
    "# Constraints\n",
    "cons = [cp.sum(x_val) >= 0, cp.sum(e_costs) <= budget, x_val >= 0]\n",
    "\n",
    "# Objective function\n",
    "obj = cp.Minimize(- ret + theta*risk)\n",
    "\n",
    "# Problem\n",
    "prob = cp.Problem(obj, cons)"
   ]
  },
  {
   "cell_type": "code",
   "execution_count": 16,
   "metadata": {},
   "outputs": [
    {
     "name": "stdout",
     "output_type": "stream",
     "text": [
      "0.0011274569999999828\n",
      "0.00038435621218983355\n",
      "CPU times: user 1.1 s, sys: 40.7 ms, total: 1.14 s\n",
      "Wall time: 1.16 s\n"
     ]
    }
   ],
   "source": [
    "%%time\n",
    "import csv\n",
    "import time\n",
    "import pandas as pd\n",
    "i = 0\n",
    "with open('cvxpy5.csv', 'w', newline='') as file:\n",
    "    writer = csv.writer(file)\n",
    "    field = ['number of asset',\"iteration\", \"time\"]\n",
    "    writer.writerow(field)\n",
    "    while i<1000:\n",
    "        i = i + 1\n",
    "        start = time.process_time()\n",
    "        theta.value = 0.03 # This is related to the risk penalty lagrangian\n",
    "        prob.solve(solver='ECOS_BB')\n",
    "        end = time.process_time()\n",
    "        writer.writerow([5, i, end-start])\n",
    "data1 = pd.read_csv('cvxpy5.csv')\n",
    "print(data1['time'].mean())\n",
    "print(data1['time'].std())"
   ]
  },
  {
   "cell_type": "code",
   "execution_count": null,
   "metadata": {},
   "outputs": [
    {
     "name": "stdout",
     "output_type": "stream",
     "text": [
      "Asset ETHBTC was selected\n",
      "Asset LTCBTC was not selected\n",
      "Asset BNBBTC was selected\n",
      "Asset NEOBTC was not selected\n",
      "Asset QTUMETH was not selected\n"
     ]
    }
   ],
   "source": [
    "for i, val in enumerate(np.round(x_val.value,1)):\n",
    "    if val == 1:\n",
    "        print(f\"Asset {assets[i]} was selected\")\n",
    "    else:\n",
    "        print(f\"Asset {assets[i]} was not selected\")"
   ]
  }
 ],
 "metadata": {
  "kernelspec": {
   "display_name": "Python 3 (ipykernel)",
   "language": "python",
   "name": "python3"
  },
  "language_info": {
   "codemirror_mode": {
    "name": "ipython",
    "version": 3
   },
   "file_extension": ".py",
   "mimetype": "text/x-python",
   "name": "python",
   "nbconvert_exporter": "python",
   "pygments_lexer": "ipython3",
   "version": "3.10.0"
  },
  "vscode": {
   "interpreter": {
    "hash": "103bead1b3505221cf3c93684cd5f873d89729dddf7b8625d3d8bb582bc8ea06"
   }
  }
 },
 "nbformat": 4,
 "nbformat_minor": 2
}
