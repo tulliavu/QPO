{
 "cells": [
  {
   "cell_type": "code",
   "execution_count": 3,
   "metadata": {},
   "outputs": [
    {
     "name": "stdout",
     "output_type": "stream",
     "text": [
      "The autoreload extension is already loaded. To reload it, use:\n",
      "  %reload_ext autoreload\n"
     ]
    }
   ],
   "source": [
    "from qiskit_algorithms.minimum_eigensolvers import NumPyMinimumEigensolver\n",
    "from qiskit_optimization.algorithms import MinimumEigenOptimizer\n",
    "from qiskit_algorithms.optimizers import COBYLA\n",
    "from qiskit.primitives import Estimator\n",
    "from qiskit.algorithms.minimum_eigensolvers import VQE\n",
    "import utils, csv, time, pandas as pd\n",
    "%load_ext autoreload\n",
    "%autoreload 2"
   ]
  },
  {
   "cell_type": "markdown",
   "metadata": {},
   "source": [
    "### Exact eigen-solver"
   ]
  },
  {
   "cell_type": "code",
   "execution_count": 5,
   "metadata": {},
   "outputs": [
    {
     "name": "stdout",
     "output_type": "stream",
     "text": [
      "0.009153035999999823\n",
      "0.001578858430844507\n",
      "Optimal: selection [1. 0. 1. 0. 0. 1.], value -0.0021\n",
      "\n",
      "----------------- Full result ---------------------\n",
      "selection\tvalue\t\tprobability\n",
      "---------------------------------------------------\n",
      "[1 0 1 0 0 1]\t-0.0021\t\t1.0000\n"
     ]
    }
   ],
   "source": [
    "qp = utils.qp_binace_data6()\n",
    "\n",
    "# exact_eigensolver\n",
    "exact_mes = NumPyMinimumEigensolver()\n",
    "exact_eigensolver = MinimumEigenOptimizer(exact_mes)\n",
    "result = exact_eigensolver.solve(qp)\n",
    "\n",
    "# time\n",
    "i = 0\n",
    "with open('exact_eigensolver6g2.csv', 'w', newline='') as file:\n",
    "    writer = csv.writer(file)\n",
    "    field = ['number of asset', \"iteration\", \"time\"]\n",
    "    writer.writerow(field)\n",
    "    while i < 1000:\n",
    "        i = i + 1\n",
    "        start = time.process_time()\n",
    "        result = exact_eigensolver.solve(qp)\n",
    "        end = time.process_time()\n",
    "        writer.writerow([6, i, end-start])\n",
    "data1 = pd.read_csv('exact_eigensolver6g2.csv')\n",
    "print(data1['time'].mean())\n",
    "print(data1['time'].std())\n",
    "utils.print_result(qp, result, 6)\n",
    "\n"
   ]
  },
  {
   "cell_type": "markdown",
   "metadata": {},
   "source": [
    "### VQE"
   ]
  },
  {
   "cell_type": "code",
   "execution_count": null,
   "metadata": {},
   "outputs": [],
   "source": [
    "def run_vqe(optimizer, num_assets, num_layers):\n",
    "    vqe_mes = VQE(estimator = Estimator(), ansatz = utils.g2(num_assets, num_layers), optimizer=COBYLA(500))\n",
    "    vqe = MinimumEigenOptimizer(vqe_mes)\n",
    "    result = vqe.solve(qp)\n",
    "    i = 0\n",
    "    with open(f'{optimizer}_{num_assets}_{num_layers}.csv', 'w', newline='') as file:\n",
    "        writer = csv.writer(file)\n",
    "        field = ['number of asset', \"iteration\", \"time\"]\n",
    "        writer.writerow(field)\n",
    "        while i < 1000:\n",
    "            i = i + 1\n",
    "            start = time.process_time()\n",
    "            result = vqe.solve(qp)\n",
    "            end = time.process_time()\n",
    "            writer.writerow([6, i, end-start])\n",
    "    data1 = pd.read_csv(f'{optimizer}_{num_assets}_{num_layers}.csv')\n",
    "    print(data1['time'].mean())\n",
    "    print(data1['time'].std())\n",
    "    utils.print_result(result)\n",
    "    \n",
    "for i in range(1, 6):\n",
    "    run_vqe('COBYLA', 6, i)"
   ]
  }
 ],
 "metadata": {
  "kernelspec": {
   "display_name": "Python 3",
   "language": "python",
   "name": "python3"
  },
  "language_info": {
   "codemirror_mode": {
    "name": "ipython",
    "version": 3
   },
   "file_extension": ".py",
   "mimetype": "text/x-python",
   "name": "python",
   "nbconvert_exporter": "python",
   "pygments_lexer": "ipython3",
   "version": "3.10.9"
  }
 },
 "nbformat": 4,
 "nbformat_minor": 2
}
