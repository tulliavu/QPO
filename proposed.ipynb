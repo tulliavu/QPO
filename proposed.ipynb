{
 "cells": [
  {
   "cell_type": "code",
   "execution_count": 6,
   "metadata": {},
   "outputs": [
    {
     "name": "stdout",
     "output_type": "stream",
     "text": [
      "The autoreload extension is already loaded. To reload it, use:\n",
      "  %reload_ext autoreload\n",
      "[0 0 0 1 1 1 1 1 0 0 0 1 0 0 1 1]\n",
      "[0 1 0 1 0 1 1 0 0 1 0 0 1 1 0 1]\n",
      "[0 1 0 0 1 1 0 1 0 1 0 0 1 1 0 1]\n",
      "[1 1 1 0 1 0 0 1 0 0 0 0 1 1 1 0]\n",
      "[1 1 0 1 0 1 0 1 1 0 0 0 1 0 0 1]\n",
      "[0 0 0 1 1 1 1 0 1 1 1 0 0 0 0 1]\n",
      "[1 1 1 1 0 0 0 0 1 0 1 0 0 0 1 1]\n",
      "[0 1 0 1 1 0 0 0 1 1 1 0 0 1 1 0]\n",
      "[0 1 0 0 1 0 1 0 1 0 0 1 1 1 0 1]\n"
     ]
    },
    {
     "name": "stderr",
     "output_type": "stream",
     "text": [
      "/Users/vutuanhai/Documents/GitHub/quantum_finance/model.py:44: RuntimeWarning: invalid value encountered in sqrt\n",
      "  return np.sqrt(result.get(0, 0) - result.get(1, 0))*x_k*mu_k, abs(np.inner(x, mu))\n"
     ]
    },
    {
     "name": "stdout",
     "output_type": "stream",
     "text": [
      "[0 0 1 0 1 0 1 1 0 0 1 0 1 1 0 1]\n",
      "[1 0 0 0 1 0 1 1 1 1 1 0 1 0 0 0]\n",
      "[1 0 1 0 1 0 1 0 1 0 1 1 0 0 0 1]\n",
      "[0 1 1 1 0 0 0 1 0 0 0 1 1 0 1 1]\n",
      "[0 1 0 1 0 0 0 0 1 1 1 1 1 0 1 0]\n",
      "[1 1 1 0 0 0 0 1 1 0 1 0 0 1 1 0]\n",
      "[0 0 1 1 1 0 1 1 0 0 0 1 0 0 1 1]\n",
      "[1 1 0 0 0 1 0 1 1 0 1 0 1 0 0 1]\n",
      "[0 1 1 0 1 1 0 0 1 0 0 1 0 1 0 1]\n",
      "[0 0 1 0 0 1 0 1 1 1 0 0 1 1 0 1]\n",
      "[0 0 1 0 1 1 0 0 1 1 0 0 1 0 1 1]\n",
      "[0 1 1 1 0 1 0 1 0 0 1 0 0 1 0 1]\n",
      "[0 0 1 0 1 1 0 1 0 0 1 1 1 0 0 1]\n",
      "[0 0 1 0 0 1 1 0 1 0 1 1 0 0 1 1]\n",
      "[0 0 0 0 1 0 1 1 0 0 1 1 1 1 0 1]\n",
      "[1 0 0 1 0 0 0 0 1 1 1 1 1 1 0 0]\n",
      "[0 1 1 1 0 1 0 1 0 0 0 1 0 0 1 1]\n",
      "[0 0 1 0 1 0 0 0 1 1 1 1 0 1 0 1]\n"
     ]
    },
    {
     "name": "stderr",
     "output_type": "stream",
     "text": [
      "/Users/vutuanhai/Documents/GitHub/quantum_finance/model.py:44: RuntimeWarning: invalid value encountered in sqrt\n",
      "  return np.sqrt(result.get(0, 0) - result.get(1, 0))*x_k*mu_k, abs(np.inner(x, mu))\n"
     ]
    },
    {
     "name": "stdout",
     "output_type": "stream",
     "text": [
      "[0 1 0 1 0 0 1 1 1 1 1 0 1 0 0 0]\n",
      "[0 0 1 1 1 0 1 0 1 1 0 0 0 0 1 1]\n",
      "[1 0 1 1 1 1 0 0 1 0 0 0 0 1 1 0]\n",
      "[1 0 0 1 0 1 1 1 1 0 0 0 0 1 0 1]\n",
      "[0 0 1 1 0 0 1 1 0 1 0 1 0 1 1 0]\n",
      "[0 0 1 0 0 1 0 0 0 1 0 1 1 1 1 1]\n",
      "[1 1 0 1 1 0 0 0 0 1 1 0 0 1 1 0]\n"
     ]
    },
    {
     "name": "stderr",
     "output_type": "stream",
     "text": [
      "/Users/vutuanhai/Documents/GitHub/quantum_finance/model.py:44: RuntimeWarning: invalid value encountered in sqrt\n",
      "  return np.sqrt(result.get(0, 0) - result.get(1, 0))*x_k*mu_k, abs(np.inner(x, mu))\n"
     ]
    },
    {
     "name": "stdout",
     "output_type": "stream",
     "text": [
      "[1 1 0 1 1 0 1 0 0 0 0 0 1 1 0 1]\n",
      "[0 1 0 1 0 0 0 1 0 1 0 1 1 0 1 1]\n",
      "[1 0 1 0 1 0 0 1 1 0 1 1 1 0 0 0]\n",
      "[1 1 0 0 0 0 1 1 0 1 0 1 1 1 0 0]\n",
      "[0 1 0 0 0 1 0 1 1 1 1 1 0 1 0 0]\n",
      "[0 1 0 0 1 0 1 1 0 1 1 0 0 1 1 0]\n",
      "[0 1 1 0 1 0 1 0 1 1 0 1 0 1 0 0]\n",
      "[0 1 0 0 1 1 1 0 1 0 0 1 1 0 0 1]\n",
      "[0 0 1 0 1 1 1 1 1 0 0 0 0 1 1 0]\n",
      "[0 1 0 1 1 0 1 0 1 0 1 0 0 0 1 1]\n",
      "[1 0 0 1 1 1 1 1 0 1 0 0 0 0 1 0]\n",
      "[1 1 0 0 0 0 1 0 0 1 1 0 1 1 0 1]\n",
      "[0 1 1 1 0 0 0 0 0 1 1 0 1 1 1 0]\n",
      "[1 0 1 0 0 1 1 1 0 0 0 1 0 1 1 0]\n",
      "[1 1 1 0 1 1 0 1 0 0 0 1 1 0 0 0]\n",
      "[0 0 0 0 0 1 1 1 1 0 1 1 0 0 1 1]\n",
      "[1 1 0 1 1 0 1 1 0 0 0 1 1 0 0 0]\n",
      "[1 0 1 1 0 0 1 0 1 1 0 0 1 1 0 0]\n",
      "[0 0 0 0 1 1 1 1 0 1 0 1 1 1 0 0]\n",
      "[1 1 0 1 0 1 1 0 0 0 0 0 0 1 1 1]\n",
      "[1 0 1 0 0 0 1 0 0 0 1 1 1 1 0 1]\n",
      "[0 0 1 0 0 1 0 1 0 1 1 1 0 1 1 0]\n",
      "[0 0 1 0 1 1 1 1 0 1 0 1 1 0 0 0]\n",
      "[1 0 1 0 0 0 1 0 1 0 0 1 1 1 0 1]\n",
      "[0 1 1 1 0 0 1 0 0 0 1 0 0 1 1 1]\n",
      "[0 1 0 1 0 0 1 0 1 0 1 0 1 0 1 1]\n",
      "[1 0 0 0 1 1 0 0 0 0 0 1 1 1 1 1]\n",
      "[0 1 1 1 1 0 1 0 0 1 1 0 1 0 0 0]\n",
      "[0 0 0 1 1 0 0 1 0 1 0 0 1 1 1 1]\n",
      "[0 1 1 0 0 1 0 1 0 1 1 0 1 1 0 0]\n",
      "[1 0 1 1 0 0 0 1 1 1 0 1 0 1 0 0]\n",
      "[1 1 1 1 0 0 0 0 1 1 0 1 0 0 0 1]\n",
      "[1 1 1 0 1 0 1 1 1 0 0 0 0 0 1 0]\n",
      "[1 0 0 1 0 1 1 0 1 0 1 0 1 0 0 1]\n",
      "[0 1 1 0 1 0 0 0 1 0 1 1 0 1 1 0]\n",
      "[1 0 0 0 0 1 1 1 0 0 1 0 1 1 0 1]\n",
      "[0 1 1 1 0 1 0 0 0 0 1 1 1 1 0 0]\n",
      "[0 1 0 0 0 1 1 0 1 1 0 1 0 1 1 0]\n",
      "[1 0 1 0 0 1 1 0 0 1 0 1 1 1 0 0]\n",
      "[0 0 1 0 0 0 0 0 1 1 1 0 1 1 1 1]\n",
      "[0 0 1 0 1 1 0 0 1 1 0 0 1 0 1 1]\n",
      "[1 0 0 1 0 0 0 1 0 1 0 1 1 1 0 1]\n",
      "[1 0 0 0 0 1 1 0 1 0 0 0 1 1 1 1]\n",
      "[1 0 1 0 0 0 0 0 1 1 1 0 1 1 0 1]\n",
      "[1 1 1 0 1 0 1 0 1 0 0 0 0 1 1 0]\n"
     ]
    },
    {
     "name": "stderr",
     "output_type": "stream",
     "text": [
      "/Users/vutuanhai/Documents/GitHub/quantum_finance/model.py:44: RuntimeWarning: invalid value encountered in sqrt\n",
      "  return np.sqrt(result.get(0, 0) - result.get(1, 0))*x_k*mu_k, abs(np.inner(x, mu))\n"
     ]
    },
    {
     "name": "stdout",
     "output_type": "stream",
     "text": [
      "[0 0 1 1 0 0 1 0 1 0 0 1 0 1 1 1]\n",
      "[0 1 1 1 0 1 1 0 1 0 1 0 1 0 0 0]\n",
      "[1 1 0 0 0 0 0 0 1 0 0 1 1 1 1 1]\n",
      "[0 0 1 1 0 1 1 1 1 0 1 0 0 1 0 0]\n",
      "[1 1 1 0 1 1 1 0 0 0 0 0 1 1 0 0]\n",
      "[0 1 1 0 1 0 0 1 1 1 0 0 1 1 0 0]\n",
      "[1 0 1 0 0 1 1 1 0 0 0 0 0 1 1 1]\n",
      "[0 1 1 0 1 1 0 0 1 0 0 0 1 1 1 0]\n",
      "[0 1 1 0 1 1 1 1 0 0 1 0 1 0 0 0]\n",
      "[0 1 0 1 0 0 1 1 1 0 1 1 0 1 0 0]\n"
     ]
    },
    {
     "name": "stderr",
     "output_type": "stream",
     "text": [
      "/Users/vutuanhai/Documents/GitHub/quantum_finance/model.py:44: RuntimeWarning: invalid value encountered in sqrt\n",
      "  return np.sqrt(result.get(0, 0) - result.get(1, 0))*x_k*mu_k, abs(np.inner(x, mu))\n"
     ]
    },
    {
     "name": "stdout",
     "output_type": "stream",
     "text": [
      "[1 0 0 0 1 1 0 1 0 0 1 0 1 1 0 1]\n",
      "[1 1 0 1 1 0 0 0 1 0 0 1 1 0 1 0]\n",
      "[1 0 1 0 0 0 1 0 1 0 1 0 0 1 1 1]\n",
      "[0 1 0 0 1 0 1 0 0 1 0 1 0 1 1 1]\n",
      "[1 1 1 1 1 0 1 0 0 1 0 1 0 0 0 0]\n",
      "[1 1 1 0 0 0 1 0 0 1 1 1 0 0 1 0]\n",
      "[0 1 1 0 0 0 0 1 1 0 1 1 1 0 0 1]\n",
      "[0 1 0 1 0 1 1 1 0 1 0 0 1 0 0 1]\n",
      "[0 0 1 1 1 0 0 0 1 1 1 1 0 0 0 1]\n",
      "[1 1 0 0 1 0 0 1 1 0 1 1 0 0 1 0]\n",
      "[0 0 1 0 0 0 1 1 1 1 1 0 0 1 0 1]\n"
     ]
    }
   ],
   "source": [
    "import qiskit\n",
    "import numpy as np, pandas as pd\n",
    "%load_ext autoreload\n",
    "%autoreload 2\n",
    "import data, po, model, ast, csv\n",
    "\n",
    "for num_assets in range(16,17):\n",
    "\n",
    "    file_name = f'./result_{num_assets}.csv'\n",
    "    result = pd.read_csv(file_name)\n",
    "    for i in range(0, len(result)):\n",
    "        asset_list = (result['assets'][i])\n",
    "        array_string = asset_list.replace(\"[\", \"\").replace(\"]\", \"\").replace(\"'\", \"\")\n",
    "        asset_list = array_string.split()\n",
    "        mu, sigma, _ = data.get_mu_sigma_specific('asset.csv', asset_list)\n",
    "        numpy_result, qpo_result = (model.qpo(mu, sigma))\n",
    "        \n",
    "        file_name = f\"compare_{num_assets}.csv\"\n",
    "        # check if file exists\n",
    "        try:\n",
    "            with open(file_name, 'r') as csvfile:\n",
    "                pass\n",
    "        except FileNotFoundError:\n",
    "            with open(file_name, 'w') as csvfile:\n",
    "                # Create a csv writer object\n",
    "                csvwriter = csv.writer(csvfile)\n",
    "                # Write the row to csv file\n",
    "                csvwriter.writerow(['assets', 'numpy', 'qpo'])\n",
    "        df = pd.read_csv(file_name)\n",
    "        asset = df.assets.unique()\n",
    "        row = [[str(asset_list),numpy_result, qpo_result]]\n",
    "            \n",
    "        if row[0][0] not in asset:\n",
    "            with open(file_name, 'a') as csvfile:\n",
    "                # Create a csv writer object\n",
    "                # Check the value of first cell in row, if it is existing, then skip writing it\n",
    "                \n",
    "                csvwriter = csv.writer(csvfile)\n",
    "                csvwriter.writerows(row)"
   ]
  },
  {
   "cell_type": "code",
   "execution_count": 14,
   "metadata": {},
   "outputs": [
    {
     "name": "stdout",
     "output_type": "stream",
     "text": [
      "The autoreload extension is already loaded. To reload it, use:\n",
      "  %reload_ext autoreload\n",
      "Num assets 2:  0.0078067779541015625\n",
      "Num assets 3:  0.011284422874450684\n",
      "Num assets 4:  0.011734461784362793\n",
      "Num assets 5:  0.02232699394226074\n",
      "Num assets 6:  0.02306101322174072\n"
     ]
    },
    {
     "name": "stderr",
     "output_type": "stream",
     "text": [
      "/Users/vutuanhai/Documents/GitHub/quantum_finance/model.py:43: RuntimeWarning: invalid value encountered in sqrt\n",
      "  result = sampler.run(qc, shots = 10000).result().quasi_dists[0]\n",
      "/Users/vutuanhai/Documents/GitHub/quantum_finance/model.py:43: RuntimeWarning: invalid value encountered in sqrt\n",
      "  result = sampler.run(qc, shots = 10000).result().quasi_dists[0]\n"
     ]
    },
    {
     "name": "stdout",
     "output_type": "stream",
     "text": [
      "Num assets 7:  0.025965023040771484\n",
      "Num assets 8:  0.029480600357055665\n"
     ]
    },
    {
     "name": "stderr",
     "output_type": "stream",
     "text": [
      "/Users/vutuanhai/Documents/GitHub/quantum_finance/model.py:43: RuntimeWarning: invalid value encountered in sqrt\n",
      "  result = sampler.run(qc, shots = 10000).result().quasi_dists[0]\n"
     ]
    },
    {
     "name": "stdout",
     "output_type": "stream",
     "text": [
      "Num assets 9:  0.05644092559814453\n"
     ]
    },
    {
     "name": "stderr",
     "output_type": "stream",
     "text": [
      "/Users/vutuanhai/Documents/GitHub/quantum_finance/model.py:43: RuntimeWarning: invalid value encountered in sqrt\n",
      "  result = sampler.run(qc, shots = 10000).result().quasi_dists[0]\n"
     ]
    },
    {
     "name": "stdout",
     "output_type": "stream",
     "text": [
      "Num assets 10:  0.06453001499176025\n"
     ]
    },
    {
     "name": "stderr",
     "output_type": "stream",
     "text": [
      "/Users/vutuanhai/Documents/GitHub/quantum_finance/model.py:43: RuntimeWarning: invalid value encountered in sqrt\n",
      "  result = sampler.run(qc, shots = 10000).result().quasi_dists[0]\n"
     ]
    },
    {
     "name": "stdout",
     "output_type": "stream",
     "text": [
      "Num assets 11:  0.0654184341430664\n"
     ]
    },
    {
     "name": "stderr",
     "output_type": "stream",
     "text": [
      "/Users/vutuanhai/Documents/GitHub/quantum_finance/model.py:43: RuntimeWarning: invalid value encountered in sqrt\n",
      "  result = sampler.run(qc, shots = 10000).result().quasi_dists[0]\n",
      "/Users/vutuanhai/Documents/GitHub/quantum_finance/model.py:43: RuntimeWarning: invalid value encountered in sqrt\n",
      "  result = sampler.run(qc, shots = 10000).result().quasi_dists[0]\n"
     ]
    },
    {
     "name": "stdout",
     "output_type": "stream",
     "text": [
      "Num assets 12:  0.08128306865692139\n",
      "Num assets 13:  0.09692492485046386\n",
      "Num assets 14:  0.12835533618927003\n"
     ]
    },
    {
     "name": "stderr",
     "output_type": "stream",
     "text": [
      "/Users/vutuanhai/Documents/GitHub/quantum_finance/model.py:43: RuntimeWarning: invalid value encountered in sqrt\n",
      "  result = sampler.run(qc, shots = 10000).result().quasi_dists[0]\n"
     ]
    },
    {
     "name": "stdout",
     "output_type": "stream",
     "text": [
      "Num assets 15:  0.18279435634613037\n",
      "Num assets 16:  0.33434467315673827\n"
     ]
    }
   ],
   "source": [
    "import qiskit\n",
    "import numpy as np, pandas as pd\n",
    "%load_ext autoreload\n",
    "%autoreload 2\n",
    "import data, po, model, ast, csv\n",
    "import time\n",
    "times = []\n",
    "timesx = []\n",
    "for num_assets in range(2,17):\n",
    "    times = []\n",
    "    file_name = f'./result/result_{num_assets}.csv'\n",
    "    result = pd.read_csv(file_name)\n",
    "    for i in range(0, 10):\n",
    "        asset_list = (result['assets'][i])\n",
    "        array_string = asset_list.replace(\"[\", \"\").replace(\"]\", \"\").replace(\"'\", \"\")\n",
    "        asset_list = array_string.split()\n",
    "        mu, sigma, _ = data.get_mu_sigma_specific('asset.csv', asset_list)\n",
    "        begin = time.time()\n",
    "        numpy_result, qpo_result = (model.qpo(mu, sigma))\n",
    "        end = time.time()\n",
    "        times.append(end-begin)\n",
    "    timesx.append(np.mean(times))\n",
    "    print(f\"Num assets {num_assets}: \", np.mean(times))"
   ]
  },
  {
   "cell_type": "code",
   "execution_count": 15,
   "metadata": {},
   "outputs": [
    {
     "data": {
      "image/png": "[encoded data removed]",
      "text/plain": [
       "<Figure size 640x480 with 1 Axes>"
      ]
     },
     "metadata": {},
     "output_type": "display_data"
    }
   ],
   "source": [
    "import matplotlib.pyplot as plt\n",
    "\n",
    "plt.xticks(range(2,17))\n",
    "plt.plot(range(2,17),timesx)\n",
    "plt.ylabel('Time (s)')\n",
    "plt.xlabel('# assets')\n",
    "plt.show()"
   ]
  },
  {
   "cell_type": "code",
   "execution_count": 16,
   "metadata": {},
   "outputs": [
    {
     "name": "stdout",
     "output_type": "stream",
     "text": [
      "The autoreload extension is already loaded. To reload it, use:\n",
      "  %reload_ext autoreload\n"
     ]
    },
    {
     "name": "stderr",
     "output_type": "stream",
     "text": [
      "Traceback (most recent call last):\n",
      "capi_return is NULL\n",
      "Call-back cb_calcfc_in__cobyla__user__routines failed.\n",
      "Fatal Python error: F2PySwapThreadLocalCallbackPtr: F2PySwapThreadLocalCallbackPtr: PyLong_AsVoidPtr failed\n",
      "Python runtime state: initialized\n",
      "  File \"/Library/Frameworks/Python.framework/Versions/3.10/lib/python3.10/site-packages/scipy/optimize/_cobyla_py.py\", line 281, in calcfc\n",
      "    f = sf.fun(x)\n",
      "  File \"/Library/Frameworks/Python.framework/Versions/3.10/lib/python3.10/site-packages/scipy/optimize/_differentiable_functions.py\", line 267, in fun\n",
      "    self._update_fun()\n",
      "  File \"/Library/Frameworks/Python.framework/Versions/3.10/lib/python3.10/site-packages/scipy/optimize/_differentiable_functions.py\", line 251, in _update_fun\n",
      "    self._update_fun_impl()\n",
      "  File \"/Library/Frameworks/Python.framework/Versions/3.10/lib/python3.10/site-packages/scipy/optimize/_differentiable_functions.py\", line 155, in update_fun\n",
      "    self.f = fun_wrapped(self.x)\n",
      "  File \"/Library/Frameworks/Python.framework/Versions/3.10/lib/python3.10/site-packages/scipy/optimize/_differentiable_functions.py\", line 137, in fun_wrapped\n",
      "    fx = fun(np.copy(x), *args)\n",
      "  File \"/Library/Frameworks/Python.framework/Versions/3.10/lib/python3.10/site-packages/qiskit_algorithms/minimum_eigensolvers/sampling_vqe.py\", line 309, in evaluate_energy\n",
      "    ).result()\n",
      "  File \"/Library/Frameworks/Python.framework/Versions/3.10/lib/python3.10/site-packages/qiskit/primitives/primitive_job.py\", line 55, in result\n",
      "    return self._future.result()\n",
      "  File \"/Library/Frameworks/Python.framework/Versions/3.10/lib/python3.10/concurrent/futures/_base.py\", line 453, in result\n",
      "    self._condition.wait(timeout)\n",
      "  File \"/Library/Frameworks/Python.framework/Versions/3.10/lib/python3.10/threading.py\", line 320, in wait\n",
      "    waiter.acquire()\n",
      "KeyboardInterrupt\n"
     ]
    },
    {
     "ename": "",
     "evalue": "",
     "output_type": "error",
     "traceback": [
      "\u001b[1;31mThe Kernel crashed while executing code in the current cell or a previous cell. \n",
      "\u001b[1;31mPlease review the code in the cell(s) to identify a possible cause of the failure. \n",
      "\u001b[1;31mClick <a href='https://aka.ms/vscodeJupyterKernelCrash'>here</a> for more info. \n",
      "\u001b[1;31mView Jupyter <a href='command:jupyter.viewOutput'>log</a> for further details."
     ]
    }
   ],
   "source": [
    "import numpy as np\n",
    "import matplotlib.pyplot as plt, csv\n",
    "import datetime\n",
    "import data, po, model\n",
    "import ast, pandas as pd\n",
    "from qsee.core.ansatz import Wchain_zxz\n",
    "%load_ext autoreload\n",
    "%autoreload 2\n",
    "\n",
    "times_x_qoao = []\n",
    "times_x_vqe = []\n",
    "for num_assets in range(2,17):\n",
    "    times_vqe = []\n",
    "    times_qoao = []\n",
    "    for i in range(10):    \n",
    "        mu, sigma, asset_list = data.get_mu_sigma('asset.csv', num_assets)\n",
    "        qp = po.to_po(mu, sigma, num_assets = num_assets, q = 0.5)\n",
    "        begin = time.time()\n",
    "        resultQOAO = model.qoao(qp)\n",
    "        end = time.time()\n",
    "        times_qoao.append(end-begin)\n",
    "        begin = time.time()\n",
    "        resultVQE = model.vqe(qp, Wchain_zxz(num_assets, int(np.ceil(num_assets/2))))\n",
    "        end = time.time()\n",
    "        times_vqe.append(end-begin)\n",
    "    times_x_qoao.append(np.mean(times_qoao))\n",
    "    times_x_vqe.append(np.mean(times_vqe))\n",
    "plt.plot(range(2,17),times_x_qoao, label = 'QOAO')\n",
    "plt.plot(range(2,17),times_x_vqe, label = 'VQE')"
   ]
  },
  {
   "cell_type": "code",
   "execution_count": 39,
   "metadata": {},
   "outputs": [
    {
     "name": "stdout",
     "output_type": "stream",
     "text": [
      "1\n",
      "1\n",
      "10\n",
      "26\n",
      "57\n",
      "118\n"
     ]
    }
   ],
   "source": [
    "# create 8-dimensional binary vector\n",
    "for i in [2,4,8,16,32,64]:\n",
    "    x = np.random.randint(2, size=i)\n",
    "    x = x /np.sqrt(np.sum(x))\n",
    "    qc = qiskit.QuantumCircuit(int(np.log2(len(x))))\n",
    "    qc.prepare_state(x)\n",
    "    from qiskit.compiler import transpile\n",
    "    from qiskit.providers.fake_provider import FakeQasmSimulator\n",
    "    qc1 = transpile(qc, backend = FakeQasmSimulator())\n",
    "\n",
    "    print(qc1.depth())"
   ]
  },
  {
   "cell_type": "code",
   "execution_count": 36,
   "metadata": {},
   "outputs": [
    {
     "name": "stdout",
     "output_type": "stream",
     "text": [
      "[-0.0029036236691319084, -0.0026702570589396614, -0.011380828801780924, 0.000619347729741717, -0.00527452174872208] [[0.00106326 0.00061676 0.00125094 0.00066726 0.00084313]\n",
      " [0.00061676 0.00145862 0.00140272 0.00107915 0.00136494]\n",
      " [0.00125094 0.00140272 0.00309352 0.00132747 0.00200171]\n",
      " [0.00066726 0.00107915 0.00132747 0.00203238 0.00127067]\n",
      " [0.00084313 0.00136494 0.00200171 0.00127067 0.00206379]]\n"
     ]
    }
   ],
   "source": [
    "\n",
    "\n",
    "\n",
    "mu, sigma, _ = data.get_mu_sigma_specific('asset.csv', ['ATMUSDT','SOLUSDT','BNXUSDT', 'AAVEUSDT', 'APTUSDT'])\n",
    "print(mu, sigma)"
   ]
  }
 ],
 "metadata": {
  "kernelspec": {
   "display_name": "Python 3",
   "language": "python",
   "name": "python3"
  },
  "language_info": {
   "codemirror_mode": {
    "name": "ipython",
    "version": 3
   },
   "file_extension": ".py",
   "mimetype": "text/x-python",
   "name": "python",
   "nbconvert_exporter": "python",
   "pygments_lexer": "ipython3",
   "version": "3.10.9"
  }
 },
 "nbformat": 4,
 "nbformat_minor": 2
}
