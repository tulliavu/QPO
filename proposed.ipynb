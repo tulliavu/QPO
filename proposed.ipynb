{
 "cells": [
  {
   "cell_type": "code",
   "execution_count": 1,
   "metadata": {},
   "outputs": [
    {
     "name": "stderr",
     "output_type": "stream",
     "text": [
      "/Users/vutuanhai/Documents/GitHub/quantum_finance/model.py:34: RuntimeWarning: invalid value encountered in sqrt\n",
      "  return np.sqrt(result.get(0, 0) - result.get(1, 0))*x_k*mu_k, abs(np.inner(x, mu))\n",
      "/Users/vutuanhai/Documents/GitHub/quantum_finance/model.py:34: RuntimeWarning: invalid value encountered in sqrt\n",
      "  return np.sqrt(result.get(0, 0) - result.get(1, 0))*x_k*mu_k, abs(np.inner(x, mu))\n",
      "/Users/vutuanhai/Documents/GitHub/quantum_finance/model.py:34: RuntimeWarning: invalid value encountered in sqrt\n",
      "  return np.sqrt(result.get(0, 0) - result.get(1, 0))*x_k*mu_k, abs(np.inner(x, mu))\n"
     ]
    }
   ],
   "source": [
    "import qiskit\n",
    "import numpy as np, pandas as pd\n",
    "%load_ext autoreload\n",
    "%autoreload 2\n",
    "import data, po, model, ast, csv\n",
    "\n",
    "num_assets = 2\n",
    "\n",
    "file_name = f'./result_{num_assets}.csv'\n",
    "result = pd.read_csv(file_name)\n",
    "for i in range(0, len(result)):\n",
    "    asset_list = (result['assets'][i])\n",
    "    array_string = asset_list.replace(\"[\", \"\").replace(\"]\", \"\").replace(\"'\", \"\")\n",
    "    asset_list = array_string.split()\n",
    "    mu, sigma, _ = data.get_mu_sigma_specific('asset.csv', asset_list)\n",
    "    numpy_result, qpo_result = (model.qpo(mu, sigma))\n",
    "    \n",
    "    file_name = f\"compare_{num_assets}.csv\"\n",
    "    df = pd.read_csv(file_name)\n",
    "    asset = df.assets.unique()\n",
    "    row = [[str(asset_list),numpy_result, qpo_result]]\n",
    "        \n",
    "    if row[0][0] not in asset:\n",
    "        with open(file_name, 'a') as csvfile:\n",
    "            # Create a csv writer object\n",
    "            # Check the value of first cell in row, if it is existing, then skip writing it\n",
    "            \n",
    "            csvwriter = csv.writer(csvfile)\n",
    "            csvwriter.writerows(row)"
   ]
  },
  {
   "cell_type": "code",
   "execution_count": 30,
   "metadata": {},
   "outputs": [
    {
     "name": "stdout",
     "output_type": "stream",
     "text": [
      "{'0': 1926, '1': 8074}\n"
     ]
    },
    {
     "data": {
      "image/png": "[encoded data removed]",
      "text/plain": [
       "<Figure size 700x500 with 1 Axes>"
      ]
     },
     "execution_count": 30,
     "metadata": {},
     "output_type": "execute_result"
    }
   ],
   "source": [
    "from qiskit import QuantumCircuit, execute, Aer\n",
    "from qiskit.visualization import plot_histogram\n",
    "\n",
    "# Create a quantum circuit with 1 qubit and 1 classical bit for measurement\n",
    "qc = QuantumCircuit(1, 1)\n",
    "qc.prepare_state([1/np.sqrt(5), 2/np.sqrt(5)])\n",
    "# Step 2: Apply Y gate\n",
    "qc.z(0)\n",
    "\n",
    "# Step 3: Rotate for Y measurement (measure in the Y-basis)\n",
    "# qc.sdg(0)  # Apply S† gate\n",
    "#qc.h(0)  # Hadamard gate to rotate to the computational basis\n",
    "\n",
    "# Step 4: Measure\n",
    "qc.measure(0, 0)\n",
    "\n",
    "# Execute the circuit on the qasm simulator\n",
    "backend = Aer.get_backend('qasm_simulator')\n",
    "result = execute(qc, backend, shots=10000).result()\n",
    "counts = result.get_counts()\n",
    "\n",
    "# Display the measurement results\n",
    "print(counts)\n",
    "plot_histogram(counts)\n"
   ]
  },
  {
   "cell_type": "code",
   "execution_count": 39,
   "metadata": {},
   "outputs": [
    {
     "name": "stdout",
     "output_type": "stream",
     "text": [
      "1\n",
      "1\n",
      "10\n",
      "26\n",
      "57\n",
      "118\n"
     ]
    }
   ],
   "source": [
    "# create 8-dimensional binary vector\n",
    "for i in [2,4,8,16,32,64]:\n",
    "    x = np.random.randint(2, size=i)\n",
    "    x = x /np.sqrt(np.sum(x))\n",
    "    qc = qiskit.QuantumCircuit(int(np.log2(len(x))))\n",
    "    qc.prepare_state(x)\n",
    "    from qiskit.compiler import transpile\n",
    "    from qiskit.providers.fake_provider import FakeQasmSimulator\n",
    "    qc1 = transpile(qc, backend = FakeQasmSimulator())\n",
    "\n",
    "    print(qc1.depth())"
   ]
  },
  {
   "cell_type": "code",
   "execution_count": 36,
   "metadata": {},
   "outputs": [
    {
     "name": "stdout",
     "output_type": "stream",
     "text": [
      "[-0.0029036236691319084, -0.0026702570589396614, -0.011380828801780924, 0.000619347729741717, -0.00527452174872208] [[0.00106326 0.00061676 0.00125094 0.00066726 0.00084313]\n",
      " [0.00061676 0.00145862 0.00140272 0.00107915 0.00136494]\n",
      " [0.00125094 0.00140272 0.00309352 0.00132747 0.00200171]\n",
      " [0.00066726 0.00107915 0.00132747 0.00203238 0.00127067]\n",
      " [0.00084313 0.00136494 0.00200171 0.00127067 0.00206379]]\n"
     ]
    }
   ],
   "source": [
    "\n",
    "\n",
    "\n",
    "mu, sigma, _ = data.get_mu_sigma_specific('asset.csv', ['ATMUSDT','SOLUSDT','BNXUSDT', 'AAVEUSDT', 'APTUSDT'])\n",
    "print(mu, sigma)"
   ]
  }
 ],
 "metadata": {
  "kernelspec": {
   "display_name": "Python 3",
   "language": "python",
   "name": "python3"
  },
  "language_info": {
   "codemirror_mode": {
    "name": "ipython",
    "version": 3
   },
   "file_extension": ".py",
   "mimetype": "text/x-python",
   "name": "python",
   "nbconvert_exporter": "python",
   "pygments_lexer": "ipython3",
   "version": "3.10.9"
  }
 },
 "nbformat": 4,
 "nbformat_minor": 2
}
