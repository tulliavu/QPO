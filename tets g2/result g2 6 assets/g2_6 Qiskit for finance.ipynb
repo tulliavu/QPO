{
 "cells": [
  {
   "cell_type": "markdown",
   "metadata": {},
   "source": [
    "# Qiskit for Finance\n",
    "\n",
    "Qiskit already provides some of the code we needed to handcraft within its package for finance. We will see hoow already seen methods can be used by simply invoking this functionalities from the package."
   ]
  },
  {
   "cell_type": "code",
   "execution_count": 4,
   "metadata": {},
   "outputs": [],
   "source": [
    "import json\n",
    "import numpy as np\n",
    "\n",
    "data = None\n",
    "with open(\"binance-data6.json\", \"r\") as jsonfile:\n",
    "    data = json.load(jsonfile)\n",
    "\n",
    "returns = data['mu']\n",
    "covar = data['sigma']\n",
    "\n",
    "assets = []\n",
    "costs = []\n",
    "for row in data['assets']:\n",
    "    assets.append(row[\"Asset\"])\n",
    "    costs.append(float(row[\"Open\"]))\n",
    "\n",
    "num_assets = len(assets)"
   ]
  },
  {
   "cell_type": "markdown",
   "metadata": {},
   "source": [
    "Now we should set our budget and the risk so that que quadrativ program can be instantiated."
   ]
  },
  {
   "cell_type": "code",
   "execution_count": 5,
   "metadata": {},
   "outputs": [
    {
     "data": {
      "text/plain": [
       "<QuadraticProgram: minimize 0.00024094000060428594*x_0^2 + 0.00022356716389922..., 6 variables, 1 constraints, 'Portfolio optimization'>"
      ]
     },
     "execution_count": 5,
     "metadata": {},
     "output_type": "execute_result"
    }
   ],
   "source": [
    "from qiskit_finance.applications.optimization import PortfolioOptimization\n",
    "\n",
    "q = 0.5  # set risk factor\n",
    "budget = len(assets) // 2  # set budget\n",
    "\n",
    "portfolio = PortfolioOptimization(\n",
    "    expected_returns=returns, covariances=covar, risk_factor=q, budget=budget\n",
    ")\n",
    "qp = portfolio.to_quadratic_program()\n",
    "qp"
   ]
  },
  {
   "cell_type": "code",
   "execution_count": 9,
   "metadata": {},
   "outputs": [],
   "source": [
    "#exact_eigensolver\n",
    "from qiskit_optimization.converters import QuadraticProgramToQubo\n",
    "from qiskit_optimization.algorithms import MinimumEigenOptimizer\n",
    "from qiskit.algorithms.minimum_eigensolvers import NumPyMinimumEigensolver\n",
    "import time\n",
    "\n",
    "def index_to_selection(i, num_assets):\n",
    "    s = \"{0:b}\".format(i).rjust(num_assets)\n",
    "    x = np.array([1 if s[i] == \"1\" else 0 for i in reversed(range(num_assets))])\n",
    "    return x\n",
    "\n",
    "def print_result(result):\n",
    "    selection = result.x\n",
    "    value = result.fval\n",
    "    print(\"Optimal: selection {}, value {:.4f}\".format(selection, value))\n",
    "\n",
    "    eigenstate = result.min_eigen_solver_result.eigenstate\n",
    "    \n",
    "    eigenvector = eigenstate if isinstance(eigenstate, np.ndarray) else eigenstate.to_matrix()\n",
    "    probabilities = np.abs(eigenvector) ** 2\n",
    "    i_sorted = reversed(np.argsort(probabilities))\n",
    "    print(\"\\n----------------- Full result ---------------------\")\n",
    "    print(\"selection\\tvalue\\t\\tprobability\")\n",
    "    print(\"---------------------------------------------------\")\n",
    "    for i in i_sorted:\n",
    "        x = index_to_selection(i, num_assets)\n",
    "        value = QuadraticProgramToQubo().convert(qp).objective.evaluate(x)\n",
    "        probability = probabilities[i]\n",
    "        print(\"%10s\\t%.4f\\t\\t%.4f\" % (x, value, probability))\n",
    "exact_mes = NumPyMinimumEigensolver()\n",
    "exact_eigensolver = MinimumEigenOptimizer(exact_mes)\n",
    "result = exact_eigensolver.solve(qp)"
   ]
  },
  {
   "cell_type": "code",
   "execution_count": 10,
   "metadata": {},
   "outputs": [
    {
     "name": "stdout",
     "output_type": "stream",
     "text": [
      "0.009153177999999958\n",
      "0.0022522129809650613\n",
      "Optimal: selection [1. 0. 1. 0. 0. 1.], value -0.0021\n"
     ]
    },
    {
     "ename": "AttributeError",
     "evalue": "'Statevector' object has no attribute 'to_matrix'",
     "output_type": "error",
     "traceback": [
      "\u001b[0;31m---------------------------------------------------------------------------\u001b[0m",
      "\u001b[0;31mAttributeError\u001b[0m                            Traceback (most recent call last)",
      "File \u001b[0;32m<timed exec>:19\u001b[0m\n",
      "Cell \u001b[0;32mIn[9], line 19\u001b[0m, in \u001b[0;36mprint_result\u001b[0;34m(result)\u001b[0m\n\u001b[1;32m     15\u001b[0m \u001b[38;5;28mprint\u001b[39m(\u001b[38;5;124m\"\u001b[39m\u001b[38;5;124mOptimal: selection \u001b[39m\u001b[38;5;132;01m{}\u001b[39;00m\u001b[38;5;124m, value \u001b[39m\u001b[38;5;132;01m{:.4f}\u001b[39;00m\u001b[38;5;124m\"\u001b[39m\u001b[38;5;241m.\u001b[39mformat(selection, value))\n\u001b[1;32m     17\u001b[0m eigenstate \u001b[38;5;241m=\u001b[39m result\u001b[38;5;241m.\u001b[39mmin_eigen_solver_result\u001b[38;5;241m.\u001b[39meigenstate\n\u001b[0;32m---> 19\u001b[0m eigenvector \u001b[38;5;241m=\u001b[39m eigenstate \u001b[38;5;28;01mif\u001b[39;00m \u001b[38;5;28misinstance\u001b[39m(eigenstate, np\u001b[38;5;241m.\u001b[39mndarray) \u001b[38;5;28;01melse\u001b[39;00m \u001b[43meigenstate\u001b[49m\u001b[38;5;241;43m.\u001b[39;49m\u001b[43mto_matrix\u001b[49m()\n\u001b[1;32m     20\u001b[0m probabilities \u001b[38;5;241m=\u001b[39m np\u001b[38;5;241m.\u001b[39mabs(eigenvector) \u001b[38;5;241m*\u001b[39m\u001b[38;5;241m*\u001b[39m \u001b[38;5;241m2\u001b[39m\n\u001b[1;32m     21\u001b[0m i_sorted \u001b[38;5;241m=\u001b[39m \u001b[38;5;28mreversed\u001b[39m(np\u001b[38;5;241m.\u001b[39margsort(probabilities))\n",
      "\u001b[0;31mAttributeError\u001b[0m: 'Statevector' object has no attribute 'to_matrix'"
     ]
    }
   ],
   "source": [
    "%%time\n",
    "import csv\n",
    "import time\n",
    "import pandas as pd\n",
    "from csv import writer\n",
    "i = 0\n",
    "with open('exact_eigensolver6g2.csv', 'w', newline='') as file:\n",
    "    writer = csv.writer(file)\n",
    "    field = ['number of asset',\"iteration\", \"time\"]\n",
    "    writer.writerow(field)\n",
    "    while i<1000:\n",
    "        i = i + 1\n",
    "        start = time.process_time()\n",
    "        result = exact_eigensolver.solve(qp)\n",
    "        end = time.process_time()\n",
    "        writer.writerow([6, i, end-start])\n",
    "data1 = pd.read_csv('exact_eigensolver6g2.csv')\n",
    "print(data1['time'].mean())\n",
    "print(data1['time'].std())\n",
    "print_result(result)"
   ]
  },
  {
   "cell_type": "code",
   "execution_count": 8,
   "metadata": {},
   "outputs": [
    {
     "name": "stdout",
     "output_type": "stream",
     "text": [
      "Asset ETHBTC was selected\n",
      "Asset LTCBTC was not selected\n",
      "Asset BNBBTC was selected\n",
      "Asset NEOBTC was not selected\n",
      "Asset QTUMETH was not selected\n",
      "Asset LOOMBTC was selected\n"
     ]
    }
   ],
   "source": [
    "for i, val in enumerate(np.round(result.x,1)):\n",
    "    if val == 1:\n",
    "        print(f\"Asset {assets[i]} was selected\")\n",
    "    else:\n",
    "        print(f\"Asset {assets[i]} was not selected\")"
   ]
  },
  {
   "cell_type": "markdown",
   "metadata": {},
   "source": [
    "We can check the selection still holds to the original solution we had for the classical and annealing procedures. Now we will see how it works when solving this very same problem using already mentioned QAOA and VQE algorithms.\n",
    "\n",
    "When dealing with Variation Quantum Algorithms two main things need to be selected:\n",
    "\n",
    "* Optimization procedure to be used\n",
    "* Circuit\n",
    "\n",
    "In nex example COBYLA and a TwoLocal implementation will be used. The TwoLocal circuit can hold several repetitions of the same scheme containing different operations arbitratily chosen."
   ]
  },
  {
   "cell_type": "code",
   "execution_count": 9,
   "metadata": {},
   "outputs": [
    {
     "data": {
      "image/png": "[encoded data removed]",
      "text/plain": [
       "<Figure size 3715.55x535.111 with 1 Axes>"
      ]
     },
     "execution_count": 9,
     "metadata": {},
     "output_type": "execute_result"
    }
   ],
   "source": [
    "from qiskit.circuit.library import TwoLocal\n",
    "ansatz = g2(5,1)\n",
    "ansatz = TwoLocal(num_assets, \"ry\", \"cz\", reps=3, entanglement=\"full\")\n",
    "ansatz.decompose().draw('mpl', fold=150)"
   ]
  },
  {
   "cell_type": "markdown",
   "metadata": {},
   "source": [
    "$\\theta$ parameters for this circuit are the ones that need to be trained so that at the end, the solution with highest success probability shows the result to our problem."
   ]
  },
  {
   "cell_type": "code",
   "execution_count": 12,
   "metadata": {},
   "outputs": [
    {
     "name": "stderr",
     "output_type": "stream",
     "text": [
      "/var/folders/9k/xq3jd5c90w93s6tc_cws222r0000gn/T/ipykernel_3641/475451464.py:13: DeprecationWarning: The class ``qiskit.utils.quantum_instance.QuantumInstance`` is deprecated as of qiskit-terra 0.24.0. It will be removed no earlier than 3 months after the release date. For code migration guidelines, visit https://qisk.it/qi_migration.\n",
      "  quantum_instance = QuantumInstance(backend=backend, seed_simulator=1234, seed_transpiler=1234)\n",
      "/var/folders/9k/xq3jd5c90w93s6tc_cws222r0000gn/T/ipykernel_3641/475451464.py:14: DeprecationWarning: The class ``qiskit.algorithms.minimum_eigen_solvers.vqe.VQE`` is deprecated as of qiskit-terra 0.24.0. It will be removed no earlier than 3 months after the release date. Instead, use the class ``qiskit.algorithms.minimum_eigensolvers.VQE``. See https://qisk.it/algo_migration for a migration guide.\n",
      "  vqe_mes = VQE(ansatz, optimizer=cobyla, quantum_instance=quantum_instance)\n"
     ]
    }
   ],
   "source": [
    "from qiskit import Aer\n",
    "from qiskit.algorithms import VQE\n",
    "from qiskit.algorithms.optimizers import COBYLA\n",
    "from qiskit.utils import QuantumInstance\n",
    "from qiskit.utils import algorithm_globals\n",
    "ansatz = g2(6,1)\n",
    "algorithm_globals.random_seed = 1234\n",
    "backend = Aer.get_backend(\"statevector_simulator\")\n",
    "\n",
    "cobyla = COBYLA()\n",
    "cobyla.set_options(maxiter=500)\n",
    "\n",
    "quantum_instance = QuantumInstance(backend=backend, seed_simulator=1234, seed_transpiler=1234)\n",
    "vqe_mes = VQE(ansatz, optimizer=cobyla, quantum_instance=quantum_instance)\n",
    "vqe = MinimumEigenOptimizer(vqe_mes)"
   ]
  },
  {
   "cell_type": "code",
   "execution_count": 13,
   "metadata": {},
   "outputs": [
    {
     "name": "stdout",
     "output_type": "stream",
     "text": [
      "9.834996104000025\n",
      "2.456149812023545\n",
      "Optimal: selection [1. 0. 1. 0. 0. 1.], value -0.0021\n",
      "\n",
      "----------------- Full result ---------------------\n",
      "selection\tvalue\t\tprobability\n",
      "---------------------------------------------------\n",
      "[1 0 0 1 1 0]\t0.0036\t\t0.6166\n",
      "[0 1 0 1 1 0]\t0.0048\t\t0.2578\n",
      "[1 0 0 1 0 1]\t0.0014\t\t0.0755\n",
      "[0 1 0 1 0 1]\t0.0023\t\t0.0315\n",
      "[1 0 1 0 1 0]\t-0.0000\t\t0.0117\n",
      "[0 1 1 0 1 0]\t0.0011\t\t0.0049\n",
      "[1 0 1 0 0 1]\t-0.0021\t\t0.0014\n",
      "[0 1 1 0 0 1]\t-0.0013\t\t0.0006\n",
      "[1 0 0 0 1 0]\t1.0175\t\t0.0000\n",
      "[0 0 0 1 1 0]\t1.0199\t\t0.0000\n",
      "[0 1 0 0 1 0]\t1.0186\t\t0.0000\n",
      "[1 0 0 0 0 1]\t1.0153\t\t0.0000\n",
      "[1 0 0 1 1 1]\t1.0199\t\t0.0000\n",
      "[0 0 0 1 0 1]\t1.0174\t\t0.0000\n",
      "[0 1 0 0 0 1]\t1.0161\t\t0.0000\n",
      "[0 1 0 1 1 1]\t1.0212\t\t0.0000\n",
      "[1 0 1 1 1 0]\t1.0186\t\t0.0000\n",
      "[0 1 1 1 1 0]\t1.0199\t\t0.0000\n",
      "[1 0 0 1 0 0]\t1.0178\t\t0.0000\n",
      "[1 1 0 1 1 0]\t1.0210\t\t0.0000\n",
      "[0 0 1 0 1 0]\t1.0163\t\t0.0000\n",
      "[0 1 0 1 0 0]\t1.0185\t\t0.0000\n",
      "[1 0 1 1 0 1]\t1.0165\t\t0.0000\n",
      "[1 0 1 0 1 1]\t1.0160\t\t0.0000\n",
      "[0 1 1 1 0 1]\t1.0174\t\t0.0000\n",
      "[1 1 0 1 0 1]\t1.0188\t\t0.0000\n",
      "[0 0 1 0 0 1]\t1.0139\t\t0.0000\n",
      "[0 1 1 0 1 1]\t1.0172\t\t0.0000\n",
      "[1 0 1 0 0 0]\t1.0145\t\t0.0000\n",
      "[1 1 1 0 1 0]\t1.0173\t\t0.0000\n",
      "[0 1 1 0 0 0]\t1.0152\t\t0.0000\n",
      "[1 1 1 0 0 1]\t1.0152\t\t0.0000\n",
      "[0 0 0 0 1 0]\t4.0664\t\t0.0000\n",
      "[1 0 0 0 1 1]\t0.0010\t\t0.0000\n",
      "[0 0 0 0 0 1]\t4.0639\t\t0.0000\n",
      "[0 0 0 1 1 1]\t0.0038\t\t0.0000\n",
      "[0 1 0 0 1 1]\t0.0022\t\t0.0000\n",
      "[0 0 1 1 1 0]\t0.0024\t\t0.0000\n",
      "[1 0 0 0 0 0]\t4.0645\t\t0.0000\n",
      "[1 1 0 0 1 0]\t0.0023\t\t0.0000\n",
      "[0 0 0 1 0 0]\t4.0662\t\t0.0000\n",
      "[0 1 0 0 0 0]\t4.0651\t\t0.0000\n",
      "[1 0 1 1 1 1]\t4.0675\t\t0.0000\n",
      "[0 0 1 1 0 1]\t0.0000\t\t0.0000\n",
      "[1 1 0 0 0 1]\t0.0001\t\t0.0000\n",
      "[0 1 1 1 1 1]\t4.0688\t\t0.0000\n",
      "[1 1 0 1 1 1]\t4.0699\t\t0.0000\n",
      "[0 0 1 0 1 1]\t-0.0000\t\t0.0000\n",
      "[1 0 1 1 0 0]\t0.0003\t\t0.0000\n",
      "[1 1 1 1 1 0]\t4.0686\t\t0.0000\n",
      "[0 1 1 1 0 0]\t0.0011\t\t0.0000\n",
      "[1 1 0 1 0 0]\t0.0026\t\t0.0000\n",
      "[0 0 1 0 0 0]\t4.0630\t\t0.0000\n",
      "[1 1 1 1 0 1]\t4.0665\t\t0.0000\n",
      "[1 1 1 0 1 1]\t4.0659\t\t0.0000\n",
      "[1 1 1 0 0 0]\t-0.0008\t\t0.0000\n",
      "[0 0 0 0 1 1]\t1.0175\t\t0.0000\n",
      "[0 0 0 0 0 0]\t9.1455\t\t0.0000\n",
      "[0 0 1 1 1 1]\t1.0188\t\t0.0000\n",
      "[1 1 0 0 1 1]\t1.0183\t\t0.0000\n",
      "[0 0 1 1 0 0]\t1.0163\t\t0.0000\n",
      "[1 1 0 0 0 0]\t1.0167\t\t0.0000\n",
      "[1 1 1 1 1 1]\t9.1500\t\t0.0000\n",
      "[1 1 1 1 0 0]\t1.0178\t\t0.0000\n",
      "CPU times: user 1h 17min 8s, sys: 1h 26min 48s, total: 2h 43min 57s\n",
      "Wall time: 40min 7s\n"
     ]
    }
   ],
   "source": [
    "%%time\n",
    "import csv\n",
    "import time\n",
    "import pandas as pd\n",
    "from csv import writer\n",
    "i = 0\n",
    "with open('cobyla6.csv', 'w', newline='') as file:\n",
    "    writer = csv.writer(file)\n",
    "    field = ['number of asset',\"iteration\", \"time\"]\n",
    "    writer.writerow(field)\n",
    "    while i<1000:\n",
    "        i = i + 1\n",
    "        start = time.process_time()\n",
    "        result = vqe.solve(qp)\n",
    "        end = time.process_time()\n",
    "        writer.writerow([6, i, end-start])\n",
    "data1 = pd.read_csv('cobyla6.csv')\n",
    "print(data1['time'].mean())\n",
    "print(data1['time'].std())\n",
    "print_result(result)"
   ]
  },
  {
   "cell_type": "markdown",
   "metadata": {},
   "source": [
    "At this point it is important we pay attention at the probability column. This column states how plausible it is that using this circuit with found parameters we may found the optimal result. Our candidate solution has relativelly low probability, which means we should find better designs to increase our chances. We can easilly test how it would look like by adding more repetitions to the ansatz."
   ]
  },
  {
   "cell_type": "code",
   "execution_count": 15,
   "metadata": {},
   "outputs": [
    {
     "name": "stderr",
     "output_type": "stream",
     "text": [
      "/var/folders/9k/xq3jd5c90w93s6tc_cws222r0000gn/T/ipykernel_66107/3770655853.py:7: DeprecationWarning: The class ``qiskit.utils.quantum_instance.QuantumInstance`` is deprecated as of qiskit-terra 0.24.0. It will be removed no earlier than 3 months after the release date. For code migration guidelines, visit https://qisk.it/qi_migration.\n",
      "  quantum_instance = QuantumInstance(backend=backend, seed_simulator=1234, seed_transpiler=1234)\n",
      "/var/folders/9k/xq3jd5c90w93s6tc_cws222r0000gn/T/ipykernel_66107/3770655853.py:8: DeprecationWarning: The class ``qiskit.algorithms.minimum_eigen_solvers.vqe.VQE`` is deprecated as of qiskit-terra 0.24.0. It will be removed no earlier than 3 months after the release date. Instead, use the class ``qiskit.algorithms.minimum_eigensolvers.VQE``. See https://qisk.it/algo_migration for a migration guide.\n",
      "  vqe_mes = VQE(ansatz, optimizer=cobyla, quantum_instance=quantum_instance)\n"
     ]
    },
    {
     "name": "stdout",
     "output_type": "stream",
     "text": [
      "Optimal: selection [1. 0. 1. 0. 0.], value -0.0017\n",
      "\n",
      "----------------- Full result ---------------------\n",
      "selection\tvalue\t\tprobability\n",
      "---------------------------------------------------\n",
      "[0 1 0 1 0]\t0.0024\t\t0.5285\n",
      "[0 1 1 0 0]\t-0.0010\t\t0.4671\n",
      "[1 0 0 1 0]\t0.0016\t\t0.0024\n",
      "[1 0 1 0 0]\t-0.0017\t\t0.0021\n",
      "[0 1 0 1 1]\t1.0139\t\t0.0000\n",
      "[0 1 1 0 1]\t1.0101\t\t0.0000\n",
      "[1 1 0 1 0]\t1.0117\t\t0.0000\n",
      "[1 1 1 0 0]\t1.0083\t\t0.0000\n",
      "[0 0 0 1 0]\t1.0106\t\t0.0000\n",
      "[0 0 1 0 0]\t1.0074\t\t0.0000\n",
      "[0 1 0 0 0]\t1.0095\t\t0.0000\n",
      "[0 1 1 1 0]\t1.0102\t\t0.0000\n",
      "[1 0 0 1 1]\t1.0127\t\t0.0000\n",
      "[1 0 1 0 1]\t1.0090\t\t0.0000\n",
      "[1 0 0 0 0]\t1.0089\t\t0.0000\n",
      "[1 0 1 1 0]\t1.0094\t\t0.0000\n",
      "[1 1 0 1 1]\t4.0411\t\t0.0000\n",
      "[1 1 1 0 1]\t4.0374\t\t0.0000\n",
      "[0 0 0 1 1]\t0.0038\t\t0.0000\n",
      "[0 0 1 0 1]\t0.0002\t\t0.0000\n",
      "[0 1 0 0 1]\t0.0024\t\t0.0000\n",
      "[1 1 0 0 0]\t0.0005\t\t0.0000\n",
      "[0 1 1 1 1]\t4.0400\t\t0.0000\n",
      "[1 1 1 1 0]\t4.0379\t\t0.0000\n",
      "[0 0 0 0 0]\t4.0363\t\t0.0000\n",
      "[0 0 1 1 0]\t0.0001\t\t0.0000\n",
      "[1 0 0 0 1]\t0.0013\t\t0.0000\n",
      "[1 0 1 1 1]\t4.0387\t\t0.0000\n",
      "[1 1 0 0 1]\t1.0113\t\t0.0000\n",
      "[1 1 1 1 1]\t9.0856\t\t0.0000\n",
      "[0 0 0 0 1]\t1.0108\t\t0.0000\n",
      "[0 0 1 1 1]\t1.0115\t\t0.0000\n"
     ]
    }
   ],
   "source": [
    "ansatz = g2(6,1)\n",
    "#ansatz = TwoLocal(num_assets, \"ry\", \"cz\", reps=6, entanglement=\"full\")\n",
    "\n",
    "cobyla = COBYLA()\n",
    "cobyla.set_options(maxiter=500)\n",
    "\n",
    "quantum_instance = QuantumInstance(backend=backend, seed_simulator=1234, seed_transpiler=1234)\n",
    "vqe_mes = VQE(ansatz, optimizer=cobyla, quantum_instance=quantum_instance)\n",
    "vqe = MinimumEigenOptimizer(vqe_mes)\n",
    "result = vqe.solve(qp)\n",
    "\n",
    "print_result(result)"
   ]
  },
  {
   "cell_type": "code",
   "execution_count": 14,
   "metadata": {},
   "outputs": [
    {
     "name": "stdout",
     "output_type": "stream",
     "text": [
      "9.411833266000016\n",
      "1.4398208821946845\n",
      "Optimal: selection [1. 0. 1. 0. 1. 0.], value -0.0000\n",
      "\n",
      "----------------- Full result ---------------------\n",
      "selection\tvalue\t\tprobability\n",
      "---------------------------------------------------\n",
      "[1 0 0 1 1 0]\t0.0036\t\t0.9639\n",
      "[0 1 0 1 1 0]\t0.0048\t\t0.0349\n",
      "[1 0 1 0 1 0]\t-0.0000\t\t0.0010\n",
      "[1 0 0 1 0 1]\t0.0014\t\t0.0001\n",
      "[0 1 1 0 1 0]\t0.0011\t\t0.0000\n",
      "[0 1 0 1 0 1]\t0.0023\t\t0.0000\n",
      "[1 0 1 0 0 1]\t-0.0021\t\t0.0000\n",
      "[0 1 1 0 0 1]\t-0.0013\t\t0.0000\n",
      "[0 0 0 1 1 0]\t1.0199\t\t0.0000\n",
      "[1 0 0 1 1 1]\t1.0199\t\t0.0000\n",
      "[1 0 0 0 1 0]\t1.0175\t\t0.0000\n",
      "[1 0 0 1 0 0]\t1.0178\t\t0.0000\n",
      "[1 1 0 1 1 0]\t1.0210\t\t0.0000\n",
      "[1 0 1 1 1 0]\t1.0186\t\t0.0000\n",
      "[0 1 0 1 1 1]\t1.0212\t\t0.0000\n",
      "[0 1 0 0 1 0]\t1.0186\t\t0.0000\n",
      "[0 1 0 1 0 0]\t1.0185\t\t0.0000\n",
      "[0 1 1 1 1 0]\t1.0199\t\t0.0000\n",
      "[0 0 1 0 1 0]\t1.0163\t\t0.0000\n",
      "[1 0 1 0 1 1]\t1.0160\t\t0.0000\n",
      "[1 0 1 0 0 0]\t1.0145\t\t0.0000\n",
      "[0 0 0 1 0 1]\t1.0174\t\t0.0000\n",
      "[1 1 1 0 1 0]\t1.0173\t\t0.0000\n",
      "[1 0 0 0 0 1]\t1.0153\t\t0.0000\n",
      "[0 1 1 0 1 1]\t1.0172\t\t0.0000\n",
      "[1 1 0 1 0 1]\t1.0188\t\t0.0000\n",
      "[1 0 1 1 0 1]\t1.0165\t\t0.0000\n",
      "[0 1 1 0 0 0]\t1.0152\t\t0.0000\n",
      "[0 1 0 0 0 1]\t1.0161\t\t0.0000\n",
      "[0 1 1 1 0 1]\t1.0174\t\t0.0000\n",
      "[0 0 1 0 0 1]\t1.0139\t\t0.0000\n",
      "[1 1 1 0 0 1]\t1.0152\t\t0.0000\n",
      "[0 0 0 1 1 1]\t0.0038\t\t0.0000\n",
      "[0 0 0 0 1 0]\t4.0664\t\t0.0000\n",
      "[1 0 0 0 1 1]\t0.0010\t\t0.0000\n",
      "[0 0 0 1 0 0]\t4.0662\t\t0.0000\n",
      "[1 0 0 0 0 0]\t4.0645\t\t0.0000\n",
      "[0 0 1 1 1 0]\t0.0024\t\t0.0000\n",
      "[1 1 0 1 1 1]\t4.0699\t\t0.0000\n",
      "[1 0 1 1 1 1]\t4.0675\t\t0.0000\n",
      "[1 1 0 0 1 0]\t0.0023\t\t0.0000\n",
      "[1 1 0 1 0 0]\t0.0026\t\t0.0000\n",
      "[0 1 0 0 1 1]\t0.0022\t\t0.0000\n",
      "[1 0 1 1 0 0]\t0.0003\t\t0.0000\n",
      "[1 1 1 1 1 0]\t4.0686\t\t0.0000\n",
      "[0 1 0 0 0 0]\t4.0651\t\t0.0000\n",
      "[0 1 1 1 1 1]\t4.0688\t\t0.0000\n",
      "[0 0 1 0 1 1]\t-0.0000\t\t0.0000\n",
      "[0 1 1 1 0 0]\t0.0011\t\t0.0000\n",
      "[0 0 1 0 0 0]\t4.0630\t\t0.0000\n",
      "[0 0 0 0 0 1]\t4.0639\t\t0.0000\n",
      "[1 1 1 0 1 1]\t4.0659\t\t0.0000\n",
      "[1 1 1 0 0 0]\t-0.0008\t\t0.0000\n",
      "[0 0 1 1 0 1]\t0.0000\t\t0.0000\n",
      "[1 1 0 0 0 1]\t0.0001\t\t0.0000\n",
      "[1 1 1 1 0 1]\t4.0665\t\t0.0000\n",
      "[0 0 0 0 1 1]\t1.0175\t\t0.0000\n",
      "[0 0 0 0 0 0]\t9.1455\t\t0.0000\n",
      "[0 0 1 1 1 1]\t1.0188\t\t0.0000\n",
      "[1 1 0 0 1 1]\t1.0183\t\t0.0000\n",
      "[0 0 1 1 0 0]\t1.0163\t\t0.0000\n",
      "[1 1 0 0 0 0]\t1.0167\t\t0.0000\n",
      "[1 1 1 1 1 1]\t9.1500\t\t0.0000\n",
      "[1 1 1 1 0 0]\t1.0178\t\t0.0000\n",
      "CPU times: user 1h 12min 36s, sys: 1h 24min 17s, total: 2h 36min 53s\n",
      "Wall time: 30min 51s\n"
     ]
    }
   ],
   "source": [
    "%%time\n",
    "import csv\n",
    "import time\n",
    "import pandas as pd\n",
    "from csv import writer\n",
    "i = 0\n",
    "with open('cobyla5_6reps2.csv', 'w', newline='') as file:\n",
    "    writer = csv.writer(file)\n",
    "    field = ['number of asset',\"iteration\", \"time\"]\n",
    "    writer.writerow(field)\n",
    "    while i<1000:\n",
    "        i = i + 1\n",
    "        start = time.process_time()\n",
    "        result = vqe.solve(qp)\n",
    "        end = time.process_time()\n",
    "        writer.writerow([5, i, end-start])\n",
    "data1 = pd.read_csv('cobyla5_6reps2.csv')\n",
    "print(data1['time'].mean())\n",
    "print(data1['time'].std())\n",
    "print_result(result)"
   ]
  },
  {
   "cell_type": "markdown",
   "metadata": {},
   "source": [
    "Right now we reached 20% chances of seeing this state on a single run of our circuit. We could then simulate lets say for 5 runs so that way we most probably would register classically that state at least once."
   ]
  },
  {
   "cell_type": "code",
   "execution_count": 15,
   "metadata": {},
   "outputs": [],
   "source": [
    "best_parameters = None\n",
    "for key, value in vqe_mes.__dict__.items():\n",
    "    if key == \"_ret\":\n",
    "        best_parameters = value.optimal_parameters"
   ]
  },
  {
   "cell_type": "markdown",
   "metadata": {},
   "source": [
    "We can try with a different approach, in this case QAOA. For that, only number of layers to repeat the canonical form of the ansatz need to be provided."
   ]
  },
  {
   "cell_type": "code",
   "execution_count": 16,
   "metadata": {},
   "outputs": [
    {
     "name": "stderr",
     "output_type": "stream",
     "text": [
      "/var/folders/9k/xq3jd5c90w93s6tc_cws222r0000gn/T/ipykernel_3641/642958907.py:4: DeprecationWarning: The class ``qiskit.algorithms.minimum_eigen_solvers.qaoa.QAOA`` is deprecated as of qiskit-terra 0.24.0. It will be removed no earlier than 3 months after the release date. Instead, use the class ``qiskit.algorithms.minimum_eigensolvers.QAOA``. See https://qisk.it/algo_migration for a migration guide.\n",
      "  qaoa_mes = QAOA(optimizer=cobyla, reps=layers, quantum_instance=quantum_instance)\n"
     ]
    },
    {
     "name": "stdout",
     "output_type": "stream",
     "text": [
      "Optimal: selection [1. 0. 1. 0. 0. 1.], value -0.0021\n",
      "\n",
      "----------------- Full result ---------------------\n",
      "selection\tvalue\t\tprobability\n",
      "---------------------------------------------------\n",
      "[1 0 1 0 0 1]\t-0.0021\t\t0.0450\n",
      "[0 1 1 0 0 1]\t-0.0013\t\t0.0449\n",
      "[1 1 1 0 0 0]\t-0.0008\t\t0.0449\n",
      "[1 0 1 0 1 0]\t-0.0000\t\t0.0448\n",
      "[0 0 1 0 1 1]\t-0.0000\t\t0.0448\n",
      "[0 0 1 1 0 1]\t0.0000\t\t0.0448\n",
      "[1 1 0 0 0 1]\t0.0001\t\t0.0448\n",
      "[1 0 1 1 0 0]\t0.0003\t\t0.0448\n",
      "[1 0 0 0 1 1]\t0.0010\t\t0.0447\n",
      "[0 1 1 0 1 0]\t0.0011\t\t0.0447\n",
      "[0 1 1 1 0 0]\t0.0011\t\t0.0447\n",
      "[1 0 0 1 0 1]\t0.0014\t\t0.0447\n",
      "[1 1 0 0 1 0]\t0.0023\t\t0.0446\n",
      "[0 1 0 0 1 1]\t0.0022\t\t0.0446\n",
      "[0 1 0 1 0 1]\t0.0023\t\t0.0446\n",
      "[0 0 1 1 1 0]\t0.0024\t\t0.0446\n",
      "[1 1 0 1 0 0]\t0.0026\t\t0.0446\n",
      "[1 0 0 1 1 0]\t0.0036\t\t0.0445\n",
      "[0 0 0 1 1 1]\t0.0038\t\t0.0445\n",
      "[0 1 0 1 1 0]\t0.0048\t\t0.0444\n",
      "[0 0 1 0 0 1]\t1.0139\t\t0.0033\n",
      "[1 0 1 0 0 0]\t1.0145\t\t0.0033\n",
      "[0 1 1 0 0 0]\t1.0152\t\t0.0032\n",
      "[1 0 0 0 0 1]\t1.0153\t\t0.0032\n",
      "[0 1 0 0 0 1]\t1.0161\t\t0.0031\n",
      "[0 0 1 1 0 0]\t1.0163\t\t0.0031\n",
      "[0 0 1 0 1 0]\t1.0163\t\t0.0031\n",
      "[1 1 0 0 0 0]\t1.0167\t\t0.0030\n",
      "[0 0 0 1 0 1]\t1.0174\t\t0.0030\n",
      "[1 1 1 0 0 1]\t1.0152\t\t0.0030\n",
      "[0 0 0 0 1 1]\t1.0175\t\t0.0030\n",
      "[1 0 0 0 1 0]\t1.0175\t\t0.0030\n",
      "[1 0 0 1 0 0]\t1.0178\t\t0.0030\n",
      "[1 0 1 0 1 1]\t1.0160\t\t0.0029\n",
      "[0 1 0 1 0 0]\t1.0185\t\t0.0029\n",
      "[0 1 0 0 1 0]\t1.0186\t\t0.0029\n",
      "[1 0 1 1 0 1]\t1.0165\t\t0.0029\n",
      "[1 1 1 0 1 0]\t1.0173\t\t0.0028\n",
      "[0 1 1 0 1 1]\t1.0172\t\t0.0028\n",
      "[0 1 1 1 0 1]\t1.0174\t\t0.0028\n",
      "[0 0 0 1 1 0]\t1.0199\t\t0.0027\n",
      "[1 1 1 1 0 0]\t1.0178\t\t0.0027\n",
      "[1 1 0 0 1 1]\t1.0183\t\t0.0027\n",
      "[1 0 1 1 1 0]\t1.0186\t\t0.0027\n",
      "[1 1 0 1 0 1]\t1.0188\t\t0.0026\n",
      "[0 0 1 1 1 1]\t1.0188\t\t0.0026\n",
      "[1 0 0 1 1 1]\t1.0199\t\t0.0025\n",
      "[0 1 1 1 1 0]\t1.0199\t\t0.0025\n",
      "[1 1 0 1 1 0]\t1.0210\t\t0.0024\n",
      "[0 1 0 1 1 1]\t1.0212\t\t0.0024\n",
      "[0 0 1 0 0 0]\t4.0630\t\t0.0017\n",
      "[0 0 0 0 0 1]\t4.0639\t\t0.0017\n",
      "[1 0 0 0 0 0]\t4.0645\t\t0.0017\n",
      "[0 1 0 0 0 0]\t4.0651\t\t0.0017\n",
      "[0 0 0 1 0 0]\t4.0662\t\t0.0016\n",
      "[0 0 0 0 1 0]\t4.0664\t\t0.0016\n",
      "[1 1 1 0 1 1]\t4.0659\t\t0.0016\n",
      "[1 1 1 1 0 1]\t4.0665\t\t0.0016\n",
      "[1 0 1 1 1 1]\t4.0675\t\t0.0016\n",
      "[1 1 1 1 1 0]\t4.0686\t\t0.0015\n",
      "[0 1 1 1 1 1]\t4.0688\t\t0.0015\n",
      "[1 1 0 1 1 1]\t4.0699\t\t0.0015\n",
      "[0 0 0 0 0 0]\t9.1455\t\t0.0003\n",
      "[1 1 1 1 1 1]\t9.1500\t\t0.0002\n"
     ]
    }
   ],
   "source": [
    "from qiskit.algorithms import QAOA\n",
    "\n",
    "layers = 2\n",
    "qaoa_mes = QAOA(optimizer=cobyla, reps=layers, quantum_instance=quantum_instance)\n",
    "qaoa = MinimumEigenOptimizer(qaoa_mes)\n",
    "result = qaoa.solve(qp)\n",
    "\n",
    "print_result(result)"
   ]
  },
  {
   "cell_type": "code",
   "execution_count": 17,
   "metadata": {},
   "outputs": [
    {
     "name": "stdout",
     "output_type": "stream",
     "text": [
      "14.52384696600007\n",
      "6.256730474013268\n",
      "Optimal: selection [1. 0. 1. 0. 0. 1.], value -0.0021\n",
      "\n",
      "----------------- Full result ---------------------\n",
      "selection\tvalue\t\tprobability\n",
      "---------------------------------------------------\n",
      "[1 0 1 0 0 1]\t-0.0021\t\t0.0384\n",
      "[0 1 1 0 0 1]\t-0.0013\t\t0.0383\n",
      "[1 1 1 0 0 0]\t-0.0008\t\t0.0381\n",
      "[1 0 1 0 1 0]\t-0.0000\t\t0.0380\n",
      "[0 0 1 1 0 1]\t0.0000\t\t0.0380\n",
      "[0 0 1 0 1 1]\t-0.0000\t\t0.0380\n",
      "[1 1 0 0 0 1]\t0.0001\t\t0.0380\n",
      "[1 0 1 1 0 0]\t0.0003\t\t0.0380\n",
      "[1 0 0 0 1 1]\t0.0010\t\t0.0379\n",
      "[0 1 1 1 0 0]\t0.0011\t\t0.0378\n",
      "[0 1 1 0 1 0]\t0.0011\t\t0.0378\n",
      "[1 0 0 1 0 1]\t0.0014\t\t0.0378\n",
      "[1 1 0 0 1 0]\t0.0023\t\t0.0376\n",
      "[0 1 0 1 0 1]\t0.0023\t\t0.0376\n",
      "[0 1 0 0 1 1]\t0.0022\t\t0.0376\n",
      "[0 0 1 1 1 0]\t0.0024\t\t0.0376\n",
      "[1 1 0 1 0 0]\t0.0026\t\t0.0375\n",
      "[1 0 0 1 1 0]\t0.0036\t\t0.0374\n",
      "[0 0 0 1 1 1]\t0.0038\t\t0.0373\n",
      "[0 1 0 1 1 0]\t0.0048\t\t0.0372\n",
      "[0 0 1 0 0 1]\t1.0139\t\t0.0082\n",
      "[1 0 1 0 0 0]\t1.0145\t\t0.0081\n",
      "[0 1 1 0 0 0]\t1.0152\t\t0.0081\n",
      "[1 0 0 0 0 1]\t1.0153\t\t0.0081\n",
      "[0 1 0 0 0 1]\t1.0161\t\t0.0081\n",
      "[0 0 1 1 0 0]\t1.0163\t\t0.0081\n",
      "[0 0 1 0 1 0]\t1.0163\t\t0.0080\n",
      "[1 1 0 0 0 0]\t1.0167\t\t0.0080\n",
      "[0 0 0 1 0 1]\t1.0174\t\t0.0080\n",
      "[0 0 0 0 1 1]\t1.0175\t\t0.0080\n",
      "[1 0 0 1 0 0]\t1.0178\t\t0.0079\n",
      "[1 0 0 0 1 0]\t1.0175\t\t0.0079\n",
      "[0 1 0 1 0 0]\t1.0185\t\t0.0079\n",
      "[0 1 0 0 1 0]\t1.0186\t\t0.0079\n",
      "[1 1 1 0 0 1]\t1.0152\t\t0.0078\n",
      "[0 0 0 1 1 0]\t1.0199\t\t0.0078\n",
      "[1 0 1 0 1 1]\t1.0160\t\t0.0078\n",
      "[1 0 1 1 0 1]\t1.0165\t\t0.0077\n",
      "[1 1 1 0 1 0]\t1.0173\t\t0.0077\n",
      "[0 1 1 0 1 1]\t1.0172\t\t0.0077\n",
      "[0 1 1 1 0 1]\t1.0174\t\t0.0077\n",
      "[1 1 1 1 0 0]\t1.0178\t\t0.0077\n",
      "[1 1 0 0 1 1]\t1.0183\t\t0.0077\n",
      "[1 0 1 1 1 0]\t1.0186\t\t0.0076\n",
      "[1 1 0 1 0 1]\t1.0188\t\t0.0076\n",
      "[0 0 1 1 1 1]\t1.0188\t\t0.0076\n",
      "[1 0 0 1 1 1]\t1.0199\t\t0.0075\n",
      "[0 1 1 1 1 0]\t1.0199\t\t0.0075\n",
      "[1 1 0 1 1 0]\t1.0210\t\t0.0075\n",
      "[0 1 0 1 1 1]\t1.0212\t\t0.0074\n",
      "[1 1 1 1 1 1]\t9.1500\t\t0.0027\n",
      "[0 0 0 0 0 0]\t9.1455\t\t0.0026\n",
      "[1 1 0 1 1 1]\t4.0699\t\t0.0003\n",
      "[0 1 1 1 1 1]\t4.0688\t\t0.0003\n",
      "[1 1 1 1 1 0]\t4.0686\t\t0.0003\n",
      "[1 0 1 1 1 1]\t4.0675\t\t0.0003\n",
      "[1 1 1 1 0 1]\t4.0665\t\t0.0003\n",
      "[0 0 0 0 1 0]\t4.0664\t\t0.0003\n",
      "[1 1 1 0 1 1]\t4.0659\t\t0.0003\n",
      "[0 0 0 1 0 0]\t4.0662\t\t0.0003\n",
      "[1 0 0 0 0 0]\t4.0645\t\t0.0003\n",
      "[0 1 0 0 0 0]\t4.0651\t\t0.0003\n",
      "[0 0 0 0 0 1]\t4.0639\t\t0.0003\n",
      "[0 0 1 0 0 0]\t4.0630\t\t0.0003\n",
      "CPU times: user 1h 39min 2s, sys: 2h 23min 2s, total: 4h 2min 5s\n",
      "Wall time: 2h 30min 27s\n"
     ]
    }
   ],
   "source": [
    "%%time\n",
    "import csv\n",
    "import time\n",
    "import pandas as pd\n",
    "from csv import writer\n",
    "i = 0\n",
    "with open('qaoa6_2lay.csv', 'w', newline='') as file:\n",
    "    writer = csv.writer(file)\n",
    "    field = ['number of asset',\"iteration\", \"time\"]\n",
    "    writer.writerow(field)\n",
    "    while i<1000:\n",
    "        i = i + 1\n",
    "        start = time.process_time()\n",
    "        result = qaoa.solve(qp)\n",
    "        end = time.process_time()\n",
    "        writer.writerow([6, i, end-start])\n",
    "data1 = pd.read_csv('qaoa6_2lay.csv')\n",
    "print(data1['time'].mean())\n",
    "print(data1['time'].std())\n",
    "print_result(result)"
   ]
  },
  {
   "cell_type": "code",
   "execution_count": 20,
   "metadata": {},
   "outputs": [
    {
     "name": "stderr",
     "output_type": "stream",
     "text": [
      "/var/folders/9k/xq3jd5c90w93s6tc_cws222r0000gn/T/ipykernel_66107/1447556634.py:3: DeprecationWarning: The class ``qiskit.algorithms.minimum_eigen_solvers.qaoa.QAOA`` is deprecated as of qiskit-terra 0.24.0. It will be removed no earlier than 3 months after the release date. Instead, use the class ``qiskit.algorithms.minimum_eigensolvers.QAOA``. See https://qisk.it/algo_migration for a migration guide.\n",
      "  qaoa_mes = QAOA(optimizer=cobyla, reps=layers, quantum_instance=quantum_instance)\n"
     ]
    },
    {
     "name": "stdout",
     "output_type": "stream",
     "text": [
      "Optimal: selection [1. 0. 1. 0. 0.], value -0.0017\n",
      "\n",
      "----------------- Full result ---------------------\n",
      "selection\tvalue\t\tprobability\n",
      "---------------------------------------------------\n",
      "[1 0 1 0 0]\t-0.0017\t\t0.1012\n",
      "[0 1 1 0 0]\t-0.0010\t\t0.1003\n",
      "[0 0 1 0 1]\t0.0002\t\t0.0995\n",
      "[1 1 0 0 0]\t0.0005\t\t0.0993\n",
      "[0 0 1 1 0]\t0.0001\t\t0.0993\n",
      "[1 0 0 0 1]\t0.0013\t\t0.0983\n",
      "[1 0 0 1 0]\t0.0016\t\t0.0983\n",
      "[0 1 0 0 1]\t0.0024\t\t0.0977\n",
      "[0 1 0 1 0]\t0.0024\t\t0.0975\n",
      "[0 0 0 1 1]\t0.0038\t\t0.0969\n",
      "[0 0 0 0 0]\t4.0363\t\t0.0013\n",
      "[1 1 1 0 0]\t1.0083\t\t0.0007\n",
      "[0 0 0 1 0]\t1.0106\t\t0.0007\n",
      "[1 0 1 1 0]\t1.0094\t\t0.0006\n",
      "[1 0 1 0 1]\t1.0090\t\t0.0006\n",
      "[0 0 0 0 1]\t1.0108\t\t0.0006\n",
      "[0 1 1 0 1]\t1.0101\t\t0.0006\n",
      "[0 1 1 1 0]\t1.0102\t\t0.0006\n",
      "[0 1 0 0 0]\t1.0095\t\t0.0006\n",
      "[0 0 1 1 1]\t1.0115\t\t0.0006\n",
      "[1 1 0 1 0]\t1.0117\t\t0.0006\n",
      "[1 1 0 0 1]\t1.0113\t\t0.0006\n",
      "[1 0 0 0 0]\t1.0089\t\t0.0006\n",
      "[1 0 0 1 1]\t1.0127\t\t0.0005\n",
      "[0 0 1 0 0]\t1.0074\t\t0.0005\n",
      "[0 1 0 1 1]\t1.0139\t\t0.0005\n",
      "[1 1 1 1 1]\t9.0856\t\t0.0004\n",
      "[1 1 1 0 1]\t4.0374\t\t0.0002\n",
      "[1 1 1 1 0]\t4.0379\t\t0.0002\n",
      "[1 0 1 1 1]\t4.0387\t\t0.0002\n",
      "[0 1 1 1 1]\t4.0400\t\t0.0002\n",
      "[1 1 0 1 1]\t4.0411\t\t0.0001\n"
     ]
    }
   ],
   "source": [
    "layers = 5\n",
    "\n",
    "qaoa_mes = QAOA(optimizer=cobyla, reps=layers, quantum_instance=quantum_instance)\n",
    "qaoa = MinimumEigenOptimizer(qaoa_mes)\n",
    "result = qaoa.solve(qp)\n",
    "\n",
    "print_result(result)"
   ]
  },
  {
   "cell_type": "code",
   "execution_count": 21,
   "metadata": {},
   "outputs": [
    {
     "name": "stdout",
     "output_type": "stream",
     "text": [
      "1.6348383549999979\n",
      "0.10118209496928086\n",
      "Optimal: selection [1. 0. 1. 0. 0.], value -0.0017\n",
      "\n",
      "----------------- Full result ---------------------\n",
      "selection\tvalue\t\tprobability\n",
      "---------------------------------------------------\n",
      "[0 0 0 1 1]\t0.0038\t\t0.1002\n",
      "[0 1 0 1 0]\t0.0024\t\t0.0996\n",
      "[0 1 0 0 1]\t0.0024\t\t0.0996\n",
      "[1 0 0 1 0]\t0.0016\t\t0.0992\n",
      "[1 0 0 0 1]\t0.0013\t\t0.0990\n",
      "[1 1 0 0 0]\t0.0005\t\t0.0988\n",
      "[0 0 1 1 0]\t0.0001\t\t0.0986\n",
      "[0 0 1 0 1]\t0.0002\t\t0.0986\n",
      "[0 1 1 0 0]\t-0.0010\t\t0.0982\n",
      "[1 0 1 0 0]\t-0.0017\t\t0.0979\n",
      "[0 0 1 0 0]\t1.0074\t\t0.0018\n",
      "[1 0 0 0 0]\t1.0089\t\t0.0017\n",
      "[0 1 0 0 0]\t1.0095\t\t0.0017\n",
      "[0 0 0 0 1]\t1.0108\t\t0.0017\n",
      "[0 0 0 1 0]\t1.0106\t\t0.0017\n",
      "[0 0 0 0 0]\t4.0363\t\t0.0003\n",
      "[1 1 0 1 1]\t4.0411\t\t0.0002\n",
      "[0 1 1 1 1]\t4.0400\t\t0.0002\n",
      "[1 0 1 1 1]\t4.0387\t\t0.0002\n",
      "[1 1 1 0 1]\t4.0374\t\t0.0002\n",
      "[1 1 1 1 0]\t4.0379\t\t0.0001\n",
      "[1 1 1 1 1]\t9.0856\t\t0.0001\n",
      "[0 1 0 1 1]\t1.0139\t\t0.0001\n",
      "[1 0 0 1 1]\t1.0127\t\t0.0000\n",
      "[1 1 0 1 0]\t1.0117\t\t0.0000\n",
      "[0 0 1 1 1]\t1.0115\t\t0.0000\n",
      "[1 1 0 0 1]\t1.0113\t\t0.0000\n",
      "[1 1 1 0 0]\t1.0083\t\t0.0000\n",
      "[0 1 1 0 1]\t1.0101\t\t0.0000\n",
      "[0 1 1 1 0]\t1.0102\t\t0.0000\n",
      "[1 0 1 1 0]\t1.0094\t\t0.0000\n",
      "[1 0 1 0 1]\t1.0090\t\t0.0000\n",
      "CPU times: user 26min 41s, sys: 33.2 s, total: 27min 15s\n",
      "Wall time: 42min 55s\n"
     ]
    }
   ],
   "source": [
    "%%time\n",
    "import csv\n",
    "import time\n",
    "import pandas as pd\n",
    "from csv import writer\n",
    "i = 0\n",
    "with open('qaoa5_5lay.csv', 'w', newline='') as file:\n",
    "    writer = csv.writer(file)\n",
    "    field = ['number of asset',\"iteration\", \"time\"]\n",
    "    writer.writerow(field)\n",
    "    while i<1000:\n",
    "        i = i + 1\n",
    "        start = time.process_time()\n",
    "        result = qaoa.solve(qp)\n",
    "        end = time.process_time()\n",
    "        writer.writerow([5, i, end-start])\n",
    "data1 = pd.read_csv('qaoa5_5lay.csv')\n",
    "print(data1['time'].mean())\n",
    "print(data1['time'].std())\n",
    "print_result(result)"
   ]
  },
  {
   "cell_type": "markdown",
   "metadata": {},
   "source": [
    "In this case, the depth of the circuit did not make much in favor of our outcome as the chances of getting the optimal solution decreased from almost 8% to 6%."
   ]
  },
  {
   "cell_type": "code",
   "execution_count": 22,
   "metadata": {},
   "outputs": [
    {
     "name": "stderr",
     "output_type": "stream",
     "text": [
      "/var/folders/9k/xq3jd5c90w93s6tc_cws222r0000gn/T/ipykernel_66107/2620542453.py:3: DeprecationWarning: The class ``qiskit.algorithms.minimum_eigen_solvers.qaoa.QAOA`` is deprecated as of qiskit-terra 0.24.0. It will be removed no earlier than 3 months after the release date. Instead, use the class ``qiskit.algorithms.minimum_eigensolvers.QAOA``. See https://qisk.it/algo_migration for a migration guide.\n",
      "  qaoa_mes = QAOA(optimizer=cobyla, reps=layers, quantum_instance=quantum_instance)\n"
     ]
    },
    {
     "name": "stdout",
     "output_type": "stream",
     "text": [
      "Optimal: selection [1. 0. 1. 0. 0.], value -0.0017\n",
      "\n",
      "----------------- Full result ---------------------\n",
      "selection\tvalue\t\tprobability\n",
      "---------------------------------------------------\n",
      "[1 0 1 0 0]\t-0.0017\t\t0.0314\n",
      "[0 1 1 0 0]\t-0.0010\t\t0.0314\n",
      "[0 0 1 1 0]\t0.0001\t\t0.0314\n",
      "[0 0 1 0 1]\t0.0002\t\t0.0314\n",
      "[1 1 0 0 0]\t0.0005\t\t0.0314\n",
      "[1 0 0 0 1]\t0.0013\t\t0.0314\n",
      "[1 0 0 1 0]\t0.0016\t\t0.0314\n",
      "[0 1 0 1 0]\t0.0024\t\t0.0314\n",
      "[0 1 0 0 1]\t0.0024\t\t0.0314\n",
      "[0 0 0 1 1]\t0.0038\t\t0.0314\n",
      "[0 0 0 0 0]\t4.0363\t\t0.0314\n",
      "[1 1 1 1 0]\t4.0379\t\t0.0314\n",
      "[1 1 1 0 1]\t4.0374\t\t0.0314\n",
      "[1 0 1 1 1]\t4.0387\t\t0.0314\n",
      "[0 1 1 1 1]\t4.0400\t\t0.0314\n",
      "[1 1 0 1 1]\t4.0411\t\t0.0314\n",
      "[1 1 1 1 1]\t9.0856\t\t0.0311\n",
      "[0 1 0 1 1]\t1.0139\t\t0.0311\n",
      "[1 0 0 1 1]\t1.0127\t\t0.0311\n",
      "[1 1 0 0 1]\t1.0113\t\t0.0311\n",
      "[1 1 0 1 0]\t1.0117\t\t0.0311\n",
      "[0 0 1 1 1]\t1.0115\t\t0.0311\n",
      "[0 1 1 0 1]\t1.0101\t\t0.0311\n",
      "[0 1 1 1 0]\t1.0102\t\t0.0311\n",
      "[1 0 1 0 1]\t1.0090\t\t0.0311\n",
      "[1 0 1 1 0]\t1.0094\t\t0.0311\n",
      "[1 1 1 0 0]\t1.0083\t\t0.0311\n",
      "[0 0 0 1 0]\t1.0106\t\t0.0311\n",
      "[0 0 0 0 1]\t1.0108\t\t0.0311\n",
      "[0 1 0 0 0]\t1.0095\t\t0.0311\n",
      "[1 0 0 0 0]\t1.0089\t\t0.0311\n",
      "[0 0 1 0 0]\t1.0074\t\t0.0311\n"
     ]
    }
   ],
   "source": [
    "layers = 1\n",
    "\n",
    "qaoa_mes = QAOA(optimizer=cobyla, reps=layers, quantum_instance=quantum_instance)\n",
    "qaoa = MinimumEigenOptimizer(qaoa_mes)\n",
    "result = qaoa.solve(qp)\n",
    "\n",
    "print_result(result)"
   ]
  },
  {
   "cell_type": "code",
   "execution_count": 23,
   "metadata": {},
   "outputs": [
    {
     "name": "stdout",
     "output_type": "stream",
     "text": [
      "0.16243177700000114\n",
      "0.12839238079741733\n",
      "Optimal: selection [1. 0. 1. 0. 0.], value -0.0017\n",
      "\n",
      "----------------- Full result ---------------------\n",
      "selection\tvalue\t\tprobability\n",
      "---------------------------------------------------\n",
      "[1 0 1 0 0]\t-0.0017\t\t0.0658\n",
      "[0 1 1 0 0]\t-0.0010\t\t0.0658\n",
      "[0 0 1 1 0]\t0.0001\t\t0.0656\n",
      "[0 0 1 0 1]\t0.0002\t\t0.0656\n",
      "[1 1 0 0 0]\t0.0005\t\t0.0655\n",
      "[1 0 0 0 1]\t0.0013\t\t0.0654\n",
      "[1 0 0 1 0]\t0.0016\t\t0.0654\n",
      "[0 1 0 1 0]\t0.0024\t\t0.0653\n",
      "[0 1 0 0 1]\t0.0024\t\t0.0653\n",
      "[0 0 0 1 1]\t0.0038\t\t0.0651\n",
      "[0 0 1 0 0]\t1.0074\t\t0.0231\n",
      "[1 0 0 0 0]\t1.0089\t\t0.0230\n",
      "[0 1 0 0 0]\t1.0095\t\t0.0229\n",
      "[0 0 0 1 0]\t1.0106\t\t0.0229\n",
      "[0 0 0 0 1]\t1.0108\t\t0.0228\n",
      "[1 1 1 0 0]\t1.0083\t\t0.0221\n",
      "[1 0 1 0 1]\t1.0090\t\t0.0221\n",
      "[1 0 1 1 0]\t1.0094\t\t0.0220\n",
      "[0 1 1 0 1]\t1.0101\t\t0.0220\n",
      "[0 1 1 1 0]\t1.0102\t\t0.0220\n",
      "[1 1 0 0 1]\t1.0113\t\t0.0219\n",
      "[0 0 1 1 1]\t1.0115\t\t0.0219\n",
      "[1 1 0 1 0]\t1.0117\t\t0.0219\n",
      "[1 0 0 1 1]\t1.0127\t\t0.0218\n",
      "[0 1 0 1 1]\t1.0139\t\t0.0217\n",
      "[1 1 1 1 1]\t9.0856\t\t0.0043\n",
      "[0 0 0 0 0]\t4.0363\t\t0.0031\n",
      "[1 1 0 1 1]\t4.0411\t\t0.0008\n",
      "[0 1 1 1 1]\t4.0400\t\t0.0008\n",
      "[1 0 1 1 1]\t4.0387\t\t0.0007\n",
      "[1 1 1 1 0]\t4.0379\t\t0.0007\n",
      "[1 1 1 0 1]\t4.0374\t\t0.0007\n",
      "CPU times: user 2min 38s, sys: 4.38 s, total: 2min 42s\n",
      "Wall time: 11min 57s\n"
     ]
    }
   ],
   "source": [
    "%%time\n",
    "import csv\n",
    "import time\n",
    "import pandas as pd\n",
    "from csv import writer\n",
    "i = 0\n",
    "with open('qaoa5_1lay.csv', 'w', newline='') as file:\n",
    "    writer = csv.writer(file)\n",
    "    field = ['number of asset',\"iteration\", \"time\"]\n",
    "    writer.writerow(field)\n",
    "    while i<1000:\n",
    "        i = i + 1\n",
    "        start = time.process_time()\n",
    "        result = qaoa.solve(qp)\n",
    "        end = time.process_time()\n",
    "        writer.writerow([5, i, end-start])\n",
    "data1 = pd.read_csv('qaoa5_1lay.csv')\n",
    "print(data1['time'].mean())\n",
    "print(data1['time'].std())\n",
    "print_result(result)"
   ]
  },
  {
   "cell_type": "markdown",
   "metadata": {},
   "source": [
    "As it also happends with classical ML and QML approaches, design is key for solving the problem with a high success rate for obtaining the best possible solution. Lets run our best solution up to now and see how the outcome would look like."
   ]
  },
  {
   "cell_type": "code",
   "execution_count": 30,
   "metadata": {},
   "outputs": [
    {
     "data": {
      "image/png": "[encoded data removed]",
      "text/plain": [
       "<Figure size 956.385x535.111 with 1 Axes>"
      ]
     },
     "execution_count": 30,
     "metadata": {},
     "output_type": "execute_result"
    }
   ],
   "source": [
    "from qiskit import QuantumCircuit\n",
    "ansatz = g2(5,1)\n",
    "qc = QuantumCircuit(num_assets,num_assets)\n",
    "\n",
    "# VQE Two Local ansatz\n",
    "qc.compose(ansatz, inplace=True)\n",
    "\n",
    "# Measures\n",
    "for i in range(0, num_assets):\n",
    "    qc.measure(i, i)\n",
    "\n",
    "qc.draw('mpl', fold=150)"
   ]
  },
  {
   "cell_type": "code",
   "execution_count": 41,
   "metadata": {},
   "outputs": [
    {
     "data": {
      "image/png": "[encoded data removed]",
      "text/plain": [
       "<Figure size 956.385x535.111 with 1 Axes>"
      ]
     },
     "execution_count": 41,
     "metadata": {},
     "output_type": "execute_result"
    }
   ],
   "source": [
    "pqc = qc.bind_parameters(best_parameters.values())\n",
    "pqc.draw('mpl', fold=150)"
   ]
  },
  {
   "cell_type": "code",
   "execution_count": 42,
   "metadata": {},
   "outputs": [
    {
     "data": {
      "image/png": "[encoded data removed]",
      "text/plain": [
       "<Figure size 700x500 with 1 Axes>"
      ]
     },
     "execution_count": 42,
     "metadata": {},
     "output_type": "execute_result"
    }
   ],
   "source": [
    "from qiskit import Aer, execute\n",
    "from qiskit.visualization import plot_histogram\n",
    "\n",
    "# Number of shots to the circuit\n",
    "nshots = 10\n",
    "\n",
    "# execute the quantum circuit\n",
    "backend = Aer.get_backend('qasm_simulator') # the device to run on\n",
    "result = execute(pqc, backend, shots=nshots).result()\n",
    "counts  = result.get_counts(pqc)\n",
    "\n",
    "plot_histogram(counts)"
   ]
  },
  {
   "cell_type": "code",
   "execution_count": 43,
   "metadata": {},
   "outputs": [
    {
     "name": "stdout",
     "output_type": "stream",
     "text": [
      "Solutions found:\n",
      "Solution 00101 with success probability 100.0%\n"
     ]
    }
   ],
   "source": [
    "\n",
    "print(\"Solutions found:\")\n",
    "for cres in counts:\n",
    "    print(f\"Solution {cres[::-1]} with success probability {counts[cres]*100/nshots}%\")"
   ]
  },
  {
   "cell_type": "code",
   "execution_count": 1,
   "metadata": {},
   "outputs": [
    {
     "ename": "SyntaxError",
     "evalue": "unterminated string literal (detected at line 10) (966829849.py, line 10)",
     "output_type": "error",
     "traceback": [
      "\u001b[0;36m  Cell \u001b[0;32mIn[1], line 10\u001b[0;36m\u001b[0m\n\u001b[0;31m    row_linkage = sch.linkage(correlation_ matrix, method='complete', metric='euclidean\")\u001b[0m\n\u001b[0m                                                                             ^\u001b[0m\n\u001b[0;31mSyntaxError\u001b[0m\u001b[0;31m:\u001b[0m unterminated string literal (detected at line 10)\n"
     ]
    }
   ],
   "source": [
    "import numpy as np \n",
    "import pandas as pd \n",
    "import seaborn as sns \n",
    "import scipy.cluster.hierarchy as sch \n",
    "import matplotlib.pyplot as plt\n",
    "np.random.seed(1)\n",
    "data = np.random.rand(15, 15)\n",
    "df = pd. DataFrame(data, columns=[f'Variable_(i)' for i in range(1, 16)])\n",
    "correlation_matrix = df.corr()\n",
    "row_linkage = sch.linkage(correlation_ matrix, method='complete', metric='euclidean\")\n",
    "col_linkage = sch.linkage(correlation_matrix.T, method='complete', metric='euclidean')\n",
    "sns.set(font scale=0.8)\n",
    "plt.figure(figsize=(8, 8)) sns.clustermap(correlation_matrix, cmap='viridis', linewidths=0.5,\n",
    "row_cluster=True, col_cluster=True, row_linkage=row_linkage, col_linkage=col_linkage)\n",
    "pit.show()"
   ]
  }
 ],
 "metadata": {
  "kernelspec": {
   "display_name": "Python 3.8.10 ('.venv': venv)",
   "language": "python",
   "name": "python3"
  },
  "language_info": {
   "codemirror_mode": {
    "name": "ipython",
    "version": 3
   },
   "file_extension": ".py",
   "mimetype": "text/x-python",
   "name": "python",
   "nbconvert_exporter": "python",
   "pygments_lexer": "ipython3",
   "version": "3.10.9"
  },
  "orig_nbformat": 4,
  "vscode": {
   "interpreter": {
    "hash": "103bead1b3505221cf3c93684cd5f873d89729dddf7b8625d3d8bb582bc8ea06"
   }
  }
 },
 "nbformat": 4,
 "nbformat_minor": 2
}
