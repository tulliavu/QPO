{
 "cells": [
  {
   "cell_type": "markdown",
   "metadata": {},
   "source": [
    "# Get the data\n",
    "\n",
    "Depending on each case your data may look a little bit different but we should start our portfolio optimization by acquiring information on a set of STOCK to better understand their behaviour trough, in this case, one year of activity in the market."
   ]
  },
  {
   "cell_type": "code",
   "execution_count": 9,
   "metadata": {},
   "outputs": [
    {
     "data": {
      "text/html": [
       "<div>\n",
       "<style scoped>\n",
       "    .dataframe tbody tr th:only-of-type {\n",
       "        vertical-align: middle;\n",
       "    }\n",
       "\n",
       "    .dataframe tbody tr th {\n",
       "        vertical-align: top;\n",
       "    }\n",
       "\n",
       "    .dataframe thead th {\n",
       "        text-align: right;\n",
       "    }\n",
       "</style>\n",
       "<table border=\"1\" class=\"dataframe\">\n",
       "  <thead>\n",
       "    <tr style=\"text-align: right;\">\n",
       "      <th></th>\n",
       "      <th>Unnamed: 0</th>\n",
       "      <th>Asset</th>\n",
       "      <th>Open time</th>\n",
       "      <th>Open</th>\n",
       "      <th>High</th>\n",
       "      <th>Low</th>\n",
       "      <th>Close</th>\n",
       "      <th>Volume</th>\n",
       "      <th>Closing time</th>\n",
       "      <th>Quote asset vol</th>\n",
       "      <th>Num traders</th>\n",
       "      <th>Taker buy base asset vol</th>\n",
       "      <th>Taker buy quote asset vol</th>\n",
       "      <th>To be ignored</th>\n",
       "    </tr>\n",
       "  </thead>\n",
       "  <tbody>\n",
       "    <tr>\n",
       "      <th>0</th>\n",
       "      <td>0</td>\n",
       "      <td>ETHBTC</td>\n",
       "      <td>1634774400000</td>\n",
       "      <td>0.063057</td>\n",
       "      <td>0.066299</td>\n",
       "      <td>0.062904</td>\n",
       "      <td>0.065148</td>\n",
       "      <td>2.191795e+05</td>\n",
       "      <td>1634860799999</td>\n",
       "      <td>14185.381380</td>\n",
       "      <td>441192</td>\n",
       "      <td>1.002940e+05</td>\n",
       "      <td>6492.487566</td>\n",
       "      <td>0</td>\n",
       "    </tr>\n",
       "    <tr>\n",
       "      <th>1</th>\n",
       "      <td>1</td>\n",
       "      <td>ETHBTC</td>\n",
       "      <td>1634860800000</td>\n",
       "      <td>0.065160</td>\n",
       "      <td>0.065960</td>\n",
       "      <td>0.064685</td>\n",
       "      <td>0.065446</td>\n",
       "      <td>9.703463e+04</td>\n",
       "      <td>1634947199999</td>\n",
       "      <td>6338.327303</td>\n",
       "      <td>199872</td>\n",
       "      <td>5.274508e+04</td>\n",
       "      <td>3446.038753</td>\n",
       "      <td>0</td>\n",
       "    </tr>\n",
       "    <tr>\n",
       "      <th>2</th>\n",
       "      <td>2</td>\n",
       "      <td>ETHBTC</td>\n",
       "      <td>1634947200000</td>\n",
       "      <td>0.065445</td>\n",
       "      <td>0.068079</td>\n",
       "      <td>0.065181</td>\n",
       "      <td>0.067997</td>\n",
       "      <td>7.807181e+04</td>\n",
       "      <td>1635033599999</td>\n",
       "      <td>5183.565102</td>\n",
       "      <td>170954</td>\n",
       "      <td>3.906242e+04</td>\n",
       "      <td>2593.452923</td>\n",
       "      <td>0</td>\n",
       "    </tr>\n",
       "    <tr>\n",
       "      <th>3</th>\n",
       "      <td>3</td>\n",
       "      <td>ETHBTC</td>\n",
       "      <td>1635033600000</td>\n",
       "      <td>0.067998</td>\n",
       "      <td>0.068163</td>\n",
       "      <td>0.066101</td>\n",
       "      <td>0.067079</td>\n",
       "      <td>7.586534e+04</td>\n",
       "      <td>1635119999999</td>\n",
       "      <td>5087.916649</td>\n",
       "      <td>161735</td>\n",
       "      <td>3.649493e+04</td>\n",
       "      <td>2447.367339</td>\n",
       "      <td>0</td>\n",
       "    </tr>\n",
       "    <tr>\n",
       "      <th>4</th>\n",
       "      <td>4</td>\n",
       "      <td>ETHBTC</td>\n",
       "      <td>1635120000000</td>\n",
       "      <td>0.067081</td>\n",
       "      <td>0.067245</td>\n",
       "      <td>0.065269</td>\n",
       "      <td>0.066897</td>\n",
       "      <td>8.364134e+04</td>\n",
       "      <td>1635206399999</td>\n",
       "      <td>5546.270472</td>\n",
       "      <td>180063</td>\n",
       "      <td>4.119963e+04</td>\n",
       "      <td>2731.174031</td>\n",
       "      <td>0</td>\n",
       "    </tr>\n",
       "    <tr>\n",
       "      <th>...</th>\n",
       "      <td>...</td>\n",
       "      <td>...</td>\n",
       "      <td>...</td>\n",
       "      <td>...</td>\n",
       "      <td>...</td>\n",
       "      <td>...</td>\n",
       "      <td>...</td>\n",
       "      <td>...</td>\n",
       "      <td>...</td>\n",
       "      <td>...</td>\n",
       "      <td>...</td>\n",
       "      <td>...</td>\n",
       "      <td>...</td>\n",
       "      <td>...</td>\n",
       "    </tr>\n",
       "    <tr>\n",
       "      <th>2191</th>\n",
       "      <td>361</td>\n",
       "      <td>LOOMBTC</td>\n",
       "      <td>1665964800000</td>\n",
       "      <td>0.000002</td>\n",
       "      <td>0.000003</td>\n",
       "      <td>0.000002</td>\n",
       "      <td>0.000003</td>\n",
       "      <td>4.744341e+07</td>\n",
       "      <td>1666051199999</td>\n",
       "      <td>129.065254</td>\n",
       "      <td>13690</td>\n",
       "      <td>2.295153e+07</td>\n",
       "      <td>62.933081</td>\n",
       "      <td>0</td>\n",
       "    </tr>\n",
       "    <tr>\n",
       "      <th>2192</th>\n",
       "      <td>362</td>\n",
       "      <td>LOOMBTC</td>\n",
       "      <td>1666051200000</td>\n",
       "      <td>0.000003</td>\n",
       "      <td>0.000003</td>\n",
       "      <td>0.000002</td>\n",
       "      <td>0.000003</td>\n",
       "      <td>2.686088e+07</td>\n",
       "      <td>1666137599999</td>\n",
       "      <td>69.917328</td>\n",
       "      <td>6809</td>\n",
       "      <td>1.220545e+07</td>\n",
       "      <td>31.913100</td>\n",
       "      <td>0</td>\n",
       "    </tr>\n",
       "    <tr>\n",
       "      <th>2193</th>\n",
       "      <td>363</td>\n",
       "      <td>LOOMBTC</td>\n",
       "      <td>1666137600000</td>\n",
       "      <td>0.000003</td>\n",
       "      <td>0.000003</td>\n",
       "      <td>0.000002</td>\n",
       "      <td>0.000002</td>\n",
       "      <td>6.054445e+06</td>\n",
       "      <td>1666223999999</td>\n",
       "      <td>15.126751</td>\n",
       "      <td>1519</td>\n",
       "      <td>2.269257e+06</td>\n",
       "      <td>5.706104</td>\n",
       "      <td>0</td>\n",
       "    </tr>\n",
       "    <tr>\n",
       "      <th>2194</th>\n",
       "      <td>364</td>\n",
       "      <td>LOOMBTC</td>\n",
       "      <td>1666224000000</td>\n",
       "      <td>0.000002</td>\n",
       "      <td>0.000003</td>\n",
       "      <td>0.000002</td>\n",
       "      <td>0.000002</td>\n",
       "      <td>3.657251e+06</td>\n",
       "      <td>1666310399999</td>\n",
       "      <td>8.986174</td>\n",
       "      <td>1068</td>\n",
       "      <td>1.792142e+06</td>\n",
       "      <td>4.413974</td>\n",
       "      <td>0</td>\n",
       "    </tr>\n",
       "    <tr>\n",
       "      <th>2195</th>\n",
       "      <td>365</td>\n",
       "      <td>LOOMBTC</td>\n",
       "      <td>1666310400000</td>\n",
       "      <td>0.000002</td>\n",
       "      <td>0.000002</td>\n",
       "      <td>0.000002</td>\n",
       "      <td>0.000002</td>\n",
       "      <td>3.206225e+06</td>\n",
       "      <td>1666396799999</td>\n",
       "      <td>7.739278</td>\n",
       "      <td>970</td>\n",
       "      <td>9.477100e+05</td>\n",
       "      <td>2.289788</td>\n",
       "      <td>0</td>\n",
       "    </tr>\n",
       "  </tbody>\n",
       "</table>\n",
       "<p>2196 rows × 14 columns</p>\n",
       "</div>"
      ],
      "text/plain": [
       "      Unnamed: 0    Asset      Open time      Open      High       Low  \\\n",
       "0              0   ETHBTC  1634774400000  0.063057  0.066299  0.062904   \n",
       "1              1   ETHBTC  1634860800000  0.065160  0.065960  0.064685   \n",
       "2              2   ETHBTC  1634947200000  0.065445  0.068079  0.065181   \n",
       "3              3   ETHBTC  1635033600000  0.067998  0.068163  0.066101   \n",
       "4              4   ETHBTC  1635120000000  0.067081  0.067245  0.065269   \n",
       "...          ...      ...            ...       ...       ...       ...   \n",
       "2191         361  LOOMBTC  1665964800000  0.000002  0.000003  0.000002   \n",
       "2192         362  LOOMBTC  1666051200000  0.000003  0.000003  0.000002   \n",
       "2193         363  LOOMBTC  1666137600000  0.000003  0.000003  0.000002   \n",
       "2194         364  LOOMBTC  1666224000000  0.000002  0.000003  0.000002   \n",
       "2195         365  LOOMBTC  1666310400000  0.000002  0.000002  0.000002   \n",
       "\n",
       "         Close        Volume   Closing time  Quote asset vol  Num traders  \\\n",
       "0     0.065148  2.191795e+05  1634860799999     14185.381380       441192   \n",
       "1     0.065446  9.703463e+04  1634947199999      6338.327303       199872   \n",
       "2     0.067997  7.807181e+04  1635033599999      5183.565102       170954   \n",
       "3     0.067079  7.586534e+04  1635119999999      5087.916649       161735   \n",
       "4     0.066897  8.364134e+04  1635206399999      5546.270472       180063   \n",
       "...        ...           ...            ...              ...          ...   \n",
       "2191  0.000003  4.744341e+07  1666051199999       129.065254        13690   \n",
       "2192  0.000003  2.686088e+07  1666137599999        69.917328         6809   \n",
       "2193  0.000002  6.054445e+06  1666223999999        15.126751         1519   \n",
       "2194  0.000002  3.657251e+06  1666310399999         8.986174         1068   \n",
       "2195  0.000002  3.206225e+06  1666396799999         7.739278          970   \n",
       "\n",
       "      Taker buy base asset vol  Taker buy quote asset vol  To be ignored  \n",
       "0                 1.002940e+05                6492.487566              0  \n",
       "1                 5.274508e+04                3446.038753              0  \n",
       "2                 3.906242e+04                2593.452923              0  \n",
       "3                 3.649493e+04                2447.367339              0  \n",
       "4                 4.119963e+04                2731.174031              0  \n",
       "...                        ...                        ...            ...  \n",
       "2191              2.295153e+07                  62.933081              0  \n",
       "2192              1.220545e+07                  31.913100              0  \n",
       "2193              2.269257e+06                   5.706104              0  \n",
       "2194              1.792142e+06                   4.413974              0  \n",
       "2195              9.477100e+05                   2.289788              0  \n",
       "\n",
       "[2196 rows x 14 columns]"
      ]
     },
     "execution_count": 9,
     "metadata": {},
     "output_type": "execute_result"
    }
   ],
   "source": [
    "import pandas as pd\n",
    "\n",
    "data = pd.read_csv(\"binance_data6.csv\")\n",
    "data"
   ]
  },
  {
   "cell_type": "markdown",
   "metadata": {},
   "source": [
    "Following this we will calculate the average expected revenue for each asset. This is done by getting the difference between *opening* and *closing* time scaled to the opening price. This way we make sure each asset is independently evaluated.\n",
    "\n",
    "We will also compute the covariance between each asset so that we can consider this values as part of our portfolio diversification constraint."
   ]
  },
  {
   "cell_type": "code",
   "execution_count": 10,
   "metadata": {},
   "outputs": [],
   "source": [
    "from cmath import exp\n",
    "import numpy as np\n",
    "\n",
    "# Unique asset list\n",
    "asset_list = data[\"Asset\"].unique()\n",
    "#expected return\n",
    "exp_ret = {}\n",
    "return_list = []\n",
    "for asset in asset_list:\n",
    "    open_price = np.array(data[data[\"Asset\"] == asset][\"Open\"].astype(\"float\"))\n",
    "    close_price = np.array(data[data[\"Asset\"] == asset][\"Close\"].astype(\"float\"))\n",
    "        \n",
    "    # Sign will be used to indicate the value gradient direction\n",
    "    returns = ((close_price - open_price)/open_price)\n",
    "    exp_ret[asset] = returns.mean()\n",
    "    return_list.append(returns)\n",
    "\n",
    "# Expected return on each asset\n",
    "mu = [i for i in exp_ret.values()]   \n",
    "    \n",
    "# Compute covariance between returns\n",
    "sigma = np.cov(np.vstack(return_list))"
   ]
  },
  {
   "cell_type": "markdown",
   "metadata": {},
   "source": [
    "Here $\\mu$ is the value associated with the expected average return for each asset."
   ]
  },
  {
   "cell_type": "code",
   "execution_count": 11,
   "metadata": {},
   "outputs": [
    {
     "name": "stdout",
     "output_type": "stream",
     "text": [
      "Expected average return for asset ETHBTC is 0.00043221237788004834\n",
      "Expected average return for asset LTCBTC is -8.478051504195303e-05\n",
      "Expected average return for asset BNBBTC is 0.0019369845670104667\n",
      "Expected average return for asset NEOBTC is -0.0010735484309001167\n",
      "Expected average return for asset QTUMETH is -0.0011878855362685353\n",
      "Expected average return for asset LOOMBTC is 0.003263968784562174\n"
     ]
    }
   ],
   "source": [
    "for i,v in zip(asset_list, mu):\n",
    "    print(f\"Expected average return for asset {i} is {v}\")"
   ]
  },
  {
   "cell_type": "markdown",
   "metadata": {},
   "source": [
    "And $\\sigma$ is the covariance between those very same assets."
   ]
  },
  {
   "cell_type": "code",
   "execution_count": 12,
   "metadata": {},
   "outputs": [
    {
     "data": {
      "text/plain": [
       "array([[ 0.00048188,  0.00022357,  0.00019375,  0.00021957, -0.00019389,\n",
       "         0.00010709],\n",
       "       [ 0.00022357,  0.00075058,  0.00022139,  0.00035433,  0.00022951,\n",
       "         0.00021139],\n",
       "       [ 0.00019375,  0.00022139,  0.00050048,  0.00023024,  0.00012029,\n",
       "         0.00021223],\n",
       "       [ 0.00021957,  0.00035433,  0.00023024,  0.00098326,  0.00046827,\n",
       "         0.00045428],\n",
       "       [-0.00019389,  0.00022951,  0.00012029,  0.00046827,  0.0010795 ,\n",
       "         0.0003405 ],\n",
       "       [ 0.00010709,  0.00021139,  0.00021223,  0.00045428,  0.0003405 ,\n",
       "         0.00500931]])"
      ]
     },
     "execution_count": 12,
     "metadata": {},
     "output_type": "execute_result"
    }
   ],
   "source": [
    "sigma"
   ]
  },
  {
   "cell_type": "markdown",
   "metadata": {},
   "source": [
    "It is important to know what the cost is of each asset so that we can also limit the budget we would like to spend in our investment."
   ]
  },
  {
   "cell_type": "code",
   "execution_count": 13,
   "metadata": {},
   "outputs": [
    {
     "name": "stdout",
     "output_type": "stream",
     "text": [
      "[{'Asset': 'ETHBTC', 'Open': 0.067361}, {'Asset': 'LTCBTC', 'Open': 0.002689}, {'Asset': 'BNBBTC', 'Open': 0.014126}, {'Asset': 'NEOBTC', 'Open': 0.000407}, {'Asset': 'QTUMETH', 'Open': 0.002023}, {'Asset': 'LOOMBTC', 'Open': 2.45e-06}]\n"
     ]
    },
    {
     "name": "stderr",
     "output_type": "stream",
     "text": [
      "/var/folders/9k/xq3jd5c90w93s6tc_cws222r0000gn/T/ipykernel_96116/1294053305.py:1: FutureWarning: The provided callable <built-in function max> is currently using SeriesGroupBy.max. In a future version of pandas, the provided callable will be used directly. To keep current behavior pass the string \"max\" instead.\n",
      "  filter = data.groupby(\"Asset\").agg({\"Open time\":max}).reset_index()\n"
     ]
    }
   ],
   "source": [
    "filter = data.groupby(\"Asset\").agg({\"Open time\":max}).reset_index()\n",
    "costs = data.merge(filter, how='inner').drop_duplicates()\n",
    "#print(costs)\n",
    "cost_list = costs[[\"Asset\",\"Open\"]].to_dict('records')\n",
    "print(cost_list)"
   ]
  },
  {
   "cell_type": "markdown",
   "metadata": {},
   "source": [
    "We will store this information so that it can be used later."
   ]
  },
  {
   "cell_type": "code",
   "execution_count": 14,
   "metadata": {},
   "outputs": [],
   "source": [
    "import json\n",
    "\n",
    "# Serializing json  \n",
    "data = {\"mu\" : mu, \"sigma\": sigma.tolist(), \"assets\": cost_list} \n",
    "json_object = json.dumps(data, indent = 4)\n",
    "\n",
    "with open(\"binance-data6.json\", \"w\") as file:\n",
    "    file.write(json_object)"
   ]
  }
 ],
 "metadata": {
  "kernelspec": {
   "display_name": "Python 3.8.10 ('.venv': venv)",
   "language": "python",
   "name": "python3"
  },
  "language_info": {
   "codemirror_mode": {
    "name": "ipython",
    "version": 3
   },
   "file_extension": ".py",
   "mimetype": "text/x-python",
   "name": "python",
   "nbconvert_exporter": "python",
   "pygments_lexer": "ipython3",
   "version": "3.10.0"
  },
  "orig_nbformat": 4,
  "vscode": {
   "interpreter": {
    "hash": "103bead1b3505221cf3c93684cd5f873d89729dddf7b8625d3d8bb582bc8ea06"
   }
  }
 },
 "nbformat": 4,
 "nbformat_minor": 2
}
