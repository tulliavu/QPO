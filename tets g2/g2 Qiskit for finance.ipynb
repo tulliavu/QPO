{
 "cells": [
  {
   "cell_type": "markdown",
   "metadata": {},
   "source": [
    "# Qiskit for Finance\n",
    "\n",
    "Qiskit already provides some of the code we needed to handcraft within its package for finance. We will see hoow already seen methods can be used by simply invoking this functionalities from the package."
   ]
  },
  {
   "cell_type": "code",
   "execution_count": 5,
   "metadata": {},
   "outputs": [],
   "source": [
    "import qiskit\n",
    "import typing\n",
    "def compose_circuit(qcs: typing.List[qiskit.QuantumCircuit]) -> qiskit.QuantumCircuit:\n",
    "    \"\"\"Combine list of paramerterized quantum circuit into one. It's very helpful!!!\n",
    "\n",
    "    Args:\n",
    "        qcs (typing.List[qiskit.QuantumCircuit]): List of quantum circuit\n",
    "\n",
    "    Returns:\n",
    "        qiskit.QuantumCircuit: composed quantum circuit\n",
    "    \"\"\"\n",
    "    qc = qiskit.QuantumCircuit(qcs[0].num_qubits)\n",
    "    i = 0\n",
    "    num_params = 0\n",
    "    for sub_qc in qcs:\n",
    "        num_params += len(sub_qc.parameters)\n",
    "    thetas = qiskit.circuit.ParameterVector('theta', num_params)\n",
    "    for sub_qc in qcs:\n",
    "        for instruction in sub_qc:\n",
    "            if len(instruction[0].params) == 1:\n",
    "                instruction[0].params[0] = thetas[i]\n",
    "                i += 1\n",
    "            if len(instruction[0].params) == 3:\n",
    "                instruction[0].params[0] = thetas[i:i+1]\n",
    "                i += 2\n",
    "            qc.append(instruction[0], instruction[1])\n",
    "    qc.draw()\n",
    "    return qc"
   ]
  },
  {
   "cell_type": "code",
   "execution_count": 6,
   "metadata": {},
   "outputs": [],
   "source": [
    "import qiskit\n",
    "def g2(num_qubits: int, num_layers: int) -> qiskit.QuantumCircuit:\n",
    "    \"\"\"_summary_\n",
    "\n",
    "    Args:\n",
    "        num_qubits (int): _description_\n",
    "        num_layers (int): _description_\n",
    "\n",
    "    Returns:\n",
    "        qiskit.QuantumCircuit: parameterized quantum circuit\n",
    "    \"\"\"\n",
    "    qc = qiskit.QuantumCircuit(num_qubits)\n",
    "    thetas = qiskit.circuit.ParameterVector(\n",
    "        'theta', 2 * num_qubits * num_layers)\n",
    "    j = 0\n",
    "    for _ in range(num_layers):\n",
    "        for i in range(num_qubits):\n",
    "            qc.ry(thetas[j], i)\n",
    "            j += 1\n",
    "        for i in range(0, num_qubits - 1, 2):\n",
    "            qc.cz(i, i + 1)\n",
    "        for i in range(num_qubits):\n",
    "            qc.ry(thetas[j], i)\n",
    "            j += 1\n",
    "        for i in range(1, num_qubits - 1, 2):\n",
    "            qc.cz(i, i + 1)\n",
    "        qc.cz(0, num_qubits - 1)\n",
    "    return qc\n",
    "\n",
    "\n",
    "def gn(num_qubits: int, num_layers: int) -> qiskit.QuantumCircuit:\n",
    "    \"\"\"_summary_\n",
    "\n",
    "    Args:\n",
    "        num_qubits (int): _description_\n",
    "        num_layers (int): _description_\n",
    "\n",
    "    Returns:\n",
    "        qiskit.QuantumCircuit: parameterized quantum circuit\n",
    "    \"\"\"\n",
    "    qc = qiskit.QuantumCircuit(num_qubits, num_qubits)\n",
    "    for _ in range(0, num_layers):\n",
    "        qc = compose_circuit([qc, ry_layer(num_qubits), cz_layer(num_qubits)])\n",
    "    return qc\n",
    "\n",
    "\n",
    "def g2gn(num_qubits: int, num_layers: int) -> qiskit.QuantumCircuit:\n",
    "    \"\"\"g2 + gn ansatz\n",
    "\n",
    "    Args:\n",
    "        num_qubits (int): _description_\n",
    "        num_layers (int): _description_\n",
    "\n",
    "    Returns:\n",
    "        qiskit.QuantumCircuit: parameterized quantum circuit\n",
    "    \"\"\"\n",
    "    qc = qiskit.QuantumCircuit(num_qubits, num_qubits)\n",
    "    for _ in range(0, num_layers):\n",
    "        qc = compose_circuit([qc, g2(num_qubits, 1), gn(num_qubits, 1)])\n",
    "    return qc\n",
    "\n",
    "\n",
    "def g2gnw(num_qubits: int, num_layers: int) -> qiskit.QuantumCircuit:\n",
    "    \"\"\"g2 + gn + w ansatz\n",
    "\n",
    "    Args:\n",
    "        num_qubits (int): _description_\n",
    "        num_layers (int): _description_\n",
    "\n",
    "    Returns:\n",
    "        qiskit.QuantumCircuit: parameterized quantum circuit\n",
    "    \"\"\"\n",
    "    qc = qiskit.QuantumCircuit(num_qubits, num_qubits)\n",
    "    for _ in range(0, num_layers):\n",
    "        qc = compose_circuit([qc, g2(num_qubits, 1), gn(\n",
    "            num_qubits, 1), zxz_layer(num_qubits, 1)])\n",
    "    return qc"
   ]
  },
  {
   "cell_type": "code",
   "execution_count": 7,
   "metadata": {},
   "outputs": [],
   "source": [
    "import json\n",
    "import numpy as np\n",
    "\n",
    "data = None\n",
    "with open(\"binance-data.json\", \"r\") as jsonfile:\n",
    "    data = json.load(jsonfile)\n",
    "\n",
    "returns = data['mu']\n",
    "covar = data['sigma']\n",
    "\n",
    "assets = []\n",
    "costs = []\n",
    "for row in data['assets']:\n",
    "    assets.append(row[\"Asset\"])\n",
    "    costs.append(float(row[\"Open\"]))\n",
    "\n",
    "num_assets = len(assets)"
   ]
  },
  {
   "cell_type": "markdown",
   "metadata": {},
   "source": [
    "Now we should set our budget and the risk so that que quadrativ program can be instantiated."
   ]
  },
  {
   "cell_type": "code",
   "execution_count": 8,
   "metadata": {},
   "outputs": [
    {
     "data": {
      "text/plain": [
       "<QuadraticProgram: minimize 0.00024094000060428594*x_0^2 + 0.00022356716389922..., 5 variables, 1 constraints, 'Portfolio optimization'>"
      ]
     },
     "execution_count": 8,
     "metadata": {},
     "output_type": "execute_result"
    }
   ],
   "source": [
    "from qiskit_finance.applications.optimization import PortfolioOptimization\n",
    "\n",
    "q = 0.5  # set risk factor\n",
    "budget = len(assets) // 2  # set budget\n",
    "\n",
    "portfolio = PortfolioOptimization(\n",
    "    expected_returns=returns, covariances=covar, risk_factor=q, budget=budget\n",
    ")\n",
    "qp = portfolio.to_quadratic_program()\n",
    "qp"
   ]
  },
  {
   "cell_type": "code",
   "execution_count": 9,
   "metadata": {},
   "outputs": [
    {
     "name": "stderr",
     "output_type": "stream",
     "text": [
      "/var/folders/9k/xq3jd5c90w93s6tc_cws222r0000gn/T/ipykernel_66107/597978851.py:30: DeprecationWarning: The class ``qiskit.algorithms.minimum_eigen_solvers.numpy_minimum_eigen_solver.NumPyMinimumEigensolver`` is deprecated as of qiskit-terra 0.24.0. It will be removed no earlier than 3 months after the release date. Instead, use the class ``qiskit.algorithms.minimum_eigensolvers.NumPyMinimumEigensolver``. See https://qisk.it/algo_migration for a migration guide.\n",
      "  exact_mes = NumPyMinimumEigensolver()\n"
     ]
    }
   ],
   "source": [
    "#exact_eigensolver\n",
    "from qiskit_optimization.converters import QuadraticProgramToQubo\n",
    "from qiskit_optimization.algorithms import MinimumEigenOptimizer\n",
    "from qiskit.algorithms import NumPyMinimumEigensolver\n",
    "import time\n",
    "\n",
    "def index_to_selection(i, num_assets):\n",
    "    s = \"{0:b}\".format(i).rjust(num_assets)\n",
    "    x = np.array([1 if s[i] == \"1\" else 0 for i in reversed(range(num_assets))])\n",
    "    return x\n",
    "\n",
    "def print_result(result):\n",
    "    selection = result.x\n",
    "    value = result.fval\n",
    "    print(\"Optimal: selection {}, value {:.4f}\".format(selection, value))\n",
    "\n",
    "    eigenstate = result.min_eigen_solver_result.eigenstate\n",
    "    \n",
    "    eigenvector = eigenstate if isinstance(eigenstate, np.ndarray) else eigenstate.to_matrix()\n",
    "    probabilities = np.abs(eigenvector) ** 2\n",
    "    i_sorted = reversed(np.argsort(probabilities))\n",
    "    print(\"\\n----------------- Full result ---------------------\")\n",
    "    print(\"selection\\tvalue\\t\\tprobability\")\n",
    "    print(\"---------------------------------------------------\")\n",
    "    for i in i_sorted:\n",
    "        x = index_to_selection(i, num_assets)\n",
    "        value = QuadraticProgramToQubo().convert(qp).objective.evaluate(x)\n",
    "        probability = probabilities[i]\n",
    "        print(\"%10s\\t%.4f\\t\\t%.4f\" % (x, value, probability))\n",
    "exact_mes = NumPyMinimumEigensolver()\n",
    "exact_eigensolver = MinimumEigenOptimizer(exact_mes)\n",
    "result = exact_eigensolver.solve(qp)"
   ]
  },
  {
   "cell_type": "code",
   "execution_count": 10,
   "metadata": {},
   "outputs": [
    {
     "name": "stdout",
     "output_type": "stream",
     "text": [
      "0.015407954999999928\n",
      "0.003290785898049544\n",
      "Optimal: selection [1. 0. 1. 0. 0.], value -0.0017\n",
      "\n",
      "----------------- Full result ---------------------\n",
      "selection\tvalue\t\tprobability\n",
      "---------------------------------------------------\n",
      "[1 0 1 0 0]\t-0.0017\t\t1.0000\n",
      "[1 1 1 1 1]\t9.0856\t\t0.0000\n",
      "[0 1 1 1 1]\t4.0400\t\t0.0000\n",
      "[1 0 0 0 0]\t1.0089\t\t0.0000\n",
      "[0 1 0 0 0]\t1.0095\t\t0.0000\n",
      "[1 1 0 0 0]\t0.0005\t\t0.0000\n",
      "[0 0 1 0 0]\t1.0074\t\t0.0000\n",
      "[0 1 1 0 0]\t-0.0010\t\t0.0000\n",
      "[1 1 1 0 0]\t1.0083\t\t0.0000\n",
      "[0 0 0 1 0]\t1.0106\t\t0.0000\n",
      "[1 0 0 1 0]\t0.0016\t\t0.0000\n",
      "[0 1 0 1 0]\t0.0024\t\t0.0000\n",
      "[1 1 0 1 0]\t1.0117\t\t0.0000\n",
      "[0 0 1 1 0]\t0.0001\t\t0.0000\n",
      "[1 0 1 1 0]\t1.0094\t\t0.0000\n",
      "[0 1 1 1 0]\t1.0102\t\t0.0000\n",
      "[1 1 1 1 0]\t4.0379\t\t0.0000\n",
      "[0 0 0 0 1]\t1.0108\t\t0.0000\n",
      "[1 0 0 0 1]\t0.0013\t\t0.0000\n",
      "[0 1 0 0 1]\t0.0024\t\t0.0000\n",
      "[1 1 0 0 1]\t1.0113\t\t0.0000\n",
      "[0 0 1 0 1]\t0.0002\t\t0.0000\n",
      "[1 0 1 0 1]\t1.0090\t\t0.0000\n",
      "[0 1 1 0 1]\t1.0101\t\t0.0000\n",
      "[1 1 1 0 1]\t4.0374\t\t0.0000\n",
      "[0 0 0 1 1]\t0.0038\t\t0.0000\n",
      "[1 0 0 1 1]\t1.0127\t\t0.0000\n",
      "[0 1 0 1 1]\t1.0139\t\t0.0000\n",
      "[1 1 0 1 1]\t4.0411\t\t0.0000\n",
      "[0 0 1 1 1]\t1.0115\t\t0.0000\n",
      "[1 0 1 1 1]\t4.0387\t\t0.0000\n",
      "[0 0 0 0 0]\t4.0363\t\t0.0000\n",
      "CPU times: user 15.5 s, sys: 95.7 ms, total: 15.6 s\n",
      "Wall time: 15.8 s\n"
     ]
    }
   ],
   "source": [
    "%%time\n",
    "import csv\n",
    "import time\n",
    "import pandas as pd\n",
    "from csv import writer\n",
    "i = 0\n",
    "with open('exact_eigensolver5g2.csv', 'w', newline='') as file:\n",
    "    writer = csv.writer(file)\n",
    "    field = ['number of asset',\"iteration\", \"time\"]\n",
    "    writer.writerow(field)\n",
    "    while i<1000:\n",
    "        i = i + 1\n",
    "        start = time.process_time()\n",
    "        result = exact_eigensolver.solve(qp)\n",
    "        end = time.process_time()\n",
    "        writer.writerow([5, i, end-start])\n",
    "data1 = pd.read_csv('exact_eigensolver5g2.csv')\n",
    "print(data1['time'].mean())\n",
    "print(data1['time'].std())\n",
    "print_result(result)"
   ]
  },
  {
   "cell_type": "code",
   "execution_count": 11,
   "metadata": {},
   "outputs": [
    {
     "name": "stdout",
     "output_type": "stream",
     "text": [
      "Asset ETHBTC was selected\n",
      "Asset LTCBTC was not selected\n",
      "Asset BNBBTC was selected\n",
      "Asset NEOBTC was not selected\n",
      "Asset QTUMETH was not selected\n"
     ]
    }
   ],
   "source": [
    "for i, val in enumerate(np.round(result.x,1)):\n",
    "    if val == 1:\n",
    "        print(f\"Asset {assets[i]} was selected\")\n",
    "    else:\n",
    "        print(f\"Asset {assets[i]} was not selected\")"
   ]
  },
  {
   "cell_type": "markdown",
   "metadata": {},
   "source": [
    "We can check the selection still holds to the original solution we had for the classical and annealing procedures. Now we will see how it works when solving this very same problem using already mentioned QAOA and VQE algorithms.\n",
    "\n",
    "When dealing with Variation Quantum Algorithms two main things need to be selected:\n",
    "\n",
    "* Optimization procedure to be used\n",
    "* Circuit\n",
    "\n",
    "In nex example COBYLA and a TwoLocal implementation will be used. The TwoLocal circuit can hold several repetitions of the same scheme containing different operations arbitratily chosen."
   ]
  },
  {
   "cell_type": "code",
   "execution_count": 12,
   "metadata": {},
   "outputs": [
    {
     "data": {
      "image/png": "[encoded data removed]",
      "text/plain": [
       "<Figure size 2628.61x451.5 with 1 Axes>"
      ]
     },
     "execution_count": 12,
     "metadata": {},
     "output_type": "execute_result"
    }
   ],
   "source": [
    "from qiskit.circuit.library import TwoLocal\n",
    "ansatz = g2(5,1)\n",
    "ansatz = TwoLocal(num_assets, \"ry\", \"cz\", reps=3, entanglement=\"full\")\n",
    "ansatz.decompose().draw('mpl', fold=150)"
   ]
  },
  {
   "cell_type": "markdown",
   "metadata": {},
   "source": [
    "$\\theta$ parameters for this circuit are the ones that need to be trained so that at the end, the solution with highest success probability shows the result to our problem."
   ]
  },
  {
   "cell_type": "code",
   "execution_count": 13,
   "metadata": {},
   "outputs": [
    {
     "name": "stderr",
     "output_type": "stream",
     "text": [
      "/var/folders/9k/xq3jd5c90w93s6tc_cws222r0000gn/T/ipykernel_66107/1609422378.py:13: DeprecationWarning: The class ``qiskit.utils.quantum_instance.QuantumInstance`` is deprecated as of qiskit-terra 0.24.0. It will be removed no earlier than 3 months after the release date. For code migration guidelines, visit https://qisk.it/qi_migration.\n",
      "  quantum_instance = QuantumInstance(backend=backend, seed_simulator=1234, seed_transpiler=1234)\n",
      "/var/folders/9k/xq3jd5c90w93s6tc_cws222r0000gn/T/ipykernel_66107/1609422378.py:14: DeprecationWarning: The class ``qiskit.algorithms.minimum_eigen_solvers.vqe.VQE`` is deprecated as of qiskit-terra 0.24.0. It will be removed no earlier than 3 months after the release date. Instead, use the class ``qiskit.algorithms.minimum_eigensolvers.VQE``. See https://qisk.it/algo_migration for a migration guide.\n",
      "  vqe_mes = VQE(ansatz, optimizer=cobyla, quantum_instance=quantum_instance)\n"
     ]
    }
   ],
   "source": [
    "from qiskit import Aer\n",
    "from qiskit.algorithms import VQE\n",
    "from qiskit.algorithms.optimizers import COBYLA\n",
    "from qiskit.utils import QuantumInstance\n",
    "from qiskit.utils import algorithm_globals\n",
    "ansatz = g2(5,1)\n",
    "algorithm_globals.random_seed = 1234\n",
    "backend = Aer.get_backend(\"statevector_simulator\")\n",
    "\n",
    "cobyla = COBYLA()\n",
    "cobyla.set_options(maxiter=500)\n",
    "\n",
    "quantum_instance = QuantumInstance(backend=backend, seed_simulator=1234, seed_transpiler=1234)\n",
    "vqe_mes = VQE(ansatz, optimizer=cobyla, quantum_instance=quantum_instance)\n",
    "vqe = MinimumEigenOptimizer(vqe_mes)"
   ]
  },
  {
   "cell_type": "code",
   "execution_count": 14,
   "metadata": {},
   "outputs": [
    {
     "name": "stdout",
     "output_type": "stream",
     "text": [
      "0.40357086999999986\n",
      "0.12916249549795145\n",
      "Optimal: selection [1. 0. 1. 0. 0.], value -0.0017\n",
      "\n",
      "----------------- Full result ---------------------\n",
      "selection\tvalue\t\tprobability\n",
      "---------------------------------------------------\n",
      "[0 1 0 1 0]\t0.0024\t\t0.7274\n",
      "[1 0 0 1 0]\t0.0016\t\t0.2694\n",
      "[0 1 1 0 0]\t-0.0010\t\t0.0023\n",
      "[1 0 1 0 0]\t-0.0017\t\t0.0009\n",
      "[1 1 0 1 0]\t1.0117\t\t0.0000\n",
      "[0 1 0 0 0]\t1.0095\t\t0.0000\n",
      "[0 0 0 1 0]\t1.0106\t\t0.0000\n",
      "[1 0 0 0 0]\t1.0089\t\t0.0000\n",
      "[0 1 0 1 1]\t1.0139\t\t0.0000\n",
      "[1 0 0 1 1]\t1.0127\t\t0.0000\n",
      "[0 1 1 1 0]\t1.0102\t\t0.0000\n",
      "[1 0 1 1 0]\t1.0094\t\t0.0000\n",
      "[1 1 1 0 0]\t1.0083\t\t0.0000\n",
      "[0 0 1 0 0]\t1.0074\t\t0.0000\n",
      "[0 1 1 0 1]\t1.0101\t\t0.0000\n",
      "[1 0 1 0 1]\t1.0090\t\t0.0000\n",
      "[1 1 0 0 0]\t0.0005\t\t0.0000\n",
      "[0 0 0 0 0]\t4.0363\t\t0.0000\n",
      "[1 1 0 1 1]\t4.0411\t\t0.0000\n",
      "[0 1 0 0 1]\t0.0024\t\t0.0000\n",
      "[0 0 0 1 1]\t0.0038\t\t0.0000\n",
      "[1 1 1 1 0]\t4.0379\t\t0.0000\n",
      "[1 0 0 0 1]\t0.0013\t\t0.0000\n",
      "[0 0 1 1 0]\t0.0001\t\t0.0000\n",
      "[0 1 1 1 1]\t4.0400\t\t0.0000\n",
      "[1 0 1 1 1]\t4.0387\t\t0.0000\n",
      "[1 1 1 0 1]\t4.0374\t\t0.0000\n",
      "[0 0 1 0 1]\t0.0002\t\t0.0000\n",
      "[1 1 0 0 1]\t1.0113\t\t0.0000\n",
      "[0 0 0 0 1]\t1.0108\t\t0.0000\n",
      "[1 1 1 1 1]\t9.0856\t\t0.0000\n",
      "[0 0 1 1 1]\t1.0115\t\t0.0000\n",
      "CPU times: user 6min 26s, sys: 17.7 s, total: 6min 43s\n",
      "Wall time: 6min 49s\n"
     ]
    }
   ],
   "source": [
    "%%time\n",
    "import csv\n",
    "import time\n",
    "import pandas as pd\n",
    "from csv import writer\n",
    "i = 0\n",
    "with open('cobyla5.csv', 'w', newline='') as file:\n",
    "    writer = csv.writer(file)\n",
    "    field = ['number of asset',\"iteration\", \"time\"]\n",
    "    writer.writerow(field)\n",
    "    while i<1000:\n",
    "        i = i + 1\n",
    "        start = time.process_time()\n",
    "        result = vqe.solve(qp)\n",
    "        end = time.process_time()\n",
    "        writer.writerow([5, i, end-start])\n",
    "data1 = pd.read_csv('cobyla5.csv')\n",
    "print(data1['time'].mean())\n",
    "print(data1['time'].std())\n",
    "print_result(result)"
   ]
  },
  {
   "cell_type": "markdown",
   "metadata": {},
   "source": [
    "At this point it is important we pay attention at the probability column. This column states how plausible it is that using this circuit with found parameters we may found the optimal result. Our candidate solution has relativelly low probability, which means we should find better designs to increase our chances. We can easilly test how it would look like by adding more repetitions to the ansatz."
   ]
  },
  {
   "cell_type": "code",
   "execution_count": 15,
   "metadata": {},
   "outputs": [
    {
     "name": "stderr",
     "output_type": "stream",
     "text": [
      "/var/folders/9k/xq3jd5c90w93s6tc_cws222r0000gn/T/ipykernel_66107/3770655853.py:7: DeprecationWarning: The class ``qiskit.utils.quantum_instance.QuantumInstance`` is deprecated as of qiskit-terra 0.24.0. It will be removed no earlier than 3 months after the release date. For code migration guidelines, visit https://qisk.it/qi_migration.\n",
      "  quantum_instance = QuantumInstance(backend=backend, seed_simulator=1234, seed_transpiler=1234)\n",
      "/var/folders/9k/xq3jd5c90w93s6tc_cws222r0000gn/T/ipykernel_66107/3770655853.py:8: DeprecationWarning: The class ``qiskit.algorithms.minimum_eigen_solvers.vqe.VQE`` is deprecated as of qiskit-terra 0.24.0. It will be removed no earlier than 3 months after the release date. Instead, use the class ``qiskit.algorithms.minimum_eigensolvers.VQE``. See https://qisk.it/algo_migration for a migration guide.\n",
      "  vqe_mes = VQE(ansatz, optimizer=cobyla, quantum_instance=quantum_instance)\n"
     ]
    },
    {
     "name": "stdout",
     "output_type": "stream",
     "text": [
      "Optimal: selection [1. 0. 1. 0. 0.], value -0.0017\n",
      "\n",
      "----------------- Full result ---------------------\n",
      "selection\tvalue\t\tprobability\n",
      "---------------------------------------------------\n",
      "[0 1 0 1 0]\t0.0024\t\t0.5285\n",
      "[0 1 1 0 0]\t-0.0010\t\t0.4671\n",
      "[1 0 0 1 0]\t0.0016\t\t0.0024\n",
      "[1 0 1 0 0]\t-0.0017\t\t0.0021\n",
      "[0 1 0 1 1]\t1.0139\t\t0.0000\n",
      "[0 1 1 0 1]\t1.0101\t\t0.0000\n",
      "[1 1 0 1 0]\t1.0117\t\t0.0000\n",
      "[1 1 1 0 0]\t1.0083\t\t0.0000\n",
      "[0 0 0 1 0]\t1.0106\t\t0.0000\n",
      "[0 0 1 0 0]\t1.0074\t\t0.0000\n",
      "[0 1 0 0 0]\t1.0095\t\t0.0000\n",
      "[0 1 1 1 0]\t1.0102\t\t0.0000\n",
      "[1 0 0 1 1]\t1.0127\t\t0.0000\n",
      "[1 0 1 0 1]\t1.0090\t\t0.0000\n",
      "[1 0 0 0 0]\t1.0089\t\t0.0000\n",
      "[1 0 1 1 0]\t1.0094\t\t0.0000\n",
      "[1 1 0 1 1]\t4.0411\t\t0.0000\n",
      "[1 1 1 0 1]\t4.0374\t\t0.0000\n",
      "[0 0 0 1 1]\t0.0038\t\t0.0000\n",
      "[0 0 1 0 1]\t0.0002\t\t0.0000\n",
      "[0 1 0 0 1]\t0.0024\t\t0.0000\n",
      "[1 1 0 0 0]\t0.0005\t\t0.0000\n",
      "[0 1 1 1 1]\t4.0400\t\t0.0000\n",
      "[1 1 1 1 0]\t4.0379\t\t0.0000\n",
      "[0 0 0 0 0]\t4.0363\t\t0.0000\n",
      "[0 0 1 1 0]\t0.0001\t\t0.0000\n",
      "[1 0 0 0 1]\t0.0013\t\t0.0000\n",
      "[1 0 1 1 1]\t4.0387\t\t0.0000\n",
      "[1 1 0 0 1]\t1.0113\t\t0.0000\n",
      "[1 1 1 1 1]\t9.0856\t\t0.0000\n",
      "[0 0 0 0 1]\t1.0108\t\t0.0000\n",
      "[0 0 1 1 1]\t1.0115\t\t0.0000\n"
     ]
    }
   ],
   "source": [
    "ansatz = g2(5,1)\n",
    "#ansatz = TwoLocal(num_assets, \"ry\", \"cz\", reps=6, entanglement=\"full\")\n",
    "\n",
    "cobyla = COBYLA()\n",
    "cobyla.set_options(maxiter=500)\n",
    "\n",
    "quantum_instance = QuantumInstance(backend=backend, seed_simulator=1234, seed_transpiler=1234)\n",
    "vqe_mes = VQE(ansatz, optimizer=cobyla, quantum_instance=quantum_instance)\n",
    "vqe = MinimumEigenOptimizer(vqe_mes)\n",
    "result = vqe.solve(qp)\n",
    "\n",
    "print_result(result)"
   ]
  },
  {
   "cell_type": "code",
   "execution_count": 16,
   "metadata": {},
   "outputs": [
    {
     "name": "stdout",
     "output_type": "stream",
     "text": [
      "0.4077667599999988\n",
      "0.1096715488629053\n",
      "Optimal: selection [0. 0. 1. 0. 1.], value 0.0002\n",
      "\n",
      "----------------- Full result ---------------------\n",
      "selection\tvalue\t\tprobability\n",
      "---------------------------------------------------\n",
      "[0 0 1 0 1]\t0.0002\t\t0.9960\n",
      "[0 0 0 1 1]\t0.0038\t\t0.0040\n",
      "[0 0 0 0 1]\t1.0108\t\t0.0000\n",
      "[1 1 1 0 1]\t4.0374\t\t0.0000\n",
      "[0 0 1 1 1]\t1.0115\t\t0.0000\n",
      "[1 0 1 0 1]\t1.0090\t\t0.0000\n",
      "[0 0 1 0 0]\t1.0074\t\t0.0000\n",
      "[0 1 1 0 1]\t1.0101\t\t0.0000\n",
      "[1 1 0 1 1]\t4.0411\t\t0.0000\n",
      "[1 0 0 1 1]\t1.0127\t\t0.0000\n",
      "[0 0 0 1 0]\t1.0106\t\t0.0000\n",
      "[0 1 0 1 1]\t1.0139\t\t0.0000\n",
      "[1 1 0 0 1]\t1.0113\t\t0.0000\n",
      "[1 1 1 1 1]\t9.0856\t\t0.0000\n",
      "[1 0 0 0 1]\t0.0013\t\t0.0000\n",
      "[0 0 0 0 0]\t4.0363\t\t0.0000\n",
      "[1 1 1 0 0]\t1.0083\t\t0.0000\n",
      "[1 0 1 1 1]\t4.0387\t\t0.0000\n",
      "[0 0 1 1 0]\t0.0001\t\t0.0000\n",
      "[0 1 0 0 1]\t0.0024\t\t0.0000\n",
      "[1 0 1 0 0]\t-0.0017\t\t0.0000\n",
      "[0 1 1 1 1]\t4.0400\t\t0.0000\n",
      "[0 1 1 0 0]\t-0.0010\t\t0.0000\n",
      "[1 1 0 1 0]\t1.0117\t\t0.0000\n",
      "[1 0 0 1 0]\t0.0016\t\t0.0000\n",
      "[0 1 0 1 0]\t0.0024\t\t0.0000\n",
      "[1 1 0 0 0]\t0.0005\t\t0.0000\n",
      "[1 1 1 1 0]\t4.0379\t\t0.0000\n",
      "[1 0 0 0 0]\t1.0089\t\t0.0000\n",
      "[1 0 1 1 0]\t1.0094\t\t0.0000\n",
      "[0 1 0 0 0]\t1.0095\t\t0.0000\n",
      "[0 1 1 1 0]\t1.0102\t\t0.0000\n",
      "CPU times: user 6min 30s, sys: 17.7 s, total: 6min 47s\n",
      "Wall time: 6min 52s\n"
     ]
    }
   ],
   "source": [
    "%%time\n",
    "import csv\n",
    "import time\n",
    "import pandas as pd\n",
    "from csv import writer\n",
    "i = 0\n",
    "with open('cobyla5_6reps2.csv', 'w', newline='') as file:\n",
    "    writer = csv.writer(file)\n",
    "    field = ['number of asset',\"iteration\", \"time\"]\n",
    "    writer.writerow(field)\n",
    "    while i<1000:\n",
    "        i = i + 1\n",
    "        start = time.process_time()\n",
    "        result = vqe.solve(qp)\n",
    "        end = time.process_time()\n",
    "        writer.writerow([5, i, end-start])\n",
    "data1 = pd.read_csv('cobyla5_6reps2.csv')\n",
    "print(data1['time'].mean())\n",
    "print(data1['time'].std())\n",
    "print_result(result)"
   ]
  },
  {
   "cell_type": "markdown",
   "metadata": {},
   "source": [
    "Right now we reached 20% chances of seeing this state on a single run of our circuit. We could then simulate lets say for 5 runs so that way we most probably would register classically that state at least once."
   ]
  },
  {
   "cell_type": "code",
   "execution_count": 36,
   "metadata": {},
   "outputs": [],
   "source": [
    "best_parameters = None\n",
    "for key, value in vqe_mes.__dict__.items():\n",
    "    if key == \"_ret\":\n",
    "        best_parameters = value.optimal_parameters"
   ]
  },
  {
   "cell_type": "markdown",
   "metadata": {},
   "source": [
    "We can try with a different approach, in this case QAOA. For that, only number of layers to repeat the canonical form of the ansatz need to be provided."
   ]
  },
  {
   "cell_type": "code",
   "execution_count": 18,
   "metadata": {},
   "outputs": [
    {
     "name": "stderr",
     "output_type": "stream",
     "text": [
      "/var/folders/9k/xq3jd5c90w93s6tc_cws222r0000gn/T/ipykernel_66107/642958907.py:4: DeprecationWarning: The class ``qiskit.algorithms.minimum_eigen_solvers.qaoa.QAOA`` is deprecated as of qiskit-terra 0.24.0. It will be removed no earlier than 3 months after the release date. Instead, use the class ``qiskit.algorithms.minimum_eigensolvers.QAOA``. See https://qisk.it/algo_migration for a migration guide.\n",
      "  qaoa_mes = QAOA(optimizer=cobyla, reps=layers, quantum_instance=quantum_instance)\n"
     ]
    },
    {
     "name": "stdout",
     "output_type": "stream",
     "text": [
      "Optimal: selection [1. 0. 1. 0. 0.], value -0.0017\n",
      "\n",
      "----------------- Full result ---------------------\n",
      "selection\tvalue\t\tprobability\n",
      "---------------------------------------------------\n",
      "[0 0 0 1 1]\t0.0038\t\t0.0964\n",
      "[0 1 0 0 1]\t0.0024\t\t0.0962\n",
      "[0 1 0 1 0]\t0.0024\t\t0.0962\n",
      "[1 0 0 1 0]\t0.0016\t\t0.0961\n",
      "[1 0 0 0 1]\t0.0013\t\t0.0960\n",
      "[1 1 0 0 0]\t0.0005\t\t0.0959\n",
      "[0 0 1 0 1]\t0.0002\t\t0.0959\n",
      "[0 0 1 1 0]\t0.0001\t\t0.0958\n",
      "[0 1 1 0 0]\t-0.0010\t\t0.0957\n",
      "[1 0 1 0 0]\t-0.0017\t\t0.0956\n",
      "[0 0 0 0 0]\t4.0363\t\t0.0054\n",
      "[0 0 1 0 0]\t1.0074\t\t0.0042\n",
      "[0 1 0 0 0]\t1.0095\t\t0.0042\n",
      "[0 0 0 1 0]\t1.0106\t\t0.0042\n",
      "[1 0 0 0 0]\t1.0089\t\t0.0042\n",
      "[0 0 0 0 1]\t1.0108\t\t0.0042\n",
      "[1 1 1 1 1]\t9.0856\t\t0.0036\n",
      "[0 1 0 1 1]\t1.0139\t\t0.0010\n",
      "[1 0 0 1 1]\t1.0127\t\t0.0010\n",
      "[1 1 0 1 0]\t1.0117\t\t0.0010\n",
      "[0 0 1 1 1]\t1.0115\t\t0.0010\n",
      "[0 1 1 1 0]\t1.0102\t\t0.0010\n",
      "[1 1 0 0 1]\t1.0113\t\t0.0010\n",
      "[0 1 1 0 1]\t1.0101\t\t0.0010\n",
      "[1 0 1 1 0]\t1.0094\t\t0.0010\n",
      "[1 1 1 0 0]\t1.0083\t\t0.0010\n",
      "[1 0 1 0 1]\t1.0090\t\t0.0010\n",
      "[1 1 1 0 1]\t4.0374\t\t0.0001\n",
      "[1 1 1 1 0]\t4.0379\t\t0.0001\n",
      "[1 0 1 1 1]\t4.0387\t\t0.0001\n",
      "[0 1 1 1 1]\t4.0400\t\t0.0001\n",
      "[1 1 0 1 1]\t4.0411\t\t0.0001\n"
     ]
    }
   ],
   "source": [
    "from qiskit.algorithms import QAOA\n",
    "\n",
    "layers = 2\n",
    "qaoa_mes = QAOA(optimizer=cobyla, reps=layers, quantum_instance=quantum_instance)\n",
    "qaoa = MinimumEigenOptimizer(qaoa_mes)\n",
    "result = qaoa.solve(qp)\n",
    "\n",
    "print_result(result)"
   ]
  },
  {
   "cell_type": "code",
   "execution_count": 19,
   "metadata": {},
   "outputs": [
    {
     "name": "stdout",
     "output_type": "stream",
     "text": [
      "0.6155108099999977\n",
      "0.27905915418167476\n",
      "Optimal: selection [1. 0. 1. 0. 0.], value -0.0017\n",
      "\n",
      "----------------- Full result ---------------------\n",
      "selection\tvalue\t\tprobability\n",
      "---------------------------------------------------\n",
      "[1 1 1 0 0]\t1.0083\t\t0.0616\n",
      "[1 0 1 1 0]\t1.0094\t\t0.0614\n",
      "[1 0 1 0 1]\t1.0090\t\t0.0614\n",
      "[0 1 1 0 1]\t1.0101\t\t0.0613\n",
      "[0 1 1 1 0]\t1.0102\t\t0.0613\n",
      "[0 0 1 1 1]\t1.0115\t\t0.0612\n",
      "[1 1 0 1 0]\t1.0117\t\t0.0612\n",
      "[1 1 0 0 1]\t1.0113\t\t0.0611\n",
      "[1 0 0 1 1]\t1.0127\t\t0.0610\n",
      "[0 1 0 1 1]\t1.0139\t\t0.0610\n",
      "[1 0 1 0 0]\t-0.0017\t\t0.0294\n",
      "[0 1 1 0 0]\t-0.0010\t\t0.0293\n",
      "[0 0 1 0 1]\t0.0002\t\t0.0293\n",
      "[1 1 0 0 0]\t0.0005\t\t0.0293\n",
      "[0 0 1 1 0]\t0.0001\t\t0.0293\n",
      "[1 0 0 0 1]\t0.0013\t\t0.0292\n",
      "[1 0 0 1 0]\t0.0016\t\t0.0292\n",
      "[0 1 0 0 1]\t0.0024\t\t0.0292\n",
      "[0 1 0 1 0]\t0.0024\t\t0.0291\n",
      "[0 0 0 1 1]\t0.0038\t\t0.0291\n",
      "[1 1 1 1 0]\t4.0379\t\t0.0165\n",
      "[1 1 1 0 1]\t4.0374\t\t0.0164\n",
      "[1 0 1 1 1]\t4.0387\t\t0.0164\n",
      "[0 1 1 1 1]\t4.0400\t\t0.0164\n",
      "[1 1 0 1 1]\t4.0411\t\t0.0163\n",
      "[0 0 0 0 0]\t4.0363\t\t0.0088\n",
      "[1 1 1 1 1]\t9.0856\t\t0.0014\n",
      "[0 0 1 0 0]\t1.0074\t\t0.0006\n",
      "[1 0 0 0 0]\t1.0089\t\t0.0006\n",
      "[0 0 0 0 1]\t1.0108\t\t0.0006\n",
      "[0 1 0 0 0]\t1.0095\t\t0.0006\n",
      "[0 0 0 1 0]\t1.0106\t\t0.0006\n",
      "CPU times: user 9min 59s, sys: 16 s, total: 10min 15s\n",
      "Wall time: 10min 18s\n"
     ]
    }
   ],
   "source": [
    "%%time\n",
    "import csv\n",
    "import time\n",
    "import pandas as pd\n",
    "from csv import writer\n",
    "i = 0\n",
    "with open('qaoa5_2lay.csv', 'w', newline='') as file:\n",
    "    writer = csv.writer(file)\n",
    "    field = ['number of asset',\"iteration\", \"time\"]\n",
    "    writer.writerow(field)\n",
    "    while i<1000:\n",
    "        i = i + 1\n",
    "        start = time.process_time()\n",
    "        result = qaoa.solve(qp)\n",
    "        end = time.process_time()\n",
    "        writer.writerow([5, i, end-start])\n",
    "data1 = pd.read_csv('qaoa5_2lay.csv')\n",
    "print(data1['time'].mean())\n",
    "print(data1['time'].std())\n",
    "print_result(result)"
   ]
  },
  {
   "cell_type": "code",
   "execution_count": 20,
   "metadata": {},
   "outputs": [
    {
     "name": "stderr",
     "output_type": "stream",
     "text": [
      "/var/folders/9k/xq3jd5c90w93s6tc_cws222r0000gn/T/ipykernel_66107/1447556634.py:3: DeprecationWarning: The class ``qiskit.algorithms.minimum_eigen_solvers.qaoa.QAOA`` is deprecated as of qiskit-terra 0.24.0. It will be removed no earlier than 3 months after the release date. Instead, use the class ``qiskit.algorithms.minimum_eigensolvers.QAOA``. See https://qisk.it/algo_migration for a migration guide.\n",
      "  qaoa_mes = QAOA(optimizer=cobyla, reps=layers, quantum_instance=quantum_instance)\n"
     ]
    },
    {
     "name": "stdout",
     "output_type": "stream",
     "text": [
      "Optimal: selection [1. 0. 1. 0. 0.], value -0.0017\n",
      "\n",
      "----------------- Full result ---------------------\n",
      "selection\tvalue\t\tprobability\n",
      "---------------------------------------------------\n",
      "[1 0 1 0 0]\t-0.0017\t\t0.1012\n",
      "[0 1 1 0 0]\t-0.0010\t\t0.1003\n",
      "[0 0 1 0 1]\t0.0002\t\t0.0995\n",
      "[1 1 0 0 0]\t0.0005\t\t0.0993\n",
      "[0 0 1 1 0]\t0.0001\t\t0.0993\n",
      "[1 0 0 0 1]\t0.0013\t\t0.0983\n",
      "[1 0 0 1 0]\t0.0016\t\t0.0983\n",
      "[0 1 0 0 1]\t0.0024\t\t0.0977\n",
      "[0 1 0 1 0]\t0.0024\t\t0.0975\n",
      "[0 0 0 1 1]\t0.0038\t\t0.0969\n",
      "[0 0 0 0 0]\t4.0363\t\t0.0013\n",
      "[1 1 1 0 0]\t1.0083\t\t0.0007\n",
      "[0 0 0 1 0]\t1.0106\t\t0.0007\n",
      "[1 0 1 1 0]\t1.0094\t\t0.0006\n",
      "[1 0 1 0 1]\t1.0090\t\t0.0006\n",
      "[0 0 0 0 1]\t1.0108\t\t0.0006\n",
      "[0 1 1 0 1]\t1.0101\t\t0.0006\n",
      "[0 1 1 1 0]\t1.0102\t\t0.0006\n",
      "[0 1 0 0 0]\t1.0095\t\t0.0006\n",
      "[0 0 1 1 1]\t1.0115\t\t0.0006\n",
      "[1 1 0 1 0]\t1.0117\t\t0.0006\n",
      "[1 1 0 0 1]\t1.0113\t\t0.0006\n",
      "[1 0 0 0 0]\t1.0089\t\t0.0006\n",
      "[1 0 0 1 1]\t1.0127\t\t0.0005\n",
      "[0 0 1 0 0]\t1.0074\t\t0.0005\n",
      "[0 1 0 1 1]\t1.0139\t\t0.0005\n",
      "[1 1 1 1 1]\t9.0856\t\t0.0004\n",
      "[1 1 1 0 1]\t4.0374\t\t0.0002\n",
      "[1 1 1 1 0]\t4.0379\t\t0.0002\n",
      "[1 0 1 1 1]\t4.0387\t\t0.0002\n",
      "[0 1 1 1 1]\t4.0400\t\t0.0002\n",
      "[1 1 0 1 1]\t4.0411\t\t0.0001\n"
     ]
    }
   ],
   "source": [
    "layers = 5\n",
    "\n",
    "qaoa_mes = QAOA(optimizer=cobyla, reps=layers, quantum_instance=quantum_instance)\n",
    "qaoa = MinimumEigenOptimizer(qaoa_mes)\n",
    "result = qaoa.solve(qp)\n",
    "\n",
    "print_result(result)"
   ]
  },
  {
   "cell_type": "code",
   "execution_count": 21,
   "metadata": {},
   "outputs": [
    {
     "name": "stdout",
     "output_type": "stream",
     "text": [
      "1.6348383549999979\n",
      "0.10118209496928086\n",
      "Optimal: selection [1. 0. 1. 0. 0.], value -0.0017\n",
      "\n",
      "----------------- Full result ---------------------\n",
      "selection\tvalue\t\tprobability\n",
      "---------------------------------------------------\n",
      "[0 0 0 1 1]\t0.0038\t\t0.1002\n",
      "[0 1 0 1 0]\t0.0024\t\t0.0996\n",
      "[0 1 0 0 1]\t0.0024\t\t0.0996\n",
      "[1 0 0 1 0]\t0.0016\t\t0.0992\n",
      "[1 0 0 0 1]\t0.0013\t\t0.0990\n",
      "[1 1 0 0 0]\t0.0005\t\t0.0988\n",
      "[0 0 1 1 0]\t0.0001\t\t0.0986\n",
      "[0 0 1 0 1]\t0.0002\t\t0.0986\n",
      "[0 1 1 0 0]\t-0.0010\t\t0.0982\n",
      "[1 0 1 0 0]\t-0.0017\t\t0.0979\n",
      "[0 0 1 0 0]\t1.0074\t\t0.0018\n",
      "[1 0 0 0 0]\t1.0089\t\t0.0017\n",
      "[0 1 0 0 0]\t1.0095\t\t0.0017\n",
      "[0 0 0 0 1]\t1.0108\t\t0.0017\n",
      "[0 0 0 1 0]\t1.0106\t\t0.0017\n",
      "[0 0 0 0 0]\t4.0363\t\t0.0003\n",
      "[1 1 0 1 1]\t4.0411\t\t0.0002\n",
      "[0 1 1 1 1]\t4.0400\t\t0.0002\n",
      "[1 0 1 1 1]\t4.0387\t\t0.0002\n",
      "[1 1 1 0 1]\t4.0374\t\t0.0002\n",
      "[1 1 1 1 0]\t4.0379\t\t0.0001\n",
      "[1 1 1 1 1]\t9.0856\t\t0.0001\n",
      "[0 1 0 1 1]\t1.0139\t\t0.0001\n",
      "[1 0 0 1 1]\t1.0127\t\t0.0000\n",
      "[1 1 0 1 0]\t1.0117\t\t0.0000\n",
      "[0 0 1 1 1]\t1.0115\t\t0.0000\n",
      "[1 1 0 0 1]\t1.0113\t\t0.0000\n",
      "[1 1 1 0 0]\t1.0083\t\t0.0000\n",
      "[0 1 1 0 1]\t1.0101\t\t0.0000\n",
      "[0 1 1 1 0]\t1.0102\t\t0.0000\n",
      "[1 0 1 1 0]\t1.0094\t\t0.0000\n",
      "[1 0 1 0 1]\t1.0090\t\t0.0000\n",
      "CPU times: user 26min 41s, sys: 33.2 s, total: 27min 15s\n",
      "Wall time: 42min 55s\n"
     ]
    }
   ],
   "source": [
    "%%time\n",
    "import csv\n",
    "import time\n",
    "import pandas as pd\n",
    "from csv import writer\n",
    "i = 0\n",
    "with open('qaoa5_5lay.csv', 'w', newline='') as file:\n",
    "    writer = csv.writer(file)\n",
    "    field = ['number of asset',\"iteration\", \"time\"]\n",
    "    writer.writerow(field)\n",
    "    while i<1000:\n",
    "        i = i + 1\n",
    "        start = time.process_time()\n",
    "        result = qaoa.solve(qp)\n",
    "        end = time.process_time()\n",
    "        writer.writerow([5, i, end-start])\n",
    "data1 = pd.read_csv('qaoa5_5lay.csv')\n",
    "print(data1['time'].mean())\n",
    "print(data1['time'].std())\n",
    "print_result(result)"
   ]
  },
  {
   "cell_type": "markdown",
   "metadata": {},
   "source": [
    "In this case, the depth of the circuit did not make much in favor of our outcome as the chances of getting the optimal solution decreased from almost 8% to 6%."
   ]
  },
  {
   "cell_type": "code",
   "execution_count": 22,
   "metadata": {},
   "outputs": [
    {
     "name": "stderr",
     "output_type": "stream",
     "text": [
      "/var/folders/9k/xq3jd5c90w93s6tc_cws222r0000gn/T/ipykernel_66107/2620542453.py:3: DeprecationWarning: The class ``qiskit.algorithms.minimum_eigen_solvers.qaoa.QAOA`` is deprecated as of qiskit-terra 0.24.0. It will be removed no earlier than 3 months after the release date. Instead, use the class ``qiskit.algorithms.minimum_eigensolvers.QAOA``. See https://qisk.it/algo_migration for a migration guide.\n",
      "  qaoa_mes = QAOA(optimizer=cobyla, reps=layers, quantum_instance=quantum_instance)\n"
     ]
    },
    {
     "name": "stdout",
     "output_type": "stream",
     "text": [
      "Optimal: selection [1. 0. 1. 0. 0.], value -0.0017\n",
      "\n",
      "----------------- Full result ---------------------\n",
      "selection\tvalue\t\tprobability\n",
      "---------------------------------------------------\n",
      "[1 0 1 0 0]\t-0.0017\t\t0.0314\n",
      "[0 1 1 0 0]\t-0.0010\t\t0.0314\n",
      "[0 0 1 1 0]\t0.0001\t\t0.0314\n",
      "[0 0 1 0 1]\t0.0002\t\t0.0314\n",
      "[1 1 0 0 0]\t0.0005\t\t0.0314\n",
      "[1 0 0 0 1]\t0.0013\t\t0.0314\n",
      "[1 0 0 1 0]\t0.0016\t\t0.0314\n",
      "[0 1 0 1 0]\t0.0024\t\t0.0314\n",
      "[0 1 0 0 1]\t0.0024\t\t0.0314\n",
      "[0 0 0 1 1]\t0.0038\t\t0.0314\n",
      "[0 0 0 0 0]\t4.0363\t\t0.0314\n",
      "[1 1 1 1 0]\t4.0379\t\t0.0314\n",
      "[1 1 1 0 1]\t4.0374\t\t0.0314\n",
      "[1 0 1 1 1]\t4.0387\t\t0.0314\n",
      "[0 1 1 1 1]\t4.0400\t\t0.0314\n",
      "[1 1 0 1 1]\t4.0411\t\t0.0314\n",
      "[1 1 1 1 1]\t9.0856\t\t0.0311\n",
      "[0 1 0 1 1]\t1.0139\t\t0.0311\n",
      "[1 0 0 1 1]\t1.0127\t\t0.0311\n",
      "[1 1 0 0 1]\t1.0113\t\t0.0311\n",
      "[1 1 0 1 0]\t1.0117\t\t0.0311\n",
      "[0 0 1 1 1]\t1.0115\t\t0.0311\n",
      "[0 1 1 0 1]\t1.0101\t\t0.0311\n",
      "[0 1 1 1 0]\t1.0102\t\t0.0311\n",
      "[1 0 1 0 1]\t1.0090\t\t0.0311\n",
      "[1 0 1 1 0]\t1.0094\t\t0.0311\n",
      "[1 1 1 0 0]\t1.0083\t\t0.0311\n",
      "[0 0 0 1 0]\t1.0106\t\t0.0311\n",
      "[0 0 0 0 1]\t1.0108\t\t0.0311\n",
      "[0 1 0 0 0]\t1.0095\t\t0.0311\n",
      "[1 0 0 0 0]\t1.0089\t\t0.0311\n",
      "[0 0 1 0 0]\t1.0074\t\t0.0311\n"
     ]
    }
   ],
   "source": [
    "layers = 1\n",
    "\n",
    "qaoa_mes = QAOA(optimizer=cobyla, reps=layers, quantum_instance=quantum_instance)\n",
    "qaoa = MinimumEigenOptimizer(qaoa_mes)\n",
    "result = qaoa.solve(qp)\n",
    "\n",
    "print_result(result)"
   ]
  },
  {
   "cell_type": "code",
   "execution_count": 23,
   "metadata": {},
   "outputs": [
    {
     "name": "stdout",
     "output_type": "stream",
     "text": [
      "0.16243177700000114\n",
      "0.12839238079741733\n",
      "Optimal: selection [1. 0. 1. 0. 0.], value -0.0017\n",
      "\n",
      "----------------- Full result ---------------------\n",
      "selection\tvalue\t\tprobability\n",
      "---------------------------------------------------\n",
      "[1 0 1 0 0]\t-0.0017\t\t0.0658\n",
      "[0 1 1 0 0]\t-0.0010\t\t0.0658\n",
      "[0 0 1 1 0]\t0.0001\t\t0.0656\n",
      "[0 0 1 0 1]\t0.0002\t\t0.0656\n",
      "[1 1 0 0 0]\t0.0005\t\t0.0655\n",
      "[1 0 0 0 1]\t0.0013\t\t0.0654\n",
      "[1 0 0 1 0]\t0.0016\t\t0.0654\n",
      "[0 1 0 1 0]\t0.0024\t\t0.0653\n",
      "[0 1 0 0 1]\t0.0024\t\t0.0653\n",
      "[0 0 0 1 1]\t0.0038\t\t0.0651\n",
      "[0 0 1 0 0]\t1.0074\t\t0.0231\n",
      "[1 0 0 0 0]\t1.0089\t\t0.0230\n",
      "[0 1 0 0 0]\t1.0095\t\t0.0229\n",
      "[0 0 0 1 0]\t1.0106\t\t0.0229\n",
      "[0 0 0 0 1]\t1.0108\t\t0.0228\n",
      "[1 1 1 0 0]\t1.0083\t\t0.0221\n",
      "[1 0 1 0 1]\t1.0090\t\t0.0221\n",
      "[1 0 1 1 0]\t1.0094\t\t0.0220\n",
      "[0 1 1 0 1]\t1.0101\t\t0.0220\n",
      "[0 1 1 1 0]\t1.0102\t\t0.0220\n",
      "[1 1 0 0 1]\t1.0113\t\t0.0219\n",
      "[0 0 1 1 1]\t1.0115\t\t0.0219\n",
      "[1 1 0 1 0]\t1.0117\t\t0.0219\n",
      "[1 0 0 1 1]\t1.0127\t\t0.0218\n",
      "[0 1 0 1 1]\t1.0139\t\t0.0217\n",
      "[1 1 1 1 1]\t9.0856\t\t0.0043\n",
      "[0 0 0 0 0]\t4.0363\t\t0.0031\n",
      "[1 1 0 1 1]\t4.0411\t\t0.0008\n",
      "[0 1 1 1 1]\t4.0400\t\t0.0008\n",
      "[1 0 1 1 1]\t4.0387\t\t0.0007\n",
      "[1 1 1 1 0]\t4.0379\t\t0.0007\n",
      "[1 1 1 0 1]\t4.0374\t\t0.0007\n",
      "CPU times: user 2min 38s, sys: 4.38 s, total: 2min 42s\n",
      "Wall time: 11min 57s\n"
     ]
    }
   ],
   "source": [
    "%%time\n",
    "import csv\n",
    "import time\n",
    "import pandas as pd\n",
    "from csv import writer\n",
    "i = 0\n",
    "with open('qaoa5_1lay.csv', 'w', newline='') as file:\n",
    "    writer = csv.writer(file)\n",
    "    field = ['number of asset',\"iteration\", \"time\"]\n",
    "    writer.writerow(field)\n",
    "    while i<1000:\n",
    "        i = i + 1\n",
    "        start = time.process_time()\n",
    "        result = qaoa.solve(qp)\n",
    "        end = time.process_time()\n",
    "        writer.writerow([5, i, end-start])\n",
    "data1 = pd.read_csv('qaoa5_1lay.csv')\n",
    "print(data1['time'].mean())\n",
    "print(data1['time'].std())\n",
    "print_result(result)"
   ]
  },
  {
   "cell_type": "markdown",
   "metadata": {},
   "source": [
    "As it also happends with classical ML and QML approaches, design is key for solving the problem with a high success rate for obtaining the best possible solution. Lets run our best solution up to now and see how the outcome would look like."
   ]
  },
  {
   "cell_type": "code",
   "execution_count": 30,
   "metadata": {},
   "outputs": [
    {
     "data": {
      "image/png": "[encoded data removed]",
      "text/plain": [
       "<Figure size 956.385x535.111 with 1 Axes>"
      ]
     },
     "execution_count": 30,
     "metadata": {},
     "output_type": "execute_result"
    }
   ],
   "source": [
    "from qiskit import QuantumCircuit\n",
    "ansatz = g2(5,1)\n",
    "qc = QuantumCircuit(num_assets,num_assets)\n",
    "\n",
    "# VQE Two Local ansatz\n",
    "qc.compose(ansatz, inplace=True)\n",
    "\n",
    "# Measures\n",
    "for i in range(0, num_assets):\n",
    "    qc.measure(i, i)\n",
    "\n",
    "qc.draw('mpl', fold=150)"
   ]
  },
  {
   "cell_type": "code",
   "execution_count": 32,
   "metadata": {},
   "outputs": [
    {
     "ename": "CircuitError",
     "evalue": "'Cannot bind parameters (theta[8], theta[9], theta[0], theta[1], theta[2], theta[3], theta[4], theta[5], theta[6], theta[7]) not present in the circuit.'",
     "output_type": "error",
     "traceback": [
      "\u001b[0;31m---------------------------------------------------------------------------\u001b[0m",
      "\u001b[0;31mCircuitError\u001b[0m                              Traceback (most recent call last)",
      "\u001b[1;32m/Users/vutuanhai237/Documents/GitHub/quantum_finance/tets g2/g2 Qiskit for finance.ipynb Cell 30\u001b[0m line \u001b[0;36m1\n\u001b[0;32m----> <a href='vscode-notebook-cell:/Users/vutuanhai237/Documents/GitHub/quantum_finance/tets%20g2/g2%20Qiskit%20for%20finance.ipynb#X51sZmlsZQ%3D%3D?line=0'>1</a>\u001b[0m pqc \u001b[39m=\u001b[39m qc\u001b[39m.\u001b[39;49mbind_parameters(best_parameters)\n\u001b[1;32m      <a href='vscode-notebook-cell:/Users/vutuanhai237/Documents/GitHub/quantum_finance/tets%20g2/g2%20Qiskit%20for%20finance.ipynb#X51sZmlsZQ%3D%3D?line=1'>2</a>\u001b[0m pqc\u001b[39m.\u001b[39mdraw(\u001b[39m'\u001b[39m\u001b[39mmpl\u001b[39m\u001b[39m'\u001b[39m, fold\u001b[39m=\u001b[39m\u001b[39m150\u001b[39m)\n",
      "File \u001b[0;32m/Library/Frameworks/Python.framework/Versions/3.10/lib/python3.10/site-packages/qiskit/circuit/quantumcircuit.py:2919\u001b[0m, in \u001b[0;36mQuantumCircuit.bind_parameters\u001b[0;34m(self, values)\u001b[0m\n\u001b[1;32m   2915\u001b[0m     \u001b[39mif\u001b[39;00m \u001b[39many\u001b[39m(\u001b[39misinstance\u001b[39m(value, ParameterExpression) \u001b[39mfor\u001b[39;00m value \u001b[39min\u001b[39;00m values\u001b[39m.\u001b[39mvalues()):\n\u001b[1;32m   2916\u001b[0m         \u001b[39mraise\u001b[39;00m \u001b[39mTypeError\u001b[39;00m(\n\u001b[1;32m   2917\u001b[0m             \u001b[39m\"\u001b[39m\u001b[39mFound ParameterExpression in values; use assign_parameters() instead.\u001b[39m\u001b[39m\"\u001b[39m\n\u001b[1;32m   2918\u001b[0m         )\n\u001b[0;32m-> 2919\u001b[0m     \u001b[39mreturn\u001b[39;00m \u001b[39mself\u001b[39;49m\u001b[39m.\u001b[39;49massign_parameters(values)\n\u001b[1;32m   2920\u001b[0m \u001b[39melse\u001b[39;00m:\n\u001b[1;32m   2921\u001b[0m     \u001b[39mif\u001b[39;00m \u001b[39many\u001b[39m(\u001b[39misinstance\u001b[39m(value, ParameterExpression) \u001b[39mfor\u001b[39;00m value \u001b[39min\u001b[39;00m values):\n",
      "File \u001b[0;32m/Library/Frameworks/Python.framework/Versions/3.10/lib/python3.10/site-packages/qiskit/circuit/quantumcircuit.py:2763\u001b[0m, in \u001b[0;36mQuantumCircuit.assign_parameters\u001b[0;34m(self, parameters, inplace, flat_input, strict)\u001b[0m\n\u001b[1;32m   2761\u001b[0m     our_parameters \u001b[39m=\u001b[39m \u001b[39mself\u001b[39m\u001b[39m.\u001b[39m_unsorted_parameters()\n\u001b[1;32m   2762\u001b[0m     \u001b[39mif\u001b[39;00m strict \u001b[39mand\u001b[39;00m (extras \u001b[39m:=\u001b[39m raw_mapping\u001b[39m.\u001b[39mkeys() \u001b[39m-\u001b[39m our_parameters):\n\u001b[0;32m-> 2763\u001b[0m         \u001b[39mraise\u001b[39;00m CircuitError(\n\u001b[1;32m   2764\u001b[0m             \u001b[39mf\u001b[39m\u001b[39m\"\u001b[39m\u001b[39mCannot bind parameters (\u001b[39m\u001b[39m{\u001b[39;00m\u001b[39m'\u001b[39m\u001b[39m, \u001b[39m\u001b[39m'\u001b[39m\u001b[39m.\u001b[39mjoin(\u001b[39mstr\u001b[39m(x)\u001b[39m \u001b[39m\u001b[39mfor\u001b[39;00m\u001b[39m \u001b[39mx\u001b[39m \u001b[39m\u001b[39min\u001b[39;00m\u001b[39m \u001b[39mextras)\u001b[39m}\u001b[39;00m\u001b[39m) not present in\u001b[39m\u001b[39m\"\u001b[39m\n\u001b[1;32m   2765\u001b[0m             \u001b[39m\"\u001b[39m\u001b[39m the circuit.\u001b[39m\u001b[39m\"\u001b[39m\n\u001b[1;32m   2766\u001b[0m         )\n\u001b[1;32m   2767\u001b[0m     parameter_binds \u001b[39m=\u001b[39m _ParameterBindsDict(raw_mapping, our_parameters)\n\u001b[1;32m   2768\u001b[0m \u001b[39melse\u001b[39;00m:\n",
      "\u001b[0;31mCircuitError\u001b[0m: 'Cannot bind parameters (theta[8], theta[9], theta[0], theta[1], theta[2], theta[3], theta[4], theta[5], theta[6], theta[7]) not present in the circuit.'"
     ]
    }
   ],
   "source": [
    "pqc = qc.bind_parameters(best_parameters)\n",
    "pqc.draw('mpl', fold=150)"
   ]
  },
  {
   "cell_type": "code",
   "execution_count": 33,
   "metadata": {},
   "outputs": [
    {
     "ename": "NameError",
     "evalue": "name 'pqc' is not defined",
     "output_type": "error",
     "traceback": [
      "\u001b[0;31m---------------------------------------------------------------------------\u001b[0m",
      "\u001b[0;31mNameError\u001b[0m                                 Traceback (most recent call last)",
      "\u001b[1;32m/Users/vutuanhai237/Documents/GitHub/quantum_finance/tets g2/g2 Qiskit for finance.ipynb Cell 31\u001b[0m line \u001b[0;36m9\n\u001b[1;32m      <a href='vscode-notebook-cell:/Users/vutuanhai237/Documents/GitHub/quantum_finance/tets%20g2/g2%20Qiskit%20for%20finance.ipynb#X52sZmlsZQ%3D%3D?line=6'>7</a>\u001b[0m \u001b[39m# execute the quantum circuit\u001b[39;00m\n\u001b[1;32m      <a href='vscode-notebook-cell:/Users/vutuanhai237/Documents/GitHub/quantum_finance/tets%20g2/g2%20Qiskit%20for%20finance.ipynb#X52sZmlsZQ%3D%3D?line=7'>8</a>\u001b[0m backend \u001b[39m=\u001b[39m Aer\u001b[39m.\u001b[39mget_backend(\u001b[39m'\u001b[39m\u001b[39mqasm_simulator\u001b[39m\u001b[39m'\u001b[39m) \u001b[39m# the device to run on\u001b[39;00m\n\u001b[0;32m----> <a href='vscode-notebook-cell:/Users/vutuanhai237/Documents/GitHub/quantum_finance/tets%20g2/g2%20Qiskit%20for%20finance.ipynb#X52sZmlsZQ%3D%3D?line=8'>9</a>\u001b[0m result \u001b[39m=\u001b[39m execute(pqc, backend, shots\u001b[39m=\u001b[39mnshots)\u001b[39m.\u001b[39mresult()\n\u001b[1;32m     <a href='vscode-notebook-cell:/Users/vutuanhai237/Documents/GitHub/quantum_finance/tets%20g2/g2%20Qiskit%20for%20finance.ipynb#X52sZmlsZQ%3D%3D?line=9'>10</a>\u001b[0m counts  \u001b[39m=\u001b[39m result\u001b[39m.\u001b[39mget_counts(pqc)\n\u001b[1;32m     <a href='vscode-notebook-cell:/Users/vutuanhai237/Documents/GitHub/quantum_finance/tets%20g2/g2%20Qiskit%20for%20finance.ipynb#X52sZmlsZQ%3D%3D?line=11'>12</a>\u001b[0m plot_histogram(counts)\n",
      "\u001b[0;31mNameError\u001b[0m: name 'pqc' is not defined"
     ]
    }
   ],
   "source": [
    "from qiskit import Aer, execute\n",
    "from qiskit.visualization import plot_histogram\n",
    "\n",
    "# Number of shots to the circuit\n",
    "nshots = 10\n",
    "\n",
    "# execute the quantum circuit\n",
    "backend = Aer.get_backend('qasm_simulator') # the device to run on\n",
    "result = execute(pqc, backend, shots=nshots).result()\n",
    "counts  = result.get_counts(pqc)\n",
    "\n",
    "plot_histogram(counts)"
   ]
  },
  {
   "cell_type": "code",
   "execution_count": null,
   "metadata": {},
   "outputs": [],
   "source": [
    "\n",
    "print(\"Solutions found:\")\n",
    "for cres in counts:\n",
    "    print(f\"Solution {cres[::-1]} with success probability {counts[cres]*100/nshots}%\")"
   ]
  },
  {
   "cell_type": "code",
   "execution_count": 39,
   "metadata": {},
   "outputs": [
    {
     "data": {
      "text/plain": [
       "10"
      ]
     },
     "execution_count": 39,
     "metadata": {},
     "output_type": "execute_result"
    }
   ],
   "source": [
    "len(g2(5,1).parameters)"
   ]
  },
  {
   "cell_type": "code",
   "execution_count": 40,
   "metadata": {},
   "outputs": [
    {
     "data": {
      "text/plain": [
       "{ParameterVectorElement(theta[0]): -3.1415215275636363,\n",
       " ParameterVectorElement(theta[1]): 2.0563398461898847,\n",
       " ParameterVectorElement(theta[2]): -3.014908539359386,\n",
       " ParameterVectorElement(theta[3]): -4.799710474304674,\n",
       " ParameterVectorElement(theta[4]): 5.085186546636373,\n",
       " ParameterVectorElement(theta[5]): -3.1415989091366194,\n",
       " ParameterVectorElement(theta[6]): 2.0563569430976507,\n",
       " ParameterVectorElement(theta[7]): 6.2719889605147765,\n",
       " ParameterVectorElement(theta[8]): 1.4828278508942077,\n",
       " ParameterVectorElement(theta[9]): -1.9435558028623277}"
      ]
     },
     "execution_count": 40,
     "metadata": {},
     "output_type": "execute_result"
    }
   ],
   "source": [
    "best_parameters"
   ]
  }
 ],
 "metadata": {
  "kernelspec": {
   "display_name": "Python 3.8.10 ('.venv': venv)",
   "language": "python",
   "name": "python3"
  },
  "language_info": {
   "codemirror_mode": {
    "name": "ipython",
    "version": 3
   },
   "file_extension": ".py",
   "mimetype": "text/x-python",
   "name": "python",
   "nbconvert_exporter": "python",
   "pygments_lexer": "ipython3",
   "version": "3.10.0"
  },
  "orig_nbformat": 4,
  "vscode": {
   "interpreter": {
    "hash": "103bead1b3505221cf3c93684cd5f873d89729dddf7b8625d3d8bb582bc8ea06"
   }
  }
 },
 "nbformat": 4,
 "nbformat_minor": 2
}
