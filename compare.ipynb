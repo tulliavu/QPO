{
 "cells": [
  {
   "cell_type": "code",
   "execution_count": 2,
   "metadata": {},
   "outputs": [],
   "source": [
    "import numpy as np\n",
    "import matplotlib.pyplot as plt, csv\n",
    "import datetime\n",
    "import data, po, model\n",
    "import ast, pandas as pd\n",
    "from qsee.core.ansatz import Wchain_zxz\n",
    "%load_ext autoreload\n",
    "%autoreload 2"
   ]
  },
  {
   "cell_type": "code",
   "execution_count": 4,
   "metadata": {},
   "outputs": [],
   "source": [
    "num_assets = 3\n",
    "for i in range(100):    \n",
    "\n",
    "    mu, sigma, asset_list = data.get_mu_sigma('asset.csv', num_assets)\n",
    "    qp = po.to_po(mu, sigma, num_assets = num_assets, q = 0.5)\n",
    "    resultNumpy = model.numpy(qp)\n",
    "    resultQOAO = model.qoao(qp)\n",
    "    resultVQE = model.vqe(qp, Wchain_zxz(num_assets, int(np.ceil(num_assets/2))))\n",
    "\n",
    "    fields = ['assets', 'list selection numpy', 'list selection qoao', 'list selection vqe', 'numpy value', 'qoao value', 'vqe value']\n",
    "    row = [[str(asset_list), str(resultNumpy.x.astype(int).tolist()), str(list(resultQOAO.x.astype(int).tolist())), str(list(resultVQE.x.astype(int).tolist())), resultNumpy.fval, resultQOAO.fval, resultVQE.fval]]\n",
    "    filename = f\"result_{num_assets}.csv\"\n",
    "    df = pd.read_csv(filename)\n",
    "    asset = df.assets.unique()\n",
    "    if row[0][0] not in asset:\n",
    "        with open(filename, 'a') as csvfile:\n",
    "            # Create a csv writer object\n",
    "            # Check the value of first cell in row, if it is existing, then skip writing it\n",
    "            \n",
    "            csvwriter = csv.writer(csvfile)\n",
    "            csvwriter.writerows(row)"
   ]
  }
 ],
 "metadata": {
  "kernelspec": {
   "display_name": "Python 3",
   "language": "python",
   "name": "python3"
  },
  "language_info": {
   "codemirror_mode": {
    "name": "ipython",
    "version": 3
   },
   "file_extension": ".py",
   "mimetype": "text/x-python",
   "name": "python",
   "nbconvert_exporter": "python",
   "pygments_lexer": "ipython3",
   "version": "3.10.9"
  }
 },
 "nbformat": 4,
 "nbformat_minor": 2
}
