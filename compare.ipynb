{
 "cells": [
  {
   "cell_type": "code",
   "execution_count": 2,
   "metadata": {},
   "outputs": [],
   "source": [
    "import numpy as np\n",
    "import matplotlib.pyplot as plt, csv\n",
    "import datetime\n",
    "import data, po, model\n",
    "import ast, pandas as pd\n",
    "from qsee.core.ansatz import Wchain_zxz\n",
    "%load_ext autoreload\n",
    "%autoreload 2"
   ]
  },
  {
   "cell_type": "code",
   "execution_count": 4,
   "metadata": {},
   "outputs": [],
   "source": [
    "num_assets = 3\n",
    "for i in range(100):    \n",
    "\n",
    "    mu, sigma, asset_list = data.get_mu_sigma('asset.csv', num_assets)\n",
    "    qp = po.to_po(mu, sigma, num_assets = num_assets, q = 0.5)\n",
    "    resultNumpy = model.numpy(qp)\n",
    "    resultQOAO = model.qoao(qp)\n",
    "    resultVQE = model.vqe(qp, Wchain_zxz(num_assets, int(np.ceil(num_assets/2))))\n",
    "\n",
    "    fields = ['assets', 'list selection numpy', 'list selection qoao', 'list selection vqe', 'numpy value', 'qoao value', 'vqe value']\n",
    "    row = [[str(asset_list), str(resultNumpy.x.astype(int).tolist()), str(list(resultQOAO.x.astype(int).tolist())), str(list(resultVQE.x.astype(int).tolist())), resultNumpy.fval, resultQOAO.fval, resultVQE.fval]]\n",
    "    filename = f\"result_{num_assets}.csv\"\n",
    "    df = pd.read_csv(filename)\n",
    "    asset = df.assets.unique()\n",
    "    if row[0][0] not in asset:\n",
    "        with open(filename, 'a') as csvfile:\n",
    "            # Create a csv writer object\n",
    "            # Check the value of first cell in row, if it is existing, then skip writing it\n",
    "            \n",
    "            csvwriter = csv.writer(csvfile)\n",
    "            csvwriter.writerows(row)"
   ]
  },
  {
   "cell_type": "code",
   "execution_count": 30,
   "metadata": {},
   "outputs": [
    {
     "data": {
      "text/plain": [
       "[0, 0, 1, 0, 1]"
      ]
     },
     "execution_count": 30,
     "metadata": {},
     "output_type": "execute_result"
    }
   ],
   "source": [
    "\n",
    "from io import StringIO\n",
    "filename = \"result.csv\"\n",
    "df = pd.read_csv(filename)\n",
    "\n",
    "# Print the value at column 'list selection qoao' and row 1\n",
    "list_selection_qoao_value = df.loc[0, 'list selection qoao']\n",
    "ast.literal_eval(list_selection_qoao_value)"
   ]
  },
  {
   "cell_type": "code",
   "execution_count": 9,
   "metadata": {},
   "outputs": [
    {
     "name": "stdout",
     "output_type": "stream",
     "text": [
      "[[-0.70710678  0.          0.40824829 -0.28867513 -0.5       ]\n",
      " [-0.70710678  0.         -0.40824829  0.28867513  0.5       ]\n",
      " [-0.          1.          0.          0.          0.        ]\n",
      " [-0.          0.         -0.81649658 -0.28867513 -0.5       ]\n",
      " [-0.          0.         -0.         -0.8660254   0.5       ]]\n",
      "[[ 1.00000000e+00 -3.05311332e-16  0.00000000e+00  5.55111512e-17\n",
      "   8.32667268e-17]\n",
      " [-3.05311332e-16  1.00000000e+00  0.00000000e+00 -5.55111512e-17\n",
      "  -8.32667268e-17]\n",
      " [ 0.00000000e+00  0.00000000e+00  1.00000000e+00  0.00000000e+00\n",
      "   0.00000000e+00]\n",
      " [ 5.55111512e-17 -5.55111512e-17  0.00000000e+00  1.00000000e+00\n",
      "   8.32667268e-17]\n",
      " [ 8.32667268e-17 -8.32667268e-17  0.00000000e+00  8.32667268e-17\n",
      "   1.00000000e+00]]\n"
     ]
    }
   ],
   "source": [
    "import numpy as np\n",
    "from scipy.linalg import qr\n",
    "\n",
    "# Defining the given matrix correctly this time\n",
    "matrix = np.array([\n",
    "    [2, 2, 0, 0, 0],\n",
    "    [2, 2, 2, 0, 0],\n",
    "    [0, 2, 2, 2, 0],\n",
    "    [0, 0, 2, 2, 2],\n",
    "    [0, 0, 0, 2, 2]])\n",
    "\n",
    "q, r = qr(matrix)\n",
    "print(q)\n",
    "print(q @ (np.conjugate(q).T))"
   ]
  }
 ],
 "metadata": {
  "kernelspec": {
   "display_name": "Python 3",
   "language": "python",
   "name": "python3"
  },
  "language_info": {
   "codemirror_mode": {
    "name": "ipython",
    "version": 3
   },
   "file_extension": ".py",
   "mimetype": "text/x-python",
   "name": "python",
   "nbconvert_exporter": "python",
   "pygments_lexer": "ipython3",
   "version": "3.10.9"
  }
 },
 "nbformat": 4,
 "nbformat_minor": 2
}
