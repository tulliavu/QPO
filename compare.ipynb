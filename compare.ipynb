{
 "cells": [
  {
   "cell_type": "code",
   "execution_count": 1,
   "metadata": {},
   "outputs": [],
   "source": [
    "import numpy as np\n",
    "import matplotlib.pyplot as plt, csv\n",
    "import datetime\n",
    "import data, po, model\n",
    "import ast, pandas as pd\n",
    "from qsee.core.ansatz import Wchain_zxz\n",
    "%load_ext autoreload\n",
    "%autoreload 2"
   ]
  },
  {
   "cell_type": "code",
   "execution_count": 5,
   "metadata": {},
   "outputs": [],
   "source": [
    "num_assets = 5\n",
    "for i in range(100):    \n",
    "\n",
    "    mu, sigma, asset_list = data.get_mu_sigma('asset.csv', num_assets)\n",
    "    qp = po.to_po(mu, sigma, num_assets = num_assets, q = 0.5)\n",
    "    resultNumpy = model.numpy(qp)\n",
    "    resultQOAO = model.qoao(qp)\n",
    "    resultVQE = model.vqe(qp, Wchain_zxz(num_assets, int(num_assets/2)))\n",
    "\n",
    "    fields = ['assets', 'list selection numpy', 'list selection qoao', 'list selection vqe', 'numpy value', 'qoao value', 'vqe value']\n",
    "    row = [[str(asset_list), str(resultNumpy.x.astype(int).tolist()), str(list(resultQOAO.x.astype(int).tolist())), str(list(resultVQE.x.astype(int).tolist())), resultNumpy.fval, resultQOAO.fval, resultVQE.fval]]\n",
    "    filename = f\"result_{num_assets}.csv\"\n",
    "    df = pd.read_csv(filename)\n",
    "    asset = df.assets.unique()\n",
    "    if row[0][0] not in asset:\n",
    "        with open(filename, 'a') as csvfile:\n",
    "            # Create a csv writer object\n",
    "            # Check the value of first cell in row, if it is existing, then skip writing it\n",
    "            \n",
    "            csvwriter = csv.writer(csvfile)\n",
    "            csvwriter.writerows(row)"
   ]
  },
  {
   "cell_type": "code",
   "execution_count": 39,
   "metadata": {},
   "outputs": [
    {
     "ename": "ValueError",
     "evalue": "I/O operation on closed file.",
     "output_type": "error",
     "traceback": [
      "\u001b[0;31m---------------------------------------------------------------------------\u001b[0m",
      "\u001b[0;31mValueError\u001b[0m                                Traceback (most recent call last)",
      "Cell \u001b[0;32mIn[39], line 2\u001b[0m\n\u001b[1;32m      1\u001b[0m \u001b[38;5;28;01mwith\u001b[39;00m \u001b[38;5;28mopen\u001b[39m(filename, \u001b[38;5;124m'\u001b[39m\u001b[38;5;124ma\u001b[39m\u001b[38;5;124m'\u001b[39m) \u001b[38;5;28;01mas\u001b[39;00m csvfile:\n\u001b[0;32m----> 2\u001b[0m     \u001b[43mcsvwriter\u001b[49m\u001b[38;5;241;43m.\u001b[39;49m\u001b[43mwriterows\u001b[49m\u001b[43m(\u001b[49m\u001b[43mrows\u001b[49m\u001b[43m)\u001b[49m\n",
      "\u001b[0;31mValueError\u001b[0m: I/O operation on closed file."
     ]
    }
   ],
   "source": [
    "with open(filename, 'a') as csvfile:\n",
    "    csvwriter.writerows(rows)"
   ]
  },
  {
   "cell_type": "code",
   "execution_count": 30,
   "metadata": {},
   "outputs": [
    {
     "data": {
      "text/plain": [
       "[0, 0, 1, 0, 1]"
      ]
     },
     "execution_count": 30,
     "metadata": {},
     "output_type": "execute_result"
    }
   ],
   "source": [
    "\n",
    "from io import StringIO\n",
    "filename = \"result.csv\"\n",
    "df = pd.read_csv(filename)\n",
    "\n",
    "# Print the value at column 'list selection qoao' and row 1\n",
    "list_selection_qoao_value = df.loc[0, 'list selection qoao']\n",
    "ast.literal_eval(list_selection_qoao_value)"
   ]
  }
 ],
 "metadata": {
  "kernelspec": {
   "display_name": "Python 3",
   "language": "python",
   "name": "python3"
  },
  "language_info": {
   "codemirror_mode": {
    "name": "ipython",
    "version": 3
   },
   "file_extension": ".py",
   "mimetype": "text/x-python",
   "name": "python",
   "nbconvert_exporter": "python",
   "pygments_lexer": "ipython3",
   "version": "3.10.9"
  }
 },
 "nbformat": 4,
 "nbformat_minor": 2
}
