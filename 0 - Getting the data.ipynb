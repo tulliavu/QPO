{
 "cells": [
  {
   "cell_type": "markdown",
   "metadata": {},
   "source": [
    "# Get the data\n",
    "\n",
    "Depending on each case your data may look a little bit different but we should start our portfolio optimization by acquiring information on a set of STOCK to better understand their behaviour trough, in this case, one year of activity in the market."
   ]
  },
  {
   "cell_type": "code",
   "execution_count": 44,
   "metadata": {},
   "outputs": [
    {
     "data": {
      "text/html": [
       "<div>\n",
       "<style scoped>\n",
       "    .dataframe tbody tr th:only-of-type {\n",
       "        vertical-align: middle;\n",
       "    }\n",
       "\n",
       "    .dataframe tbody tr th {\n",
       "        vertical-align: top;\n",
       "    }\n",
       "\n",
       "    .dataframe thead th {\n",
       "        text-align: right;\n",
       "    }\n",
       "</style>\n",
       "<table border=\"1\" class=\"dataframe\">\n",
       "  <thead>\n",
       "    <tr style=\"text-align: right;\">\n",
       "      <th></th>\n",
       "      <th>Asset</th>\n",
       "      <th>Open time</th>\n",
       "      <th>Open</th>\n",
       "      <th>High</th>\n",
       "      <th>Low</th>\n",
       "      <th>Close</th>\n",
       "      <th>Volume</th>\n",
       "      <th>Close time</th>\n",
       "      <th>quote_asset_volume</th>\n",
       "      <th>number_of_trades</th>\n",
       "      <th>taker_buy_base_asset_volume</th>\n",
       "      <th>taker_buy_quote_asset_volume</th>\n",
       "      <th>ignore</th>\n",
       "    </tr>\n",
       "  </thead>\n",
       "  <tbody>\n",
       "    <tr>\n",
       "      <th>0</th>\n",
       "      <td>BTCUSDT</td>\n",
       "      <td>1682812800000</td>\n",
       "      <td>29230.4500</td>\n",
       "      <td>29969.3900</td>\n",
       "      <td>29079.5900</td>\n",
       "      <td>29233.2100</td>\n",
       "      <td>3.975254e+04</td>\n",
       "      <td>1682899199999</td>\n",
       "      <td>1.172155e+09</td>\n",
       "      <td>949458</td>\n",
       "      <td>1.989427e+04</td>\n",
       "      <td>5.867117e+08</td>\n",
       "      <td>0</td>\n",
       "    </tr>\n",
       "    <tr>\n",
       "      <th>1</th>\n",
       "      <td>BTCUSDT</td>\n",
       "      <td>1682899200000</td>\n",
       "      <td>29233.2000</td>\n",
       "      <td>29337.3400</td>\n",
       "      <td>27666.9500</td>\n",
       "      <td>28068.2600</td>\n",
       "      <td>6.443366e+04</td>\n",
       "      <td>1682985599999</td>\n",
       "      <td>1.828221e+09</td>\n",
       "      <td>1362793</td>\n",
       "      <td>3.076193e+04</td>\n",
       "      <td>8.727120e+08</td>\n",
       "      <td>0</td>\n",
       "    </tr>\n",
       "    <tr>\n",
       "      <th>2</th>\n",
       "      <td>BTCUSDT</td>\n",
       "      <td>1682985600000</td>\n",
       "      <td>28068.2600</td>\n",
       "      <td>28879.8800</td>\n",
       "      <td>27872.0000</td>\n",
       "      <td>28669.8600</td>\n",
       "      <td>5.082452e+04</td>\n",
       "      <td>1683071999999</td>\n",
       "      <td>1.441734e+09</td>\n",
       "      <td>1174697</td>\n",
       "      <td>2.478937e+04</td>\n",
       "      <td>7.032068e+08</td>\n",
       "      <td>0</td>\n",
       "    </tr>\n",
       "    <tr>\n",
       "      <th>3</th>\n",
       "      <td>BTCUSDT</td>\n",
       "      <td>1683072000000</td>\n",
       "      <td>28669.8500</td>\n",
       "      <td>29266.6600</td>\n",
       "      <td>28113.6900</td>\n",
       "      <td>29026.1600</td>\n",
       "      <td>6.461579e+04</td>\n",
       "      <td>1683158399999</td>\n",
       "      <td>1.845961e+09</td>\n",
       "      <td>1502909</td>\n",
       "      <td>3.229121e+04</td>\n",
       "      <td>9.225500e+08</td>\n",
       "      <td>0</td>\n",
       "    </tr>\n",
       "    <tr>\n",
       "      <th>4</th>\n",
       "      <td>BTCUSDT</td>\n",
       "      <td>1683158400000</td>\n",
       "      <td>29026.1600</td>\n",
       "      <td>29379.8300</td>\n",
       "      <td>28663.6400</td>\n",
       "      <td>28838.1600</td>\n",
       "      <td>4.257548e+04</td>\n",
       "      <td>1683244799999</td>\n",
       "      <td>1.233816e+09</td>\n",
       "      <td>961542</td>\n",
       "      <td>2.047021e+04</td>\n",
       "      <td>5.932814e+08</td>\n",
       "      <td>0</td>\n",
       "    </tr>\n",
       "    <tr>\n",
       "      <th>...</th>\n",
       "      <td>...</td>\n",
       "      <td>...</td>\n",
       "      <td>...</td>\n",
       "      <td>...</td>\n",
       "      <td>...</td>\n",
       "      <td>...</td>\n",
       "      <td>...</td>\n",
       "      <td>...</td>\n",
       "      <td>...</td>\n",
       "      <td>...</td>\n",
       "      <td>...</td>\n",
       "      <td>...</td>\n",
       "      <td>...</td>\n",
       "    </tr>\n",
       "    <tr>\n",
       "      <th>243</th>\n",
       "      <td>XRPUSDT</td>\n",
       "      <td>1687737600000</td>\n",
       "      <td>0.4903</td>\n",
       "      <td>0.4919</td>\n",
       "      <td>0.4701</td>\n",
       "      <td>0.4790</td>\n",
       "      <td>3.053380e+08</td>\n",
       "      <td>1687823999999</td>\n",
       "      <td>1.470005e+08</td>\n",
       "      <td>163717</td>\n",
       "      <td>1.643139e+08</td>\n",
       "      <td>7.912598e+07</td>\n",
       "      <td>0</td>\n",
       "    </tr>\n",
       "    <tr>\n",
       "      <th>244</th>\n",
       "      <td>XRPUSDT</td>\n",
       "      <td>1687824000000</td>\n",
       "      <td>0.4790</td>\n",
       "      <td>0.4851</td>\n",
       "      <td>0.4759</td>\n",
       "      <td>0.4838</td>\n",
       "      <td>2.915839e+08</td>\n",
       "      <td>1687910399999</td>\n",
       "      <td>1.401223e+08</td>\n",
       "      <td>132593</td>\n",
       "      <td>1.704094e+08</td>\n",
       "      <td>8.189001e+07</td>\n",
       "      <td>0</td>\n",
       "    </tr>\n",
       "    <tr>\n",
       "      <th>245</th>\n",
       "      <td>XRPUSDT</td>\n",
       "      <td>1687910400000</td>\n",
       "      <td>0.4839</td>\n",
       "      <td>0.4844</td>\n",
       "      <td>0.4493</td>\n",
       "      <td>0.4647</td>\n",
       "      <td>3.258378e+08</td>\n",
       "      <td>1687996799999</td>\n",
       "      <td>1.533296e+08</td>\n",
       "      <td>164563</td>\n",
       "      <td>1.600544e+08</td>\n",
       "      <td>7.536062e+07</td>\n",
       "      <td>0</td>\n",
       "    </tr>\n",
       "    <tr>\n",
       "      <th>246</th>\n",
       "      <td>XRPUSDT</td>\n",
       "      <td>1687996800000</td>\n",
       "      <td>0.4648</td>\n",
       "      <td>0.4773</td>\n",
       "      <td>0.4612</td>\n",
       "      <td>0.4747</td>\n",
       "      <td>2.112146e+08</td>\n",
       "      <td>1688083199999</td>\n",
       "      <td>9.914728e+07</td>\n",
       "      <td>102466</td>\n",
       "      <td>9.942828e+07</td>\n",
       "      <td>4.665360e+07</td>\n",
       "      <td>0</td>\n",
       "    </tr>\n",
       "    <tr>\n",
       "      <th>247</th>\n",
       "      <td>XRPUSDT</td>\n",
       "      <td>1688083200000</td>\n",
       "      <td>0.4747</td>\n",
       "      <td>0.4827</td>\n",
       "      <td>0.4498</td>\n",
       "      <td>0.4729</td>\n",
       "      <td>3.936122e+08</td>\n",
       "      <td>1688169599999</td>\n",
       "      <td>1.857785e+08</td>\n",
       "      <td>219961</td>\n",
       "      <td>2.068042e+08</td>\n",
       "      <td>9.763701e+07</td>\n",
       "      <td>0</td>\n",
       "    </tr>\n",
       "  </tbody>\n",
       "</table>\n",
       "<p>248 rows × 13 columns</p>\n",
       "</div>"
      ],
      "text/plain": [
       "       Asset      Open time        Open        High         Low       Close  \\\n",
       "0    BTCUSDT  1682812800000  29230.4500  29969.3900  29079.5900  29233.2100   \n",
       "1    BTCUSDT  1682899200000  29233.2000  29337.3400  27666.9500  28068.2600   \n",
       "2    BTCUSDT  1682985600000  28068.2600  28879.8800  27872.0000  28669.8600   \n",
       "3    BTCUSDT  1683072000000  28669.8500  29266.6600  28113.6900  29026.1600   \n",
       "4    BTCUSDT  1683158400000  29026.1600  29379.8300  28663.6400  28838.1600   \n",
       "..       ...            ...         ...         ...         ...         ...   \n",
       "243  XRPUSDT  1687737600000      0.4903      0.4919      0.4701      0.4790   \n",
       "244  XRPUSDT  1687824000000      0.4790      0.4851      0.4759      0.4838   \n",
       "245  XRPUSDT  1687910400000      0.4839      0.4844      0.4493      0.4647   \n",
       "246  XRPUSDT  1687996800000      0.4648      0.4773      0.4612      0.4747   \n",
       "247  XRPUSDT  1688083200000      0.4747      0.4827      0.4498      0.4729   \n",
       "\n",
       "           Volume     Close time  quote_asset_volume  number_of_trades  \\\n",
       "0    3.975254e+04  1682899199999        1.172155e+09            949458   \n",
       "1    6.443366e+04  1682985599999        1.828221e+09           1362793   \n",
       "2    5.082452e+04  1683071999999        1.441734e+09           1174697   \n",
       "3    6.461579e+04  1683158399999        1.845961e+09           1502909   \n",
       "4    4.257548e+04  1683244799999        1.233816e+09            961542   \n",
       "..            ...            ...                 ...               ...   \n",
       "243  3.053380e+08  1687823999999        1.470005e+08            163717   \n",
       "244  2.915839e+08  1687910399999        1.401223e+08            132593   \n",
       "245  3.258378e+08  1687996799999        1.533296e+08            164563   \n",
       "246  2.112146e+08  1688083199999        9.914728e+07            102466   \n",
       "247  3.936122e+08  1688169599999        1.857785e+08            219961   \n",
       "\n",
       "     taker_buy_base_asset_volume  taker_buy_quote_asset_volume  ignore  \n",
       "0                   1.989427e+04                  5.867117e+08       0  \n",
       "1                   3.076193e+04                  8.727120e+08       0  \n",
       "2                   2.478937e+04                  7.032068e+08       0  \n",
       "3                   3.229121e+04                  9.225500e+08       0  \n",
       "4                   2.047021e+04                  5.932814e+08       0  \n",
       "..                           ...                           ...     ...  \n",
       "243                 1.643139e+08                  7.912598e+07       0  \n",
       "244                 1.704094e+08                  8.189001e+07       0  \n",
       "245                 1.600544e+08                  7.536062e+07       0  \n",
       "246                 9.942828e+07                  4.665360e+07       0  \n",
       "247                 2.068042e+08                  9.763701e+07       0  \n",
       "\n",
       "[248 rows x 13 columns]"
      ]
     },
     "execution_count": 44,
     "metadata": {},
     "output_type": "execute_result"
    }
   ],
   "source": [
    "import pandas as pd\n",
    "\n",
    "data = pd.read_csv(\"tonghop2thang4.csv\")\n",
    "data"
   ]
  },
  {
   "cell_type": "markdown",
   "metadata": {},
   "source": [
    "Following this we will calculate the average expected revenue for each asset. This is done by getting the difference between *opening* and *closing* time scaled to the opening price. This way we make sure each asset is independently evaluated.\n",
    "\n",
    "We will also compute the covariance between each asset so that we can consider this values as part of our portfolio diversification constraint."
   ]
  },
  {
   "cell_type": "code",
   "execution_count": 45,
   "metadata": {},
   "outputs": [],
   "source": [
    "from cmath import exp\n",
    "import numpy as np\n",
    "\n",
    "# Unique asset list\n",
    "asset_list = data[\"Asset\"].unique()\n",
    "#expected return\n",
    "exp_ret = {}\n",
    "return_list = []\n",
    "for asset in asset_list:\n",
    "    open_price = np.array(data[data[\"Asset\"] == asset][\"Open\"].astype(\"float\"))\n",
    "    close_price = np.array(data[data[\"Asset\"] == asset][\"Close\"].astype(\"float\"))\n",
    "        \n",
    "    # Sign will be used to indicate the value gradient direction\n",
    "    returns = ((close_price - open_price)/open_price)\n",
    "    exp_ret[asset] = returns.mean()\n",
    "    return_list.append(returns)\n",
    "\n",
    "# Expected return on each asset\n",
    "return_list = np.array(return_list)\n",
    "mu = [i for i in exp_ret.values()]   \n",
    "    \n",
    "# Compute covariance between returns\n",
    "sigma = np.cov((return_list))"
   ]
  },
  {
   "cell_type": "markdown",
   "metadata": {},
   "source": [
    "Here $\\mu$ is the value associated with the expected average return for each asset."
   ]
  },
  {
   "cell_type": "code",
   "execution_count": 46,
   "metadata": {},
   "outputs": [
    {
     "name": "stdout",
     "output_type": "stream",
     "text": [
      "Expected average return for asset BTCUSDT is 0.0008997860530971459\n",
      "Expected average return for asset ETHUSDT is 0.00048031255222815144\n",
      "Expected average return for asset SOLUSDT is -0.0026702570589396614\n",
      "Expected average return for asset XRPUSDT is 0.00011490019883617948\n"
     ]
    }
   ],
   "source": [
    "for i,v in zip(asset_list, mu):\n",
    "    print(f\"Expected average return for asset {i} is {v}\")"
   ]
  },
  {
   "cell_type": "markdown",
   "metadata": {},
   "source": [
    "And $\\sigma$ is the covariance between those very same assets."
   ]
  },
  {
   "cell_type": "code",
   "execution_count": 47,
   "metadata": {},
   "outputs": [
    {
     "data": {
      "text/plain": [
       "array([[0.00046808, 0.00042506, 0.00055679, 0.00029436],\n",
       "       [0.00042506, 0.00053332, 0.00065014, 0.00035847],\n",
       "       [0.00055679, 0.00065014, 0.00145862, 0.00054303],\n",
       "       [0.00029436, 0.00035847, 0.00054303, 0.00059225]])"
      ]
     },
     "execution_count": 47,
     "metadata": {},
     "output_type": "execute_result"
    }
   ],
   "source": [
    "sigma"
   ]
  },
  {
   "cell_type": "markdown",
   "metadata": {},
   "source": [
    "It is important to know what the cost is of each asset so that we can also limit the budget we would like to spend in our investment."
   ]
  },
  {
   "cell_type": "code",
   "execution_count": 48,
   "metadata": {},
   "outputs": [
    {
     "name": "stdout",
     "output_type": "stream",
     "text": [
      "[{'Asset': 'BTCUSDT', 'Open': 30447.31}, {'Asset': 'ETHUSDT', 'Open': 1851.99}, {'Asset': 'SOLUSDT', 'Open': 18.0}, {'Asset': 'XRPUSDT', 'Open': 0.4747}]\n"
     ]
    },
    {
     "name": "stderr",
     "output_type": "stream",
     "text": [
      "/var/folders/9k/xq3jd5c90w93s6tc_cws222r0000gn/T/ipykernel_89599/1294053305.py:1: FutureWarning: The provided callable <built-in function max> is currently using SeriesGroupBy.max. In a future version of pandas, the provided callable will be used directly. To keep current behavior pass the string \"max\" instead.\n",
      "  filter = data.groupby(\"Asset\").agg({\"Open time\":max}).reset_index()\n"
     ]
    }
   ],
   "source": [
    "filter = data.groupby(\"Asset\").agg({\"Open time\":max}).reset_index()\n",
    "costs = data.merge(filter, how='inner').drop_duplicates()\n",
    "#print(costs)\n",
    "cost_list = costs[[\"Asset\",\"Open\"]].to_dict('records')\n",
    "print(cost_list)"
   ]
  },
  {
   "cell_type": "markdown",
   "metadata": {},
   "source": [
    "We will store this information so that it can be used later."
   ]
  },
  {
   "cell_type": "code",
   "execution_count": 43,
   "metadata": {},
   "outputs": [],
   "source": [
    "import json\n",
    "\n",
    "# Serializing json  \n",
    "data = {\"mu\" : mu, \"sigma\": sigma.tolist(), \"assets\": cost_list} \n",
    "json_object = json.dumps(data, indent = 4)\n",
    "\n",
    "with open(\"binance-data.json\", \"w\") as file:\n",
    "    file.write(json_object)"
   ]
  }
 ],
 "metadata": {
  "kernelspec": {
   "display_name": "Python 3.8.10 ('.venv': venv)",
   "language": "python",
   "name": "python3"
  },
  "language_info": {
   "codemirror_mode": {
    "name": "ipython",
    "version": 3
   },
   "file_extension": ".py",
   "mimetype": "text/x-python",
   "name": "python",
   "nbconvert_exporter": "python",
   "pygments_lexer": "ipython3",
   "version": "3.10.0"
  },
  "orig_nbformat": 4,
  "vscode": {
   "interpreter": {
    "hash": "103bead1b3505221cf3c93684cd5f873d89729dddf7b8625d3d8bb582bc8ea06"
   }
  }
 },
 "nbformat": 4,
 "nbformat_minor": 2
}
