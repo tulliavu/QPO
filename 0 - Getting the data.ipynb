{
 "cells": [
  {
   "cell_type": "markdown",
   "metadata": {},
   "source": [
    "# Get the data\n",
    "\n",
    "Depending on each case your data may look a little bit different but we should start our portfolio optimization by acquiring information on a set of STOCK to better understand their behaviour trough, in this case, one year of activity in the market."
   ]
  },
  {
   "cell_type": "code",
   "execution_count": 14,
   "metadata": {},
   "outputs": [
    {
     "name": "stderr",
     "output_type": "stream",
     "text": [
      "/var/folders/9k/xq3jd5c90w93s6tc_cws222r0000gn/T/ipykernel_43600/862503252.py:33: FutureWarning: The provided callable <built-in function max> is currently using SeriesGroupBy.max. In a future version of pandas, the provided callable will be used directly. To keep current behavior pass the string \"max\" instead.\n",
      "  filter = data.groupby(\"Asset\").agg({\"Open time\":max}).reset_index()\n"
     ]
    }
   ],
   "source": [
    "import pandas as pd\n",
    "from cmath import exp\n",
    "import numpy as np\n",
    "import json\n",
    "# Get the variable part of the filename from the terminal\n",
    "n = input(\"Enter the number of symbols to crawl: \")\n",
    "\n",
    "# Construct the filename\n",
    "filename = f\"{n}assetraw.csv\"\n",
    "data = pd.read_csv(filename)\n",
    "data\n",
    "\n",
    "# Unique asset list\n",
    "asset_list = data[\"Asset\"].unique()\n",
    "#expected return\n",
    "exp_ret = {}\n",
    "return_list = []\n",
    "for asset in asset_list:\n",
    "    open_price = np.array(data[data[\"Asset\"] == asset][\"Open\"].astype(\"float\"))\n",
    "    close_price = np.array(data[data[\"Asset\"] == asset][\"Close\"].astype(\"float\"))\n",
    "        \n",
    "    # Sign will be used to indicate the value gradient direction\n",
    "    returns = ((close_price - open_price)/open_price)\n",
    "    exp_ret[asset] = returns.mean()\n",
    "    return_list.append(returns)\n",
    "\n",
    "# Expected return on each asset\n",
    "return_list = np.array(return_list)\n",
    "mu = [i for i in exp_ret.values()]   \n",
    "    \n",
    "# Compute covariance between returns\n",
    "sigma = np.cov((return_list))\n",
    "filter = data.groupby(\"Asset\").agg({\"Open time\":max}).reset_index()\n",
    "costs = data.merge(filter, how='inner').drop_duplicates()\n",
    "#print(costs)\n",
    "cost_list = costs[[\"Asset\",\"Open\"]].to_dict('records')\n",
    "# Serializing json  \n",
    "data = {\"mu\" : mu, \"sigma\": sigma.tolist(), \"assets\": cost_list} \n",
    "json_object = json.dumps(data, indent = 4)\n",
    "jsonfilename = f\"{n}asset.json\"\n",
    "with open(jsonfilename , \"w\") as file:\n",
    "    file.write(json_object)"
   ]
  },
  {
   "cell_type": "markdown",
   "metadata": {},
   "source": [
    "Following this we will calculate the average expected revenue for each asset. This is done by getting the difference between *opening* and *closing* time scaled to the opening price. This way we make sure each asset is independently evaluated.\n",
    "\n",
    "We will also compute the covariance between each asset so that we can consider this values as part of our portfolio diversification constraint."
   ]
  },
  {
   "cell_type": "markdown",
   "metadata": {},
   "source": [
    "Here $\\mu$ is the value associated with the expected average return for each asset."
   ]
  },
  {
   "cell_type": "markdown",
   "metadata": {},
   "source": [
    "And $\\sigma$ is the covariance between those very same assets."
   ]
  },
  {
   "cell_type": "markdown",
   "metadata": {},
   "source": [
    "It is important to know what the cost is of each asset so that we can also limit the budget we would like to spend in our investment."
   ]
  },
  {
   "cell_type": "markdown",
   "metadata": {},
   "source": [
    "We will store this information so that it can be used later."
   ]
  }
 ],
 "metadata": {
  "kernelspec": {
   "display_name": "Python 3.8.10 ('.venv': venv)",
   "language": "python",
   "name": "python3"
  },
  "language_info": {
   "codemirror_mode": {
    "name": "ipython",
    "version": 3
   },
   "file_extension": ".py",
   "mimetype": "text/x-python",
   "name": "python",
   "nbconvert_exporter": "python",
   "pygments_lexer": "ipython3",
   "version": "3.10.0"
  },
  "orig_nbformat": 4,
  "vscode": {
   "interpreter": {
    "hash": "103bead1b3505221cf3c93684cd5f873d89729dddf7b8625d3d8bb582bc8ea06"
   }
  }
 },
 "nbformat": 4,
 "nbformat_minor": 2
}
