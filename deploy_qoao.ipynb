{
 "cells": [
  {
   "cell_type": "code",
   "execution_count": 11,
   "metadata": {},
   "outputs": [],
   "source": [
    "from qiskit_algorithms import QAOA\n",
    "from qiskit_algorithms.optimizers import COBYLA\n",
    "from qiskit_finance.applications.optimization import PortfolioOptimization\n",
    "from qiskit.result import QuasiDistribution\n",
    "from qiskit_optimization.algorithms import MinimumEigenOptimizer\n",
    "from qiskit.primitives import Sampler\n",
    "from qiskit import QuantumCircuit\n",
    "import numpy as np\n",
    "\n",
    "\n",
    "def processing(invocation_input):\n",
    "    mu = invocation_input['mu']\n",
    "    sigma = invocation_input['sigma']\n",
    "    global qp\n",
    "    qp = to_po(mu, sigma, budget=invocation_input['budget'], q=invocation_input['q'])\n",
    "    return QuantumCircuit(2)\n",
    "\n",
    "\n",
    "def post_processing(job_result):\n",
    "    result = qoao(qp)\n",
    "    print_result(result, qp)\n",
    "    return result.x\n",
    "\n",
    "\n",
    "def qoao(qp):\n",
    "    cobyla = COBYLA()\n",
    "    cobyla.set_options(maxiter=1000)\n",
    "    qaoa_mes = QAOA(sampler=Sampler(), optimizer=cobyla, reps=3)\n",
    "    qaoa = MinimumEigenOptimizer(qaoa_mes)\n",
    "    result = qaoa.solve(qp)\n",
    "    return result\n",
    "\n",
    "\n",
    "def to_po(mu, sigma, **kwargs):\n",
    "    q = kwargs['q']\n",
    "    budget = kwargs['budget']\n",
    "    if budget is None:\n",
    "        budget = len(sigma) // 2  # num_assets // 2\n",
    "    portfolio = PortfolioOptimization(\n",
    "        expected_returns=mu, covariances=sigma, risk_factor=q, budget=budget\n",
    "    )\n",
    "    qp = portfolio.to_quadratic_program()\n",
    "    return qp\n",
    "  \n",
    "def print_result(result, qp):\n",
    "    selection = result.x\n",
    "    value = result.fval\n",
    "    print(\"Optimal: selection {}, value {:.4f}\".format(selection, value))\n",
    "\n",
    "    eigenstate = result.min_eigen_solver_result.eigenstate\n",
    "    probabilities = (\n",
    "        eigenstate.binary_probabilities()\n",
    "        if isinstance(eigenstate, QuasiDistribution)\n",
    "        else {k: np.abs(v) ** 2 for k, v in eigenstate.to_dict().items()}\n",
    "    )\n",
    "    print(\"\\n----------------- Full result ---------------------\")\n",
    "    print(\"selection\\tvalue\\t\\tprobability\")\n",
    "    print(\"---------------------------------------------------\")\n",
    "    probabilities = sorted(probabilities.items(), key=lambda x: x[1], reverse=True)\n",
    "\n",
    "    for k, v in probabilities:\n",
    "        x = np.array([int(i) for i in list(reversed(k))])\n",
    "        value = qp.objective.evaluate(x)\n",
    "        print(\"%10s\\t%.4f\\t\\t%.4f\" % (x, value, v))"
   ]
  },
  {
   "cell_type": "code",
   "execution_count": null,
   "metadata": {},
   "outputs": [],
   "source": [
    "qiskit-algorithms\n",
    "qiskit-finance\n",
    "qiskit-optimization\n",
    "numpy"
   ]
  },
  {
   "cell_type": "code",
   "execution_count": 15,
   "metadata": {},
   "outputs": [
    {
     "name": "stdout",
     "output_type": "stream",
     "text": [
      "Optimal: selection [1. 0. 0. 1.], value 0.0027\n",
      "\n",
      "----------------- Full result ---------------------\n",
      "selection\tvalue\t\tprobability\n",
      "---------------------------------------------------\n",
      " [1 0 0 1]\t0.0027\t\t0.1690\n",
      " [0 1 0 1]\t0.0041\t\t0.1685\n",
      " [0 0 1 1]\t0.0058\t\t0.1677\n",
      " [1 1 0 0]\t0.0120\t\t0.1649\n",
      " [1 0 1 0]\t0.0136\t\t0.1641\n",
      " [0 1 1 0]\t0.0150\t\t0.1634\n",
      " [0 0 0 1]\t-0.0031\t\t0.0006\n",
      " [1 1 1 0]\t0.0218\t\t0.0005\n",
      " [1 1 1 1]\t0.0218\t\t0.0003\n",
      " [0 0 0 0]\t0.0000\t\t0.0003\n",
      " [1 1 0 1]\t0.0109\t\t0.0002\n",
      " [0 0 1 0]\t0.0079\t\t0.0001\n",
      " [1 0 1 1]\t0.0123\t\t0.0001\n",
      " [0 1 1 1]\t0.0143\t\t0.0001\n",
      " [0 1 0 0]\t0.0058\t\t0.0001\n",
      " [1 0 0 0]\t0.0051\t\t0.0000\n"
     ]
    },
    {
     "data": {
      "text/plain": [
       "[<MinimumEigenOptimizationResult: fval=0.002733603574296551, x_0=1.0, x_1=0.0, x_2=0.0, x_3=1.0, status=SUCCESS>,\n",
       " <QuadraticProgram: minimize 0.001543795*x_0^2 + 0.0010389*x_0*x_1 + 0.00067355..., 4 variables, 1 constraints, 'Portfolio optimization'>]"
      ]
     },
     "execution_count": 15,
     "metadata": {},
     "output_type": "execute_result"
    }
   ],
   "source": [
    "import data\n",
    "mu, sigma, asset_list = data.get_mu_sigma('asset.csv', 4)\n",
    "invocation_input = {\n",
    "    \"q\": 0.5,\n",
    "    \"mu\": [\n",
    "        -0.0035346909221779968,\n",
    "        -0.004927625199511683,\n",
    "        -0.00675916981502751,\n",
    "        0.0040393323478814455\n",
    "    ],\n",
    "    \"sigma\": [\n",
    "        [\n",
    "            0.00308759,\n",
    "            0.0010389,\n",
    "            0.00067355,\n",
    "            0.0007161\n",
    "        ],\n",
    "        [\n",
    "            0.0010389,\n",
    "            0.00183111,\n",
    "            0.00131204,\n",
    "            0.00130782\n",
    "        ],\n",
    "        [\n",
    "            0.00067355,\n",
    "            0.00131204,\n",
    "            0.00221604,\n",
    "            0.001021\n",
    "        ],\n",
    "        [\n",
    "            0.0007161,\n",
    "            0.00130782,\n",
    "            0.001021,\n",
    "            0.0019567\n",
    "        ]\n",
    "    ],\n",
    "    \"budget\": 2\n",
    "}\n",
    "job_result = processing(invocation_input)\n",
    "post_processing(job_result)"
   ]
  },
  {
   "cell_type": "code",
   "execution_count": 14,
   "metadata": {},
   "outputs": [
    {
     "data": {
      "text/plain": [
       "array([[0.00308759, 0.0010389 , 0.00067355, 0.0007161 ],\n",
       "       [0.0010389 , 0.00183111, 0.00131204, 0.00130782],\n",
       "       [0.00067355, 0.00131204, 0.00221604, 0.001021  ],\n",
       "       [0.0007161 , 0.00130782, 0.001021  , 0.0019567 ]])"
      ]
     },
     "execution_count": 14,
     "metadata": {},
     "output_type": "execute_result"
    }
   ],
   "source": [
    "sigma"
   ]
  }
 ],
 "metadata": {
  "kernelspec": {
   "display_name": "Python 3",
   "language": "python",
   "name": "python3"
  },
  "language_info": {
   "codemirror_mode": {
    "name": "ipython",
    "version": 3
   },
   "file_extension": ".py",
   "mimetype": "text/x-python",
   "name": "python",
   "nbconvert_exporter": "python",
   "pygments_lexer": "ipython3",
   "version": "3.10.9"
  }
 },
 "nbformat": 4,
 "nbformat_minor": 2
}
