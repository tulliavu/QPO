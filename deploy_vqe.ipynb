{
 "cells": [
  {
   "cell_type": "code",
   "execution_count": 8,
   "metadata": {},
   "outputs": [],
   "source": [
    "from qiskit_algorithms import SamplingVQE\n",
    "from qiskit_algorithms.optimizers import COBYLA\n",
    "from qiskit_finance.applications.optimization import PortfolioOptimization\n",
    "from qiskit.result import QuasiDistribution\n",
    "from qiskit_optimization.algorithms import MinimumEigenOptimizer\n",
    "from qiskit.primitives import Sampler\n",
    "from qiskit import QuantumCircuit\n",
    "from qiskit.circuit.library import TwoLocal\n",
    "import numpy as np\n",
    "\n",
    "\n",
    "def processing(invocation_input):\n",
    "    mu = invocation_input['mu']\n",
    "    sigma = invocation_input['sigma']\n",
    "    global qp\n",
    "    qp = to_po(mu, sigma, budget=invocation_input['budget'], q=invocation_input['q'])\n",
    "    return QuantumCircuit(2)\n",
    "\n",
    "\n",
    "def post_processing(job_result):\n",
    "    result = vqe(qp)\n",
    "    print_result(result, qp)\n",
    "    return result.x\n",
    "\n",
    "\n",
    "def vqe(qp):\n",
    "    num_assets = len(qp.variables)\n",
    "    cobyla = COBYLA()\n",
    "    cobyla.set_options(maxiter=1000)\n",
    "    svqe_mes = SamplingVQE(sampler=Sampler(), ansatz=TwoLocal(num_assets, \"ry\", \"cz\", reps=3, entanglement=\"full\"), optimizer=cobyla)\n",
    "    svqe = MinimumEigenOptimizer(svqe_mes)\n",
    "    result = svqe.solve(qp)\n",
    "    return result\n",
    "\n",
    "def to_po(mu, sigma, **kwargs):\n",
    "    q = kwargs['q']\n",
    "    budget = kwargs['budget']\n",
    "    if budget is None:\n",
    "        budget = len(sigma) // 2  # num_assets // 2\n",
    "    portfolio = PortfolioOptimization(\n",
    "        expected_returns=mu, covariances=sigma, risk_factor=q, budget=budget\n",
    "    )\n",
    "    qp = portfolio.to_quadratic_program()\n",
    "    return qp\n",
    "  \n",
    "def print_result(result, qp):\n",
    "    selection = result.x\n",
    "    value = result.fval\n",
    "    print(\"Optimal: selection {}, value {:.4f}\".format(selection, value))\n",
    "\n",
    "    eigenstate = result.min_eigen_solver_result.eigenstate\n",
    "    probabilities = (\n",
    "        eigenstate.binary_probabilities()\n",
    "        if isinstance(eigenstate, QuasiDistribution)\n",
    "        else {k: np.abs(v) ** 2 for k, v in eigenstate.to_dict().items()}\n",
    "    )\n",
    "    print(\"\\n----------------- Full result ---------------------\")\n",
    "    print(\"selection\\tvalue\\t\\tprobability\")\n",
    "    print(\"---------------------------------------------------\")\n",
    "    probabilities = sorted(probabilities.items(), key=lambda x: x[1], reverse=True)\n",
    "\n",
    "    for k, v in probabilities:\n",
    "        x = np.array([int(i) for i in list(reversed(k))])\n",
    "        value = qp.objective.evaluate(x)\n",
    "        print(\"%10s\\t%.4f\\t\\t%.4f\" % (x, value, v))"
   ]
  },
  {
   "cell_type": "code",
   "execution_count": null,
   "metadata": {},
   "outputs": [],
   "source": [
    "qiskit-algorithms\n",
    "qiskit-finance\n",
    "qiskit-optimization\n",
    "numpy"
   ]
  },
  {
   "cell_type": "code",
   "execution_count": 9,
   "metadata": {},
   "outputs": [
    {
     "name": "stdout",
     "output_type": "stream",
     "text": [
      "Optimal: selection [1. 0. 0. 1.], value 0.0027\n",
      "\n",
      "----------------- Full result ---------------------\n",
      "selection\tvalue\t\tprobability\n",
      "---------------------------------------------------\n",
      " [0 0 1 1]\t0.0058\t\t0.5260\n",
      " [1 0 0 1]\t0.0027\t\t0.3733\n",
      " [0 1 1 0]\t0.0150\t\t0.0800\n",
      " [1 1 0 0]\t0.0120\t\t0.0201\n",
      " [0 1 0 1]\t0.0041\t\t0.0005\n",
      " [1 1 0 1]\t0.0109\t\t0.0000\n",
      " [0 1 1 1]\t0.0143\t\t0.0000\n",
      " [0 1 0 0]\t0.0058\t\t0.0000\n",
      " [0 0 1 0]\t0.0079\t\t0.0000\n",
      " [1 1 1 0]\t0.0218\t\t0.0000\n",
      " [1 0 0 0]\t0.0051\t\t0.0000\n",
      " [1 0 1 1]\t0.0123\t\t0.0000\n",
      " [1 0 1 0]\t0.0136\t\t0.0000\n",
      " [0 0 0 1]\t-0.0031\t\t0.0000\n",
      " [0 0 0 0]\t0.0000\t\t0.0000\n",
      " [1 1 1 1]\t0.0218\t\t0.0000\n"
     ]
    },
    {
     "data": {
      "text/plain": [
       "array([1., 0., 0., 1.])"
      ]
     },
     "execution_count": 9,
     "metadata": {},
     "output_type": "execute_result"
    }
   ],
   "source": [
    "import data\n",
    "mu, sigma, asset_list = data.get_mu_sigma('asset.csv', 4)\n",
    "invocation_input = {\n",
    "    \"q\": 0.5,\n",
    "    \"mu\": [\n",
    "        -0.0035346909221779968,\n",
    "        -0.004927625199511683,\n",
    "        -0.00675916981502751,\n",
    "        0.0040393323478814455\n",
    "    ],\n",
    "    \"sigma\": [\n",
    "        [\n",
    "            0.00308759,\n",
    "            0.0010389,\n",
    "            0.00067355,\n",
    "            0.0007161\n",
    "        ],\n",
    "        [\n",
    "            0.0010389,\n",
    "            0.00183111,\n",
    "            0.00131204,\n",
    "            0.00130782\n",
    "        ],\n",
    "        [\n",
    "            0.00067355,\n",
    "            0.00131204,\n",
    "            0.00221604,\n",
    "            0.001021\n",
    "        ],\n",
    "        [\n",
    "            0.0007161,\n",
    "            0.00130782,\n",
    "            0.001021,\n",
    "            0.0019567\n",
    "        ]\n",
    "    ],\n",
    "    \"budget\": 2\n",
    "}\n",
    "job_result = processing(invocation_input)\n",
    "post_processing(job_result)"
   ]
  },
  {
   "cell_type": "code",
   "execution_count": 7,
   "metadata": {},
   "outputs": [
    {
     "data": {
      "text/plain": [
       "4"
      ]
     },
     "execution_count": 7,
     "metadata": {},
     "output_type": "execute_result"
    }
   ],
   "source": [
    "qp = to_po(mu, sigma, budget=2, q=0.5)\n",
    "len(qp.variables)"
   ]
  }
 ],
 "metadata": {
  "kernelspec": {
   "display_name": "Python 3",
   "language": "python",
   "name": "python3"
  },
  "language_info": {
   "codemirror_mode": {
    "name": "ipython",
    "version": 3
   },
   "file_extension": ".py",
   "mimetype": "text/x-python",
   "name": "python",
   "nbconvert_exporter": "python",
   "pygments_lexer": "ipython3",
   "version": "3.10.9"
  }
 },
 "nbformat": 4,
 "nbformat_minor": 2
}
